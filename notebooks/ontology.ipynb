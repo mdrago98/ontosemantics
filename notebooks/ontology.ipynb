{
 "cells": [
  {
   "metadata": {},
   "cell_type": "markdown",
   "source": [
    "# Building Machines that Learn to Learn: Self improving Rag for Biomedical Research\n",
    "\n",
    "How I'm approaching the hallucination problem in LLm knowledge mining without expensive retraining.\n",
    "\n",
    "---\n",
    "\n",
    "\n",
    "## The problem\n",
    "\n",
    "Imagine an LLm powered assistant confidently telling a researcher or a patient that a drug treats hypertension when in fact it's a known fact that this drug might increase blood pressure. In other domains this might be embarrassing in this field it's dangerous. At the time of writing, there are over 6 million articles archived in PubMed Central with biocurators archiving and annotating findings from these articles. With LLms this task has become easier but still needs manual verification due to the high stakes nature of this problem.\n",
    "\n",
    "In the article below I'm going to show a brief extract from my work in OntoSemantics of how we can use ground truth knowledge from ontologies to inform the LLm about the context of the paper and let known truth guide the processing of extracting new novel relationships.\n",
    "\n",
    "## Approach\n",
    "\n",
    "The approach outlined in this post will follow this structure similar to traditional RAG systems:\n",
    "\n",
    "```\n",
    "Query  -----------------------Augment context-------------> Generate Answer\n",
    " |                                  ^\n",
    " |                                  |\n",
    " -> Static Knowledge Base -> Retrieve Information\n",
    "```\n",
    "\n",
    "However, the work we're proposing will flip this around a bit\n",
    "\n",
    "```\n",
    "\n",
    "Query ----------------------Augment context-------------> Generate Answer\n",
    " |                                  ^                            |\n",
    " |                                  |                            |\n",
    " ->  Knowledge Base -> Retrieve Information                      |\n",
    "           ^                                                     |\n",
    "           |                                                     |\n",
    "           |                                                     |\n",
    "           <-----Apply reasoning techniques---<-Integrate---------\n",
    "```\n",
    "\n",
    "which in theory will create a feedback loop where generated answers will be enriched by known ground truth and improve the knowledge base we'll discuss in a later blog post.\n",
    "\n",
    "## Processing\n",
    "\n",
    "Let us start by loading in our dataset. I will be using some samples from the [BIORed challenge](https://academic.oup.com/bib/article/doi/10.1093/bib/bbac282/6645993) which consists of around ~400 curated abstracts from Pubmed central ideal for training in bioc format.\n",
    "\n",
    "We can use the help of a package called bioc to read the xml file and process each abstract's relationships and entities using the ```process_document``` function below\n"
   ],
   "id": "98dfc276454d58f3"
  },
  {
   "metadata": {
    "ExecuteTime": {
     "end_time": "2025-06-11T08:20:29.819012Z",
     "start_time": "2025-06-11T08:20:29.573999Z"
    }
   },
   "cell_type": "code",
   "source": [
    "import pandas as pd\n",
    "from bioc import biocxml\n",
    "\n",
    "from knowledge_engine.models.ontology_match import OntologyMatch\n",
    "from notebooks.processing_utils import parse_document\n",
    "from typing import Dict"
   ],
   "id": "5a49c4ec1a9d4544",
   "outputs": [],
   "execution_count": 1
  },
  {
   "metadata": {
    "ExecuteTime": {
     "end_time": "2025-06-11T08:20:30.017914Z",
     "start_time": "2025-06-11T08:20:29.822255Z"
    }
   },
   "cell_type": "code",
   "source": [
    "with open('../data/BioRED/Train.BioC.XML', 'r') as bio_red_file:\n",
    "    collection = biocxml.load(bio_red_file)"
   ],
   "id": "a2e962bf2aaa4baa",
   "outputs": [],
   "execution_count": 2
  },
  {
   "metadata": {
    "ExecuteTime": {
     "end_time": "2025-06-11T08:20:30.070157Z",
     "start_time": "2025-06-11T08:20:30.057209Z"
    }
   },
   "cell_type": "code",
   "source": "processed_dataset = pd.DataFrame([parse_document(doc) for doc in collection.documents])",
   "id": "1321ad5675d6c4bf",
   "outputs": [],
   "execution_count": 3
  },
  {
   "metadata": {
    "ExecuteTime": {
     "end_time": "2025-06-11T08:20:30.121902Z",
     "start_time": "2025-06-11T08:20:30.110845Z"
    }
   },
   "cell_type": "code",
   "source": "processed_dataset.head()",
   "id": "3a62a02328f2cea3",
   "outputs": [
    {
     "data": {
      "text/plain": [
       "                                           relations  \\\n",
       "0  [StoredRelationship(subject=StoredEntity(text=...   \n",
       "1  [StoredRelationship(subject=StoredEntity(text=...   \n",
       "2  [StoredRelationship(subject=StoredEntity(text=...   \n",
       "3  [StoredRelationship(subject=StoredEntity(text=...   \n",
       "4  [StoredRelationship(subject=StoredEntity(text=...   \n",
       "\n",
       "                                                text  \\\n",
       "0  Hepatocyte nuclear factor-6: associations betw...   \n",
       "1  Langerin, a novel C-type lectin specific to La...   \n",
       "2  Founder mutations in the BRCA1 gene in Polish ...   \n",
       "3  Apomorphine: an underutilized therapy for Park...   \n",
       "4  Rab6c, a new member of the rab gene family, is...   \n",
       "\n",
       "                                         annotations  \n",
       "0  {'3175': [StoredEntity(text='Hepatocyte nuclea...  \n",
       "1  {'50489': [StoredEntity(text='Langerin', canon...  \n",
       "2  {'672': [StoredEntity(text='BRCA1', canonical_...  \n",
       "3  {'D001058': [StoredEntity(text='Apomorphine', ...  \n",
       "4  {'84084': [StoredEntity(text='Rab6c', canonica...  "
      ],
      "text/html": [
       "<div>\n",
       "<style scoped>\n",
       "    .dataframe tbody tr th:only-of-type {\n",
       "        vertical-align: middle;\n",
       "    }\n",
       "\n",
       "    .dataframe tbody tr th {\n",
       "        vertical-align: top;\n",
       "    }\n",
       "\n",
       "    .dataframe thead th {\n",
       "        text-align: right;\n",
       "    }\n",
       "</style>\n",
       "<table border=\"1\" class=\"dataframe\">\n",
       "  <thead>\n",
       "    <tr style=\"text-align: right;\">\n",
       "      <th></th>\n",
       "      <th>relations</th>\n",
       "      <th>text</th>\n",
       "      <th>annotations</th>\n",
       "    </tr>\n",
       "  </thead>\n",
       "  <tbody>\n",
       "    <tr>\n",
       "      <th>0</th>\n",
       "      <td>[StoredRelationship(subject=StoredEntity(text=...</td>\n",
       "      <td>Hepatocyte nuclear factor-6: associations betw...</td>\n",
       "      <td>{'3175': [StoredEntity(text='Hepatocyte nuclea...</td>\n",
       "    </tr>\n",
       "    <tr>\n",
       "      <th>1</th>\n",
       "      <td>[StoredRelationship(subject=StoredEntity(text=...</td>\n",
       "      <td>Langerin, a novel C-type lectin specific to La...</td>\n",
       "      <td>{'50489': [StoredEntity(text='Langerin', canon...</td>\n",
       "    </tr>\n",
       "    <tr>\n",
       "      <th>2</th>\n",
       "      <td>[StoredRelationship(subject=StoredEntity(text=...</td>\n",
       "      <td>Founder mutations in the BRCA1 gene in Polish ...</td>\n",
       "      <td>{'672': [StoredEntity(text='BRCA1', canonical_...</td>\n",
       "    </tr>\n",
       "    <tr>\n",
       "      <th>3</th>\n",
       "      <td>[StoredRelationship(subject=StoredEntity(text=...</td>\n",
       "      <td>Apomorphine: an underutilized therapy for Park...</td>\n",
       "      <td>{'D001058': [StoredEntity(text='Apomorphine', ...</td>\n",
       "    </tr>\n",
       "    <tr>\n",
       "      <th>4</th>\n",
       "      <td>[StoredRelationship(subject=StoredEntity(text=...</td>\n",
       "      <td>Rab6c, a new member of the rab gene family, is...</td>\n",
       "      <td>{'84084': [StoredEntity(text='Rab6c', canonica...</td>\n",
       "    </tr>\n",
       "  </tbody>\n",
       "</table>\n",
       "</div>"
      ]
     },
     "execution_count": 4,
     "metadata": {},
     "output_type": "execute_result"
    }
   ],
   "execution_count": 4
  },
  {
   "metadata": {},
   "cell_type": "markdown",
   "source": [
    "The function gives us a dataset of three columns:\n",
    " 1. **Relations:** The relationships as a list of StoredRelationship objects\n",
    " 2. **Text:** the text of the abstract\n",
    " 3. **Annotations:** the annotations which are named entities found in the text. These are stored as a dictionary annotated by an id and a list of StoredEntity objects as an annotation is usually found in multiple places across the abstract. This would come in handy if we were to train a Named Entity Recognition or a Relationship Extraction model from scratch but since we're going to use an llm for processing this time round we can gloss over this bit."
   ],
   "id": "f105f31233e0c4e2"
  },
  {
   "metadata": {},
   "cell_type": "markdown",
   "source": [
    "## Methodology\n",
    "\n",
    "Now that we have the processed the dataset at hand and can work with it, we can run some experiments. We want to measure the impact of context and context types on the prompt passed to the llm to enable it to effectively extract the relationships out of the abstract. The way we want to evaluate this is by first using the plain prompt and measure its performance, then we are going to run an experiment by just passing the annotations that the llm should focus on when forming the relationships, and finally we're going to be passing the enriched relationships from the relevant ontologies.\n",
    "\n",
    "### Prompt and Model\n",
    "\n",
    "Since we're going to be working with an LLM we'll be using the following prompt which we're going to use a template and built into the ```LLmExtractor``` Class which follows basic prompt engineering techniques... ie describe the role, add the required text, instruct the LLM it's role, only allow it to return valid JSON. The aim of this blog is to force the llm to extract meaningful relationships without explicit tuning.\n",
    "```\n",
    "You are a biomedical expert analyzing scientific literature. Extract relationships between biomedical entities from the given text.\n",
    "\n",
    "Text: {text}\n",
    "\n",
    "Instructions:\n",
    "1. Identify biomedical entities (diseases, drugs, genes, symptoms, etc.)\n",
    "2. Find explicit relationships between these entities\n",
    "3. Return relationships in JSON format with high confidence only\n",
    "\n",
    "Return ONLY a JSON array with this exact format:\n",
    "[\n",
    "  {{\n",
    "    \"subject\": \"entity1\",\n",
    "    \"predicate\": \"relationship_type\",\n",
    "    \"object\": \"entity2\",\n",
    "    \"evidence\": \"exact text supporting this relationship\",\n",
    "    \"confidence\": 0.85\n",
    "  }}\n",
    "]\n",
    "\n",
    "Valid relationship types: causes, treats, increases_risk_for, decreases_risk_for, biomarker_for, positive_correlation, negative_correlation, association, bind, prevents\n",
    "\n",
    "Focus on explicit, clear relationships. Avoid speculation.\n",
    "\n",
    "JSON:\n",
    "```\n",
    "\n",
    "The model we'll be using is [gemma3:1b](https://ollama.com/library/gemma3) which is a small quantised model built and maintained by google designed to run on mobile devices. While it scores well in a variety of benchmarks it's not the latest and greatest model ever, however it should be more than enough for this use case. __Note__ this class assumes that you have an OLlama instance running with gemma3."
   ],
   "id": "768699422f98f8ac"
  },
  {
   "metadata": {
    "ExecuteTime": {
     "end_time": "2025-06-11T08:20:30.831036Z",
     "start_time": "2025-06-11T08:20:30.210541Z"
    }
   },
   "cell_type": "code",
   "source": [
    "from nlp_processor.llm_extractor import LLMRelationshipExtractor\n",
    "\n",
    "relationship_extractor = LLMRelationshipExtractor('gemma3:1b')\n",
    "relationship_extractor"
   ],
   "id": "2fcd612af9bf184f",
   "outputs": [
    {
     "name": "stderr",
     "output_type": "stream",
     "text": [
      "/Users/drago/PycharmProjects/bioengine/bioengine/nlp_processor/llm_extractor.py:102: LangChainDeprecationWarning: The class `Ollama` was deprecated in LangChain 0.3.1 and will be removed in 1.0.0. An updated version of the class exists in the :class:`~langchain-ollama package and should be used instead. To use it run `pip install -U :class:`~langchain-ollama` and import as `from :class:`~langchain_ollama import OllamaLLM``.\n",
      "  return Ollama(model=self.model_name, temperature=0.1, base_url=\"http://localhost:11434\")\n"
     ]
    },
    {
     "data": {
      "text/plain": [
       "<nlp_processor.llm_extractor.LLMRelationshipExtractor at 0x175164fe0>"
      ]
     },
     "execution_count": 5,
     "metadata": {},
     "output_type": "execute_result"
    }
   ],
   "execution_count": 5
  },
  {
   "metadata": {},
   "cell_type": "markdown",
   "source": [
    "### Metrics\n",
    "\n",
    "First things first we need to discuss the evaluation metrics we're going to use to compare the experiments. In this case we can treat the problem like a classification problem where the model decides if the relationship exists or not. This means we can use the standard classification metrics we've come to know but I'll include them as a refresher below.\n",
    "\n",
    "#### Confusion Matrix\n",
    "Let's establish our ground truth first... for each potential relationship in our evaluation set, the model's prediction can land in four possible outcomes:\n",
    "\n",
    "**True Positives (TP)**: Relationships that actually exist in the text and our model correctly identified\n",
    "**False Positives (FP)**: Relationships that don't exist in the text but our model incorrectly claimed they do\n",
    "**False Negatives (FN)**: Relationships that exist in the text but our model failed to identify\n",
    "**True Negatives (TN)**: Relationships that don't exist in the text and our model correctly identified as non-existent\n",
    "\n",
    "#### Core metrics\n",
    "\n",
    "Given these outcomes we can define:\n",
    "- **Precision**: measures how many of the relationships our model extracted are actually correct: $ \\text{Precision} = \\frac{TP}{TP + FP} $\n",
    "- **Recall**: (also known as sensitivity) measures how many of the actual relationships in the text our model successfully captured: $ \\text{Recall} = \\frac{TP}{TP + FN} $\n",
    "- **F1 Score**: provides a balanced measure that considers both precision and recall:\n",
    "$\\text{F1} = 2 \\times \\frac{\\text{Precision} \\times \\text{Recall}}{\\text{Precision} + \\text{Recall}} $\n",
    "\n",
    "Since we're comparing the plain prompt against the annotation-focused approach and finally the ontology-enriched version, these metrics will reveal different aspects of improvement:\n",
    "\n",
    "- Precision improvements will show us whether adding context helps the model make more accurate relationship predictions\n",
    "- Recall improvements will indicate whether richer context helps the model discover relationships it would otherwise miss\n",
    "- F1-score changes will give us the overall picture of whether our context enrichment strategies genuinely improve relationship extraction performance\n",
    "\n",
    "For the sake of convenience and brevity,  I included the Relationship evaluator class below which will allow us to compute these metrics easily.\n"
   ],
   "id": "e5564d8224d1e505"
  },
  {
   "metadata": {
    "ExecuteTime": {
     "end_time": "2025-06-11T08:20:30.859410Z",
     "start_time": "2025-06-11T08:20:30.854967Z"
    }
   },
   "cell_type": "code",
   "source": [
    "from utils.eval import RelationshipEvaluator\n",
    "\n",
    "evaluator = RelationshipEvaluator(matching_strategy=\"fuzzy\")"
   ],
   "id": "652b4af06fe6a50e",
   "outputs": [],
   "execution_count": 6
  },
  {
   "metadata": {
    "ExecuteTime": {
     "end_time": "2025-06-11T08:20:53.611781Z",
     "start_time": "2025-06-11T08:20:30.902241Z"
    }
   },
   "cell_type": "code",
   "source": "extracted_relationships_no_context = relationship_extractor.extract_relationships(processed_dataset.loc[0, 'text'], )",
   "id": "3269f3f6d4e02d4",
   "outputs": [
    {
     "name": "stdout",
     "output_type": "stream",
     "text": [
      "2025-06-11 10:20:30,913 - urllib3.connectionpool - DEBUG - Starting new HTTP connection (1): localhost:11434\n",
      "2025-06-11 10:20:32,331 - urllib3.connectionpool - DEBUG - http://localhost:11434 \"POST /api/generate HTTP/1.1\" 200 None\n",
      "2025-06-11 10:20:43,103 - urllib3.connectionpool - DEBUG - Starting new HTTP connection (1): localhost:11434\n",
      "2025-06-11 10:20:43,638 - urllib3.connectionpool - DEBUG - http://localhost:11434 \"POST /api/generate HTTP/1.1\" 200 None\n"
     ]
    }
   ],
   "execution_count": 7
  },
  {
   "metadata": {
    "ExecuteTime": {
     "end_time": "2025-06-11T08:20:53.629614Z",
     "start_time": "2025-06-11T08:20:53.625855Z"
    }
   },
   "cell_type": "code",
   "source": [
    "def format_relationships(relations):\n",
    "    return '\\n'.join({' -> '.join([relation.subject, relation.predicate, relation.object]) for relation in relations})\n",
    "print(format_relationships(extracted_relationships_no_context))"
   ],
   "id": "9c840e1c5f520149",
   "outputs": [
    {
     "name": "stdout",
     "output_type": "stream",
     "text": [
      "Type II diabetes mellitus -> genetic_variability -> HNF-6 gene\n",
      "Type II diabetes mellitus -> genetic_variability -> MODY1, MODY3, MODY4 genes\n",
      "Type II diabetes mellitus -> treats -> Maturity-onset diabetes of the young\n",
      "Type II diabetes mellitus -> estimates_of_insulin_secretion -> Insulin secretion\n",
      "Type II diabetes mellitus -> glucose_induced_serum_insulin -> Serum insulin\n",
      "Type II diabetes mellitus -> decreases_risk_for -> Glucose tolerant subjects\n",
      "Type II diabetes mellitus -> increases_risk_for -> Genetic variability\n",
      "Type II diabetes mellitus -> glucose_induced_serum_c_peptide -> C-peptide\n"
     ]
    }
   ],
   "execution_count": 8
  },
  {
   "metadata": {},
   "cell_type": "markdown",
   "source": [
    "Without any context we can see that the model produced a number of hallucinated responses back, these two relationships are particularly funny:\n",
    "```\n",
    "Type II diabetes mellitus -> increases_risk_for -> Glucose tolerant subjects\n",
    "Type II diabetes mellitus -> decreases_risk_for -> Glucose tolerant subjects\n",
    "```\n",
    "\n",
    "Beyond the obvious contradiction i.e. ... the same condition cannot both increase AND decrease risk for the same outcome apart from the fact the subject and the object of the relationships are wrong (Glucose tolerant subject would have a decreased risk of Diabetes), we can see that the predicates themselves don't follow our instructed format.\n",
    "\n",
    "One might argue that we could post-process these contradictions after the initial query, but:\n",
    " - it requires additional computational overhead\n",
    " - and most importantly: *doesn't* address the root cause of hallucination,\n",
    " - it may miss more subtle inconsistencies that aren't as obviously contradictory.\n"
   ],
   "id": "8d54be23d2493eaf"
  },
  {
   "metadata": {
    "ExecuteTime": {
     "end_time": "2025-06-11T08:20:53.688281Z",
     "start_time": "2025-06-11T08:20:53.684574Z"
    }
   },
   "cell_type": "code",
   "source": [
    "evaluation_no_context = evaluator.evaluate(extracted_relationships_no_context, processed_dataset.loc[0, 'relations'])\n",
    "evaluation_no_context.overall_metrics"
   ],
   "id": "27401bf769dcdba7",
   "outputs": [
    {
     "data": {
      "text/plain": [
       "PerformanceMetrics(precision=0.0, recall=0.0, f1_score=0.0, true_positives=0, false_positives=9, false_negatives=3, support=3)"
      ]
     },
     "execution_count": 9,
     "metadata": {},
     "output_type": "execute_result"
    }
   ],
   "execution_count": 9
  },
  {
   "metadata": {},
   "cell_type": "markdown",
   "source": [
    "The performance metrics in this document speak for themselves with an fscore of 0 and 8 false positives and 3 false negatives.\n",
    "\n",
    "#### Entity injection\n",
    "\n",
    "Let's run another experiment where we add the annotations to the context. Note this isn't cheating as we're evaluating the model purely on relationship extraction so helping the model with the entities it should focus on should shope it further on the task at hand."
   ],
   "id": "a3040d935ad2b182"
  },
  {
   "metadata": {
    "ExecuteTime": {
     "end_time": "2025-06-11T08:20:53.767025Z",
     "start_time": "2025-06-11T08:20:53.764316Z"
    }
   },
   "cell_type": "code",
   "source": "[annotation[0].canonical_name for annotation in processed_dataset.loc[0, 'annotations'].values()]",
   "id": "6ae3963d8acf9fd5",
   "outputs": [
    {
     "data": {
      "text/plain": [
       "['Hepatocyte nuclear factor-6',\n",
       " 'type II diabetes',\n",
       " 'insulin',\n",
       " 'glucose',\n",
       " 'MODY',\n",
       " 'MODY1',\n",
       " 'MODY3',\n",
       " 'MODY4',\n",
       " 'patients',\n",
       " 'Pro75 Ala']"
      ]
     },
     "execution_count": 10,
     "metadata": {},
     "output_type": "execute_result"
    }
   ],
   "execution_count": 10
  },
  {
   "metadata": {
    "ExecuteTime": {
     "end_time": "2025-06-11T08:21:20.701024Z",
     "start_time": "2025-06-11T08:20:53.777281Z"
    }
   },
   "cell_type": "code",
   "source": "extracted_relationships_entities = relationship_extractor.extract_relationships(processed_dataset.loc[0, 'text'], context={'entities': [annotation[0].canonical_name for annotation in processed_dataset.loc[0, 'annotations'].values()]})",
   "id": "96b625757a4eb20f",
   "outputs": [
    {
     "name": "stdout",
     "output_type": "stream",
     "text": [
      "2025-06-11 10:20:53,779 - urllib3.connectionpool - DEBUG - Starting new HTTP connection (1): localhost:11434\n",
      "2025-06-11 10:20:54,099 - urllib3.connectionpool - DEBUG - http://localhost:11434 \"POST /api/generate HTTP/1.1\" 200 None\n",
      "2025-06-11 10:21:07,659 - urllib3.connectionpool - DEBUG - Starting new HTTP connection (1): localhost:11434\n",
      "2025-06-11 10:21:08,261 - urllib3.connectionpool - DEBUG - http://localhost:11434 \"POST /api/generate HTTP/1.1\" 200 None\n"
     ]
    }
   ],
   "execution_count": 11
  },
  {
   "metadata": {
    "ExecuteTime": {
     "end_time": "2025-06-11T08:21:20.768942Z",
     "start_time": "2025-06-11T08:21:20.766978Z"
    }
   },
   "cell_type": "code",
   "source": "print(format_relationships(extracted_relationships_entities))",
   "id": "b30618b1717e8b11",
   "outputs": [
    {
     "name": "stdout",
     "output_type": "stream",
     "text": [
      "Hepatocyte nuclear factor-6 -> association -> genetic variability\n",
      "MODY4 -> association -> Type II diabetes\n",
      "Type II diabetes -> increases_risk_for -> genetic variability\n",
      "Type II diabetes -> treats -> insulin secretion\n",
      "Hepatocyte nuclear factor-6 -> association -> Type II diabetes\n",
      "MODY3 -> association -> Type II diabetes\n",
      "patients -> experiences -> late-onset Type II diabetes\n",
      "MODY1 -> association -> Type II diabetes\n"
     ]
    }
   ],
   "execution_count": 12
  },
  {
   "metadata": {
    "ExecuteTime": {
     "end_time": "2025-06-11T08:21:20.811126Z",
     "start_time": "2025-06-11T08:21:20.808251Z"
    }
   },
   "cell_type": "code",
   "source": [
    "evaluation_entities = evaluator.evaluate(extracted_relationships_entities, processed_dataset.loc[0, 'relations'])\n",
    "evaluation_entities.overall_metrics"
   ],
   "id": "223bd8934887720b",
   "outputs": [
    {
     "data": {
      "text/plain": [
       "PerformanceMetrics(precision=0.08333333333333333, recall=0.3333333333333333, f1_score=0.13333333333333333, true_positives=1, false_positives=11, false_negatives=2, support=3)"
      ]
     },
     "execution_count": 13,
     "metadata": {},
     "output_type": "execute_result"
    }
   ],
   "execution_count": 13
  },
  {
   "metadata": {},
   "cell_type": "markdown",
   "source": [
    "Whilst we're improving on the baseline we can still do significantly better than this. An f1_score of 0.15 is frankly abysmal for any practical application. And we're also greeted by another amusing hallucination::\n",
    " ```Type II diabetes -> treats -> insulin secretion```\n",
    "\n",
    "This relationship demonstrates a fundamental misunderstanding of causality - diseases don't \"treat\" biological processes. This suggests that even with basic context, the model still struggles with domain-specific reasoning and appropriate predicate selection.\n",
    "\n",
    "#### Ontological Context\n",
    "\n",
    "In the following experiment we're going to include the canonical knowledge to help guide the llm infer and new relationships from the abstract we passed to it. To do this we're going to load some popular ontologies relevant to this case (MONDO(disease ontology), GO(gene ontology), and HP(the phenotype ontology)) through this OntologyManager class"
   ],
   "id": "7ac1e8269711a1e5"
  },
  {
   "metadata": {
    "ExecuteTime": {
     "end_time": "2025-06-11T08:21:21.319235Z",
     "start_time": "2025-06-11T08:21:20.847696Z"
    }
   },
   "cell_type": "code",
   "source": [
    "from pathlib import Path\n",
    "from importlib import reload\n",
    "import knowledge_engine.ontology_manager as ontology_manager\n",
    "reload(ontology_manager)\n"
   ],
   "id": "21fdc3a5d7b7e913",
   "outputs": [
    {
     "data": {
      "text/plain": [
       "<module 'knowledge_engine.ontology_manager' from '/Users/drago/PycharmProjects/bioengine/bioengine/knowledge_engine/ontology_manager.py'>"
      ]
     },
     "execution_count": 14,
     "metadata": {},
     "output_type": "execute_result"
    }
   ],
   "execution_count": 14
  },
  {
   "metadata": {
    "jupyter": {
     "is_executing": true
    },
    "ExecuteTime": {
     "start_time": "2025-06-11T08:21:21.357151Z"
    }
   },
   "cell_type": "code",
   "source": "extracted_relationships_entities = relationship_extractor.extract_relationships(processed_dataset.loc[0, 'text'], context={'entities': [annotation[0].canonical_name for annotation in processed_dataset.loc[0, 'annotations'].values()]})",
   "id": "e748142e7327b165",
   "outputs": [
    {
     "name": "stdout",
     "output_type": "stream",
     "text": [
      "2025-06-11 10:21:21,360 - urllib3.connectionpool - DEBUG - Starting new HTTP connection (1): localhost:11434\n",
      "2025-06-11 10:21:21,692 - urllib3.connectionpool - DEBUG - http://localhost:11434 \"POST /api/generate HTTP/1.1\" 200 None\n"
     ]
    }
   ],
   "execution_count": null
  },
  {
   "metadata": {
    "ExecuteTime": {
     "end_time": "2025-06-11T07:14:07.516373Z",
     "start_time": "2025-06-11T07:14:01.277040Z"
    }
   },
   "cell_type": "code",
   "source": "om = ontology_manager.OntologyManager(ontology_dir=Path('../data/ontologies'))",
   "id": "d259fb8b7e1daef4",
   "outputs": [
    {
     "name": "stdout",
     "output_type": "stream",
     "text": [
      "Loading mondo...\n"
     ]
    },
    {
     "name": "stderr",
     "output_type": "stream",
     "text": [
      "/Users/drago/PycharmProjects/bioengine/bioengine/knowledge_engine/ontology_manager.py:75: UnicodeWarning: unsound encoding, assuming utf-8 (99% confidence)\n",
      "  self.ontologies[onto_name] = pronto.Ontology(str(obo_file))\n"
     ]
    },
    {
     "name": "stdout",
     "output_type": "stream",
     "text": [
      "✅ mondo: 56695 terms\n",
      "Loading hp...\n",
      "2025-06-11 09:14:03,974 - chardet.charsetprober - DEBUG - EUC-TW Taiwan prober hit error at byte 989\n",
      "2025-06-11 09:14:03,988 - chardet.charsetprober - DEBUG - utf-8  confidence = 0.505\n",
      "2025-06-11 09:14:03,989 - chardet.charsetprober - DEBUG - SHIFT_JIS Japanese confidence = 0.01\n",
      "2025-06-11 09:14:03,989 - chardet.charsetprober - DEBUG - EUC-JP Japanese confidence = 0.01\n",
      "2025-06-11 09:14:03,989 - chardet.charsetprober - DEBUG - GB2312 Chinese confidence = 0.01\n",
      "2025-06-11 09:14:03,989 - chardet.charsetprober - DEBUG - EUC-KR Korean confidence = 0.01\n",
      "2025-06-11 09:14:03,990 - chardet.charsetprober - DEBUG - CP949 Korean confidence = 0.01\n",
      "2025-06-11 09:14:03,990 - chardet.charsetprober - DEBUG - Big5 Chinese confidence = 0.01\n",
      "2025-06-11 09:14:03,990 - chardet.charsetprober - DEBUG - EUC-TW not active\n",
      "2025-06-11 09:14:03,990 - chardet.charsetprober - DEBUG - Johab Korean confidence = 0.01\n",
      "2025-06-11 09:14:03,991 - chardet.charsetprober - DEBUG - windows-1251 Russian confidence = 0.01\n",
      "2025-06-11 09:14:03,991 - chardet.charsetprober - DEBUG - KOI8-R Russian confidence = 0.01\n",
      "2025-06-11 09:14:03,991 - chardet.charsetprober - DEBUG - ISO-8859-5 Russian confidence = 0.0\n",
      "2025-06-11 09:14:03,991 - chardet.charsetprober - DEBUG - MacCyrillic Russian confidence = 0.01\n",
      "2025-06-11 09:14:03,991 - chardet.charsetprober - DEBUG - IBM866 Russian confidence = 0.01\n",
      "2025-06-11 09:14:03,992 - chardet.charsetprober - DEBUG - IBM855 Russian confidence = 0.01\n",
      "2025-06-11 09:14:03,992 - chardet.charsetprober - DEBUG - ISO-8859-7 Greek confidence = 0.0\n",
      "2025-06-11 09:14:03,992 - chardet.charsetprober - DEBUG - windows-1253 Greek confidence = 0.01\n",
      "2025-06-11 09:14:03,992 - chardet.charsetprober - DEBUG - ISO-8859-5 Bulgarian confidence = 0.0\n",
      "2025-06-11 09:14:03,993 - chardet.charsetprober - DEBUG - windows-1251 Bulgarian confidence = 0.01\n",
      "2025-06-11 09:14:03,993 - chardet.charsetprober - DEBUG - TIS-620 Thai confidence = 0.30841818174528296\n",
      "2025-06-11 09:14:03,993 - chardet.charsetprober - DEBUG - ISO-8859-9 Turkish confidence = 0.5675051308463018\n",
      "2025-06-11 09:14:03,993 - chardet.charsetprober - DEBUG - windows-1255 Hebrew confidence = 0.0\n",
      "2025-06-11 09:14:03,993 - chardet.charsetprober - DEBUG - windows-1255 Hebrew confidence = 0.10888457480138002\n",
      "2025-06-11 09:14:03,993 - chardet.charsetprober - DEBUG - windows-1255 Hebrew confidence = 0.10888457480138002\n"
     ]
    },
    {
     "name": "stderr",
     "output_type": "stream",
     "text": [
      "/Users/drago/PycharmProjects/bioengine/bioengine/knowledge_engine/ontology_manager.py:75: UnicodeWarning: unsound encoding, assuming ISO-8859-1 (73% confidence)\n",
      "  self.ontologies[onto_name] = pronto.Ontology(str(obo_file))\n"
     ]
    },
    {
     "name": "stdout",
     "output_type": "stream",
     "text": [
      "✅ hp: 19653 terms\n",
      "Loading go...\n",
      "✅ go: 48106 terms\n",
      "Loading cl...\n",
      "❌ Failed to load cl: expected EOL, QuotedString, RFC3987_IriPctEncoded, or RFC3987_IriUCSChar (cl.obo, line 181636)\n",
      "Loading uberon...\n"
     ]
    },
    {
     "name": "stderr",
     "output_type": "stream",
     "text": [
      "/opt/homebrew/Caskroom/mambaforge/base/envs/ontosemantics/lib/python3.12/site-packages/pronto/parsers/_fastobo.py:49: NotImplementedWarning: cannot process `treat-xrefs-as-equivalent: AEO` macro\n",
      "  process_clause_header(clause, metadata, self.ont)\n",
      "/opt/homebrew/Caskroom/mambaforge/base/envs/ontosemantics/lib/python3.12/site-packages/pronto/parsers/_fastobo.py:49: NotImplementedWarning: cannot process `treat-xrefs-as-equivalent: BILA` macro\n",
      "  process_clause_header(clause, metadata, self.ont)\n",
      "/opt/homebrew/Caskroom/mambaforge/base/envs/ontosemantics/lib/python3.12/site-packages/pronto/parsers/_fastobo.py:49: NotImplementedWarning: cannot process `treat-xrefs-as-equivalent: BSPO` macro\n",
      "  process_clause_header(clause, metadata, self.ont)\n",
      "/opt/homebrew/Caskroom/mambaforge/base/envs/ontosemantics/lib/python3.12/site-packages/pronto/parsers/_fastobo.py:49: NotImplementedWarning: cannot process `treat-xrefs-as-equivalent: CARO` macro\n",
      "  process_clause_header(clause, metadata, self.ont)\n",
      "/opt/homebrew/Caskroom/mambaforge/base/envs/ontosemantics/lib/python3.12/site-packages/pronto/parsers/_fastobo.py:49: NotImplementedWarning: cannot process `treat-xrefs-as-equivalent: GO` macro\n",
      "  process_clause_header(clause, metadata, self.ont)\n",
      "/opt/homebrew/Caskroom/mambaforge/base/envs/ontosemantics/lib/python3.12/site-packages/pronto/parsers/_fastobo.py:49: NotImplementedWarning: cannot process `treat-xrefs-as-equivalent: OG` macro\n",
      "  process_clause_header(clause, metadata, self.ont)\n",
      "/opt/homebrew/Caskroom/mambaforge/base/envs/ontosemantics/lib/python3.12/site-packages/pronto/parsers/_fastobo.py:49: NotImplementedWarning: cannot process `treat-xrefs-as-equivalent: VSAO` macro\n",
      "  process_clause_header(clause, metadata, self.ont)\n",
      "/opt/homebrew/Caskroom/mambaforge/base/envs/ontosemantics/lib/python3.12/site-packages/pronto/parsers/_fastobo.py:49: NotImplementedWarning: cannot process `treat-xrefs-as-is_a: BFO` macro\n",
      "  process_clause_header(clause, metadata, self.ont)\n",
      "/opt/homebrew/Caskroom/mambaforge/base/envs/ontosemantics/lib/python3.12/site-packages/pronto/parsers/_fastobo.py:49: NotImplementedWarning: cannot process `treat-xrefs-as-is_a: VHOG` macro\n",
      "  process_clause_header(clause, metadata, self.ont)\n",
      "/opt/homebrew/Caskroom/mambaforge/base/envs/ontosemantics/lib/python3.12/site-packages/pronto/parsers/_fastobo.py:49: NotImplementedWarning: cannot process `treat-xrefs-as-has-subclass: EHDAA` macro\n",
      "  process_clause_header(clause, metadata, self.ont)\n",
      "/opt/homebrew/Caskroom/mambaforge/base/envs/ontosemantics/lib/python3.12/site-packages/pronto/parsers/_fastobo.py:49: NotImplementedWarning: cannot process `treat-xrefs-as-has-subclass: EV` macro\n",
      "  process_clause_header(clause, metadata, self.ont)\n",
      "/opt/homebrew/Caskroom/mambaforge/base/envs/ontosemantics/lib/python3.12/site-packages/pronto/parsers/_fastobo.py:49: NotImplementedWarning: cannot process `treat-xrefs-as-has-subclass: NCIT` macro\n",
      "  process_clause_header(clause, metadata, self.ont)\n",
      "/opt/homebrew/Caskroom/mambaforge/base/envs/ontosemantics/lib/python3.12/site-packages/pronto/parsers/_fastobo.py:49: NotImplementedWarning: cannot process `treat-xrefs-as-has-subclass: OGES` macro\n",
      "  process_clause_header(clause, metadata, self.ont)\n",
      "/opt/homebrew/Caskroom/mambaforge/base/envs/ontosemantics/lib/python3.12/site-packages/pronto/parsers/_fastobo.py:49: NotImplementedWarning: cannot process `treat-xrefs-as-has-subclass: SCTID` macro\n",
      "  process_clause_header(clause, metadata, self.ont)\n",
      "/opt/homebrew/Caskroom/mambaforge/base/envs/ontosemantics/lib/python3.12/site-packages/pronto/parsers/_fastobo.py:49: NotImplementedWarning: cannot process `treat-xrefs-as-reverse-genus-differentia: AAO part_of NCBITaxon:8292` macro\n",
      "  process_clause_header(clause, metadata, self.ont)\n",
      "/opt/homebrew/Caskroom/mambaforge/base/envs/ontosemantics/lib/python3.12/site-packages/pronto/parsers/_fastobo.py:49: NotImplementedWarning: cannot process `treat-xrefs-as-reverse-genus-differentia: DHBA part_of NCBITaxon:9606` macro\n",
      "  process_clause_header(clause, metadata, self.ont)\n",
      "/opt/homebrew/Caskroom/mambaforge/base/envs/ontosemantics/lib/python3.12/site-packages/pronto/parsers/_fastobo.py:49: NotImplementedWarning: cannot process `treat-xrefs-as-reverse-genus-differentia: EHDAA2 part_of NCBITaxon:9606` macro\n",
      "  process_clause_header(clause, metadata, self.ont)\n",
      "/opt/homebrew/Caskroom/mambaforge/base/envs/ontosemantics/lib/python3.12/site-packages/pronto/parsers/_fastobo.py:49: NotImplementedWarning: cannot process `treat-xrefs-as-reverse-genus-differentia: EMAPA part_of NCBITaxon:10090` macro\n",
      "  process_clause_header(clause, metadata, self.ont)\n",
      "/opt/homebrew/Caskroom/mambaforge/base/envs/ontosemantics/lib/python3.12/site-packages/pronto/parsers/_fastobo.py:49: NotImplementedWarning: cannot process `treat-xrefs-as-reverse-genus-differentia: FBdv part_of NCBITaxon:7227` macro\n",
      "  process_clause_header(clause, metadata, self.ont)\n",
      "/opt/homebrew/Caskroom/mambaforge/base/envs/ontosemantics/lib/python3.12/site-packages/pronto/parsers/_fastobo.py:49: NotImplementedWarning: cannot process `treat-xrefs-as-reverse-genus-differentia: FMA part_of NCBITaxon:9606` macro\n",
      "  process_clause_header(clause, metadata, self.ont)\n",
      "/opt/homebrew/Caskroom/mambaforge/base/envs/ontosemantics/lib/python3.12/site-packages/pronto/parsers/_fastobo.py:49: NotImplementedWarning: cannot process `treat-xrefs-as-reverse-genus-differentia: HAO part_of NCBITaxon:7399` macro\n",
      "  process_clause_header(clause, metadata, self.ont)\n",
      "/opt/homebrew/Caskroom/mambaforge/base/envs/ontosemantics/lib/python3.12/site-packages/pronto/parsers/_fastobo.py:49: NotImplementedWarning: cannot process `treat-xrefs-as-reverse-genus-differentia: HBA part_of NCBITaxon:9606` macro\n",
      "  process_clause_header(clause, metadata, self.ont)\n",
      "/opt/homebrew/Caskroom/mambaforge/base/envs/ontosemantics/lib/python3.12/site-packages/pronto/parsers/_fastobo.py:49: NotImplementedWarning: cannot process `treat-xrefs-as-reverse-genus-differentia: KUPO part_of NCBITaxon:9606` macro\n",
      "  process_clause_header(clause, metadata, self.ont)\n",
      "/opt/homebrew/Caskroom/mambaforge/base/envs/ontosemantics/lib/python3.12/site-packages/pronto/parsers/_fastobo.py:49: NotImplementedWarning: cannot process `treat-xrefs-as-reverse-genus-differentia: MA part_of NCBITaxon:10090` macro\n",
      "  process_clause_header(clause, metadata, self.ont)\n",
      "/opt/homebrew/Caskroom/mambaforge/base/envs/ontosemantics/lib/python3.12/site-packages/pronto/parsers/_fastobo.py:49: NotImplementedWarning: cannot process `treat-xrefs-as-reverse-genus-differentia: MFO part_of NCBITaxon:8089` macro\n",
      "  process_clause_header(clause, metadata, self.ont)\n",
      "/opt/homebrew/Caskroom/mambaforge/base/envs/ontosemantics/lib/python3.12/site-packages/pronto/parsers/_fastobo.py:49: NotImplementedWarning: cannot process `treat-xrefs-as-reverse-genus-differentia: PBA part_of NCBITaxon:9443` macro\n",
      "  process_clause_header(clause, metadata, self.ont)\n",
      "/opt/homebrew/Caskroom/mambaforge/base/envs/ontosemantics/lib/python3.12/site-packages/pronto/parsers/_fastobo.py:49: NotImplementedWarning: cannot process `treat-xrefs-as-reverse-genus-differentia: SPD part_of NCBITaxon:6893` macro\n",
      "  process_clause_header(clause, metadata, self.ont)\n",
      "/opt/homebrew/Caskroom/mambaforge/base/envs/ontosemantics/lib/python3.12/site-packages/pronto/parsers/_fastobo.py:49: NotImplementedWarning: cannot process `treat-xrefs-as-reverse-genus-differentia: TADS part_of NCBITaxon:6939` macro\n",
      "  process_clause_header(clause, metadata, self.ont)\n",
      "/opt/homebrew/Caskroom/mambaforge/base/envs/ontosemantics/lib/python3.12/site-packages/pronto/parsers/_fastobo.py:49: NotImplementedWarning: cannot process `treat-xrefs-as-reverse-genus-differentia: TAO part_of NCBITaxon:32443` macro\n",
      "  process_clause_header(clause, metadata, self.ont)\n",
      "/opt/homebrew/Caskroom/mambaforge/base/envs/ontosemantics/lib/python3.12/site-packages/pronto/parsers/_fastobo.py:49: NotImplementedWarning: cannot process `treat-xrefs-as-reverse-genus-differentia: TGMA part_of NCBITaxon:44484` macro\n",
      "  process_clause_header(clause, metadata, self.ont)\n",
      "/opt/homebrew/Caskroom/mambaforge/base/envs/ontosemantics/lib/python3.12/site-packages/pronto/parsers/_fastobo.py:49: NotImplementedWarning: cannot process `treat-xrefs-as-reverse-genus-differentia: WBbt part_of NCBITaxon:6237` macro\n",
      "  process_clause_header(clause, metadata, self.ont)\n",
      "/opt/homebrew/Caskroom/mambaforge/base/envs/ontosemantics/lib/python3.12/site-packages/pronto/parsers/_fastobo.py:49: NotImplementedWarning: cannot process `treat-xrefs-as-reverse-genus-differentia: WBls part_of NCBITaxon:6237` macro\n",
      "  process_clause_header(clause, metadata, self.ont)\n",
      "/opt/homebrew/Caskroom/mambaforge/base/envs/ontosemantics/lib/python3.12/site-packages/pronto/parsers/_fastobo.py:49: NotImplementedWarning: cannot process `treat-xrefs-as-reverse-genus-differentia: XAO part_of NCBITaxon:8353` macro\n",
      "  process_clause_header(clause, metadata, self.ont)\n",
      "/opt/homebrew/Caskroom/mambaforge/base/envs/ontosemantics/lib/python3.12/site-packages/pronto/parsers/_fastobo.py:49: NotImplementedWarning: cannot process `treat-xrefs-as-reverse-genus-differentia: ZFA part_of NCBITaxon:7954` macro\n",
      "  process_clause_header(clause, metadata, self.ont)\n",
      "/opt/homebrew/Caskroom/mambaforge/base/envs/ontosemantics/lib/python3.12/site-packages/pronto/parsers/_fastobo.py:49: NotImplementedWarning: cannot process `treat-xrefs-as-reverse-genus-differentia: ZFS part_of NCBITaxon:7954` macro\n",
      "  process_clause_header(clause, metadata, self.ont)\n"
     ]
    },
    {
     "name": "stdout",
     "output_type": "stream",
     "text": [
      "❌ Failed to load uberon: expected EOL, QuotedString, RFC3987_IriPctEncoded, or RFC3987_IriUCSChar (uberon.obo, line 166503)\n"
     ]
    }
   ],
   "execution_count": 16
  },
  {
   "metadata": {
    "ExecuteTime": {
     "end_time": "2025-06-11T07:14:14.434067Z",
     "start_time": "2025-06-11T07:14:07.594719Z"
    }
   },
   "cell_type": "code",
   "source": "await om.download_and_load_ontologies()",
   "id": "18017a5149253cdb",
   "outputs": [
    {
     "name": "stderr",
     "output_type": "stream",
     "text": [
      "  0%|          | 0/5 [00:00<?, ?it/s]/Users/drago/PycharmProjects/bioengine/bioengine/knowledge_engine/ontology_manager.py:62: UnicodeWarning: unsound encoding, assuming utf-8 (99% confidence)\n",
      "  self.ontologies[onto_name] = pronto.Ontology(str(obo_file))\n",
      " 20%|██        | 1/5 [00:03<00:13,  3.43s/it]"
     ]
    },
    {
     "name": "stdout",
     "output_type": "stream",
     "text": [
      "2025-06-11 09:14:11,097 - chardet.charsetprober - DEBUG - EUC-TW Taiwan prober hit error at byte 989\n",
      "2025-06-11 09:14:11,111 - chardet.charsetprober - DEBUG - utf-8  confidence = 0.505\n",
      "2025-06-11 09:14:11,111 - chardet.charsetprober - DEBUG - SHIFT_JIS Japanese confidence = 0.01\n",
      "2025-06-11 09:14:11,111 - chardet.charsetprober - DEBUG - EUC-JP Japanese confidence = 0.01\n",
      "2025-06-11 09:14:11,112 - chardet.charsetprober - DEBUG - GB2312 Chinese confidence = 0.01\n",
      "2025-06-11 09:14:11,112 - chardet.charsetprober - DEBUG - EUC-KR Korean confidence = 0.01\n",
      "2025-06-11 09:14:11,112 - chardet.charsetprober - DEBUG - CP949 Korean confidence = 0.01\n",
      "2025-06-11 09:14:11,112 - chardet.charsetprober - DEBUG - Big5 Chinese confidence = 0.01\n",
      "2025-06-11 09:14:11,112 - chardet.charsetprober - DEBUG - EUC-TW not active\n",
      "2025-06-11 09:14:11,113 - chardet.charsetprober - DEBUG - Johab Korean confidence = 0.01\n",
      "2025-06-11 09:14:11,113 - chardet.charsetprober - DEBUG - windows-1251 Russian confidence = 0.01\n",
      "2025-06-11 09:14:11,113 - chardet.charsetprober - DEBUG - KOI8-R Russian confidence = 0.01\n",
      "2025-06-11 09:14:11,113 - chardet.charsetprober - DEBUG - ISO-8859-5 Russian confidence = 0.0\n",
      "2025-06-11 09:14:11,113 - chardet.charsetprober - DEBUG - MacCyrillic Russian confidence = 0.01\n",
      "2025-06-11 09:14:11,113 - chardet.charsetprober - DEBUG - IBM866 Russian confidence = 0.01\n",
      "2025-06-11 09:14:11,114 - chardet.charsetprober - DEBUG - IBM855 Russian confidence = 0.01\n",
      "2025-06-11 09:14:11,114 - chardet.charsetprober - DEBUG - ISO-8859-7 Greek confidence = 0.0\n",
      "2025-06-11 09:14:11,114 - chardet.charsetprober - DEBUG - windows-1253 Greek confidence = 0.01\n",
      "2025-06-11 09:14:11,114 - chardet.charsetprober - DEBUG - ISO-8859-5 Bulgarian confidence = 0.0\n",
      "2025-06-11 09:14:11,114 - chardet.charsetprober - DEBUG - windows-1251 Bulgarian confidence = 0.01\n",
      "2025-06-11 09:14:11,114 - chardet.charsetprober - DEBUG - TIS-620 Thai confidence = 0.30841818174528296\n",
      "2025-06-11 09:14:11,115 - chardet.charsetprober - DEBUG - ISO-8859-9 Turkish confidence = 0.5675051308463018\n",
      "2025-06-11 09:14:11,115 - chardet.charsetprober - DEBUG - windows-1255 Hebrew confidence = 0.0\n",
      "2025-06-11 09:14:11,115 - chardet.charsetprober - DEBUG - windows-1255 Hebrew confidence = 0.10888457480138002\n",
      "2025-06-11 09:14:11,115 - chardet.charsetprober - DEBUG - windows-1255 Hebrew confidence = 0.10888457480138002\n"
     ]
    },
    {
     "name": "stderr",
     "output_type": "stream",
     "text": [
      "/Users/drago/PycharmProjects/bioengine/bioengine/knowledge_engine/ontology_manager.py:62: UnicodeWarning: unsound encoding, assuming ISO-8859-1 (73% confidence)\n",
      "  self.ontologies[onto_name] = pronto.Ontology(str(obo_file))\n",
      " 80%|████████  | 4/5 [00:06<00:01,  1.25s/it]/opt/homebrew/Caskroom/mambaforge/base/envs/ontosemantics/lib/python3.12/site-packages/pronto/parsers/_fastobo.py:49: NotImplementedWarning: cannot process `treat-xrefs-as-equivalent: AEO` macro\n",
      "  process_clause_header(clause, metadata, self.ont)\n",
      "/opt/homebrew/Caskroom/mambaforge/base/envs/ontosemantics/lib/python3.12/site-packages/pronto/parsers/_fastobo.py:49: NotImplementedWarning: cannot process `treat-xrefs-as-equivalent: BILA` macro\n",
      "  process_clause_header(clause, metadata, self.ont)\n",
      "/opt/homebrew/Caskroom/mambaforge/base/envs/ontosemantics/lib/python3.12/site-packages/pronto/parsers/_fastobo.py:49: NotImplementedWarning: cannot process `treat-xrefs-as-equivalent: BSPO` macro\n",
      "  process_clause_header(clause, metadata, self.ont)\n",
      "/opt/homebrew/Caskroom/mambaforge/base/envs/ontosemantics/lib/python3.12/site-packages/pronto/parsers/_fastobo.py:49: NotImplementedWarning: cannot process `treat-xrefs-as-equivalent: CARO` macro\n",
      "  process_clause_header(clause, metadata, self.ont)\n",
      "/opt/homebrew/Caskroom/mambaforge/base/envs/ontosemantics/lib/python3.12/site-packages/pronto/parsers/_fastobo.py:49: NotImplementedWarning: cannot process `treat-xrefs-as-equivalent: GO` macro\n",
      "  process_clause_header(clause, metadata, self.ont)\n",
      "/opt/homebrew/Caskroom/mambaforge/base/envs/ontosemantics/lib/python3.12/site-packages/pronto/parsers/_fastobo.py:49: NotImplementedWarning: cannot process `treat-xrefs-as-equivalent: OG` macro\n",
      "  process_clause_header(clause, metadata, self.ont)\n",
      "/opt/homebrew/Caskroom/mambaforge/base/envs/ontosemantics/lib/python3.12/site-packages/pronto/parsers/_fastobo.py:49: NotImplementedWarning: cannot process `treat-xrefs-as-equivalent: VSAO` macro\n",
      "  process_clause_header(clause, metadata, self.ont)\n",
      "/opt/homebrew/Caskroom/mambaforge/base/envs/ontosemantics/lib/python3.12/site-packages/pronto/parsers/_fastobo.py:49: NotImplementedWarning: cannot process `treat-xrefs-as-is_a: BFO` macro\n",
      "  process_clause_header(clause, metadata, self.ont)\n",
      "/opt/homebrew/Caskroom/mambaforge/base/envs/ontosemantics/lib/python3.12/site-packages/pronto/parsers/_fastobo.py:49: NotImplementedWarning: cannot process `treat-xrefs-as-is_a: VHOG` macro\n",
      "  process_clause_header(clause, metadata, self.ont)\n",
      "/opt/homebrew/Caskroom/mambaforge/base/envs/ontosemantics/lib/python3.12/site-packages/pronto/parsers/_fastobo.py:49: NotImplementedWarning: cannot process `treat-xrefs-as-has-subclass: EHDAA` macro\n",
      "  process_clause_header(clause, metadata, self.ont)\n",
      "/opt/homebrew/Caskroom/mambaforge/base/envs/ontosemantics/lib/python3.12/site-packages/pronto/parsers/_fastobo.py:49: NotImplementedWarning: cannot process `treat-xrefs-as-has-subclass: EV` macro\n",
      "  process_clause_header(clause, metadata, self.ont)\n",
      "/opt/homebrew/Caskroom/mambaforge/base/envs/ontosemantics/lib/python3.12/site-packages/pronto/parsers/_fastobo.py:49: NotImplementedWarning: cannot process `treat-xrefs-as-has-subclass: NCIT` macro\n",
      "  process_clause_header(clause, metadata, self.ont)\n",
      "/opt/homebrew/Caskroom/mambaforge/base/envs/ontosemantics/lib/python3.12/site-packages/pronto/parsers/_fastobo.py:49: NotImplementedWarning: cannot process `treat-xrefs-as-has-subclass: OGES` macro\n",
      "  process_clause_header(clause, metadata, self.ont)\n",
      "/opt/homebrew/Caskroom/mambaforge/base/envs/ontosemantics/lib/python3.12/site-packages/pronto/parsers/_fastobo.py:49: NotImplementedWarning: cannot process `treat-xrefs-as-has-subclass: SCTID` macro\n",
      "  process_clause_header(clause, metadata, self.ont)\n",
      "/opt/homebrew/Caskroom/mambaforge/base/envs/ontosemantics/lib/python3.12/site-packages/pronto/parsers/_fastobo.py:49: NotImplementedWarning: cannot process `treat-xrefs-as-reverse-genus-differentia: AAO part_of NCBITaxon:8292` macro\n",
      "  process_clause_header(clause, metadata, self.ont)\n",
      "/opt/homebrew/Caskroom/mambaforge/base/envs/ontosemantics/lib/python3.12/site-packages/pronto/parsers/_fastobo.py:49: NotImplementedWarning: cannot process `treat-xrefs-as-reverse-genus-differentia: DHBA part_of NCBITaxon:9606` macro\n",
      "  process_clause_header(clause, metadata, self.ont)\n",
      "/opt/homebrew/Caskroom/mambaforge/base/envs/ontosemantics/lib/python3.12/site-packages/pronto/parsers/_fastobo.py:49: NotImplementedWarning: cannot process `treat-xrefs-as-reverse-genus-differentia: EHDAA2 part_of NCBITaxon:9606` macro\n",
      "  process_clause_header(clause, metadata, self.ont)\n",
      "/opt/homebrew/Caskroom/mambaforge/base/envs/ontosemantics/lib/python3.12/site-packages/pronto/parsers/_fastobo.py:49: NotImplementedWarning: cannot process `treat-xrefs-as-reverse-genus-differentia: EMAPA part_of NCBITaxon:10090` macro\n",
      "  process_clause_header(clause, metadata, self.ont)\n",
      "/opt/homebrew/Caskroom/mambaforge/base/envs/ontosemantics/lib/python3.12/site-packages/pronto/parsers/_fastobo.py:49: NotImplementedWarning: cannot process `treat-xrefs-as-reverse-genus-differentia: FBdv part_of NCBITaxon:7227` macro\n",
      "  process_clause_header(clause, metadata, self.ont)\n",
      "/opt/homebrew/Caskroom/mambaforge/base/envs/ontosemantics/lib/python3.12/site-packages/pronto/parsers/_fastobo.py:49: NotImplementedWarning: cannot process `treat-xrefs-as-reverse-genus-differentia: FMA part_of NCBITaxon:9606` macro\n",
      "  process_clause_header(clause, metadata, self.ont)\n",
      "/opt/homebrew/Caskroom/mambaforge/base/envs/ontosemantics/lib/python3.12/site-packages/pronto/parsers/_fastobo.py:49: NotImplementedWarning: cannot process `treat-xrefs-as-reverse-genus-differentia: HAO part_of NCBITaxon:7399` macro\n",
      "  process_clause_header(clause, metadata, self.ont)\n",
      "/opt/homebrew/Caskroom/mambaforge/base/envs/ontosemantics/lib/python3.12/site-packages/pronto/parsers/_fastobo.py:49: NotImplementedWarning: cannot process `treat-xrefs-as-reverse-genus-differentia: HBA part_of NCBITaxon:9606` macro\n",
      "  process_clause_header(clause, metadata, self.ont)\n",
      "/opt/homebrew/Caskroom/mambaforge/base/envs/ontosemantics/lib/python3.12/site-packages/pronto/parsers/_fastobo.py:49: NotImplementedWarning: cannot process `treat-xrefs-as-reverse-genus-differentia: KUPO part_of NCBITaxon:9606` macro\n",
      "  process_clause_header(clause, metadata, self.ont)\n",
      "/opt/homebrew/Caskroom/mambaforge/base/envs/ontosemantics/lib/python3.12/site-packages/pronto/parsers/_fastobo.py:49: NotImplementedWarning: cannot process `treat-xrefs-as-reverse-genus-differentia: MA part_of NCBITaxon:10090` macro\n",
      "  process_clause_header(clause, metadata, self.ont)\n",
      "/opt/homebrew/Caskroom/mambaforge/base/envs/ontosemantics/lib/python3.12/site-packages/pronto/parsers/_fastobo.py:49: NotImplementedWarning: cannot process `treat-xrefs-as-reverse-genus-differentia: MFO part_of NCBITaxon:8089` macro\n",
      "  process_clause_header(clause, metadata, self.ont)\n",
      "/opt/homebrew/Caskroom/mambaforge/base/envs/ontosemantics/lib/python3.12/site-packages/pronto/parsers/_fastobo.py:49: NotImplementedWarning: cannot process `treat-xrefs-as-reverse-genus-differentia: PBA part_of NCBITaxon:9443` macro\n",
      "  process_clause_header(clause, metadata, self.ont)\n",
      "/opt/homebrew/Caskroom/mambaforge/base/envs/ontosemantics/lib/python3.12/site-packages/pronto/parsers/_fastobo.py:49: NotImplementedWarning: cannot process `treat-xrefs-as-reverse-genus-differentia: SPD part_of NCBITaxon:6893` macro\n",
      "  process_clause_header(clause, metadata, self.ont)\n",
      "/opt/homebrew/Caskroom/mambaforge/base/envs/ontosemantics/lib/python3.12/site-packages/pronto/parsers/_fastobo.py:49: NotImplementedWarning: cannot process `treat-xrefs-as-reverse-genus-differentia: TADS part_of NCBITaxon:6939` macro\n",
      "  process_clause_header(clause, metadata, self.ont)\n",
      "/opt/homebrew/Caskroom/mambaforge/base/envs/ontosemantics/lib/python3.12/site-packages/pronto/parsers/_fastobo.py:49: NotImplementedWarning: cannot process `treat-xrefs-as-reverse-genus-differentia: TAO part_of NCBITaxon:32443` macro\n",
      "  process_clause_header(clause, metadata, self.ont)\n",
      "/opt/homebrew/Caskroom/mambaforge/base/envs/ontosemantics/lib/python3.12/site-packages/pronto/parsers/_fastobo.py:49: NotImplementedWarning: cannot process `treat-xrefs-as-reverse-genus-differentia: TGMA part_of NCBITaxon:44484` macro\n",
      "  process_clause_header(clause, metadata, self.ont)\n",
      "/opt/homebrew/Caskroom/mambaforge/base/envs/ontosemantics/lib/python3.12/site-packages/pronto/parsers/_fastobo.py:49: NotImplementedWarning: cannot process `treat-xrefs-as-reverse-genus-differentia: WBbt part_of NCBITaxon:6237` macro\n",
      "  process_clause_header(clause, metadata, self.ont)\n",
      "/opt/homebrew/Caskroom/mambaforge/base/envs/ontosemantics/lib/python3.12/site-packages/pronto/parsers/_fastobo.py:49: NotImplementedWarning: cannot process `treat-xrefs-as-reverse-genus-differentia: WBls part_of NCBITaxon:6237` macro\n",
      "  process_clause_header(clause, metadata, self.ont)\n",
      "/opt/homebrew/Caskroom/mambaforge/base/envs/ontosemantics/lib/python3.12/site-packages/pronto/parsers/_fastobo.py:49: NotImplementedWarning: cannot process `treat-xrefs-as-reverse-genus-differentia: XAO part_of NCBITaxon:8353` macro\n",
      "  process_clause_header(clause, metadata, self.ont)\n",
      "/opt/homebrew/Caskroom/mambaforge/base/envs/ontosemantics/lib/python3.12/site-packages/pronto/parsers/_fastobo.py:49: NotImplementedWarning: cannot process `treat-xrefs-as-reverse-genus-differentia: ZFA part_of NCBITaxon:7954` macro\n",
      "  process_clause_header(clause, metadata, self.ont)\n",
      "/opt/homebrew/Caskroom/mambaforge/base/envs/ontosemantics/lib/python3.12/site-packages/pronto/parsers/_fastobo.py:49: NotImplementedWarning: cannot process `treat-xrefs-as-reverse-genus-differentia: ZFS part_of NCBITaxon:7954` macro\n",
      "  process_clause_header(clause, metadata, self.ont)\n",
      "100%|██████████| 5/5 [00:06<00:00,  1.36s/it]"
     ]
    },
    {
     "name": "stdout",
     "output_type": "stream",
     "text": [
      "Loaded mondo,hp,go\n",
      "❌Could not load: cl,uberon\n"
     ]
    },
    {
     "name": "stderr",
     "output_type": "stream",
     "text": [
      "\n"
     ]
    }
   ],
   "execution_count": 17
  },
  {
   "metadata": {
    "ExecuteTime": {
     "end_time": "2025-06-11T07:14:14.818952Z",
     "start_time": "2025-06-11T07:14:14.450800Z"
    }
   },
   "cell_type": "code",
   "source": "insulin_matches = om.validate_and_enrich_entity('insulin')",
   "id": "dc78bfcf6d22e03e",
   "outputs": [],
   "execution_count": 18
  },
  {
   "metadata": {
    "ExecuteTime": {
     "end_time": "2025-06-11T07:14:14.859561Z",
     "start_time": "2025-06-11T07:14:14.857549Z"
    }
   },
   "cell_type": "code",
   "source": [
    "def _format_isa_style(hierarchy_data) -> list[str]:\n",
    "    \"\"\"Format as ISA relationships. We can make these fancier through a first order logic reasoner but for now these are all isa relationships\"\"\"\n",
    "    lines = []\n",
    "    for parent in hierarchy_data.parents:\n",
    "        lines.append(f\"{hierarchy_data.canonical_name} ISA {parent.name}\")\n",
    "    for child in hierarchy_data.children:\n",
    "        lines.append(f\"{child.name} ISA {hierarchy_data.canonical_name}\")\n",
    "    return lines\n",
    "\n",
    "print([_format_isa_style(insulin_match) for insulin_match in insulin_matches])"
   ],
   "id": "a7bf89c14a42e576",
   "outputs": [
    {
     "name": "stdout",
     "output_type": "stream",
     "text": [
      "[['insulin ISA polypeptide', 'insulin ISA heterodetic cyclic peptide', 'insulin ISA peptide hormone', 'insulin (human) ISA insulin'], ['insulin secreting cell ISA protein secreting cell', 'insulin secreting cell ISA peptide hormone secreting cell', 'insulin secreting cell ISA eukaryotic cell', 'type B pancreatic cell ISA insulin secreting cell'], ['exposure to theraputic insulin treatment ISA exposure to glycemic agents'], ['Hyperinsulinemic hypoglycemia ISA Hyperinsulinemia'], ['Insulin-resistant diabetes mellitus ISA Diabetes mellitus', 'Insulin-resistant diabetes mellitus ISA Insulin resistance', 'Neonatal insulin-dependent diabetes mellitus ISA Insulin-resistant diabetes mellitus', 'Insulin-resistant diabetes mellitus at puberty ISA Insulin-resistant diabetes mellitus']]\n"
     ]
    }
   ],
   "execution_count": 19
  },
  {
   "metadata": {
    "ExecuteTime": {
     "end_time": "2025-06-11T07:14:18.564730Z",
     "start_time": "2025-06-11T07:14:14.939321Z"
    }
   },
   "cell_type": "code",
   "source": "matches = {annotation[0].canonical_name: om.validate_and_enrich_entity(annotation[0].canonical_name) for annotation in processed_dataset.loc[0, 'annotations'].values()}",
   "id": "69cfb57d30775411",
   "outputs": [],
   "execution_count": 21
  },
  {
   "metadata": {
    "ExecuteTime": {
     "end_time": "2025-06-11T07:38:20.298108Z",
     "start_time": "2025-06-11T07:37:49.672686Z"
    }
   },
   "cell_type": "code",
   "source": "extracted_relationships_semantic_context = relationship_extractor.extract_relationships(processed_dataset.loc[0, 'text'], context={'semantic relationships': {entity: '|'.join(_format_isa_style(term)) for entity, terms in matches.items() for term in terms}, 'extra instructions': 'Use these hierarchical relationships and entities to inform relationship extraction. Avoid creating relationships that contradict these ontological structures or repetition.'})",
   "id": "d84146fabbfba748",
   "outputs": [
    {
     "name": "stdout",
     "output_type": "stream",
     "text": [
      "2025-06-11 09:37:49,680 - urllib3.connectionpool - DEBUG - Starting new HTTP connection (1): localhost:11434\n",
      "2025-06-11 09:37:50,502 - urllib3.connectionpool - DEBUG - http://localhost:11434 \"POST /api/generate HTTP/1.1\" 200 None\n",
      "2025-06-11 09:38:05,538 - urllib3.connectionpool - DEBUG - Starting new HTTP connection (1): localhost:11434\n",
      "2025-06-11 09:38:06,249 - urllib3.connectionpool - DEBUG - http://localhost:11434 \"POST /api/generate HTTP/1.1\" 200 None\n"
     ]
    }
   ],
   "execution_count": 66
  },
  {
   "metadata": {
    "ExecuteTime": {
     "end_time": "2025-06-11T07:38:21.918050Z",
     "start_time": "2025-06-11T07:38:21.915335Z"
    }
   },
   "cell_type": "code",
   "source": "print(format_relationships(extracted_relationships_semantic_context))",
   "id": "ec26601b366c511",
   "outputs": [
    {
     "name": "stdout",
     "output_type": "stream",
     "text": [
      "Hepatocyte nuclear factor-6 -> association -> genetic variability\n",
      "Hepatocyte nuclear factor-6 -> association -> Type II diabetes\n",
      "Hepatocyte nuclear factor-6 -> association -> maturity-onset diabetes of the young\n",
      "Hepatocyte nuclear factor-6 -> association -> late-onset Type II diabetes\n",
      "Hepatocyte nuclear factor-6 -> association -> estimates of insulin secretion\n",
      "Hepatocyte nuclear factor-6 -> is a biomarker for -> Type II diabetes\n"
     ]
    }
   ],
   "execution_count": 67
  },
  {
   "metadata": {
    "ExecuteTime": {
     "end_time": "2025-06-11T07:38:25.379390Z",
     "start_time": "2025-06-11T07:38:25.374801Z"
    }
   },
   "cell_type": "code",
   "source": "[(relation.subject.text,relation.predicate, relation.object.text) for relation in processed_dataset.loc[0, 'relations']]",
   "id": "bc8d3cc8c405c027",
   "outputs": [
    {
     "data": {
      "text/plain": [
       "[('Hepatocyte nuclear factor-6', 'Association', 'type II diabetes'),\n",
       " ('glucose', 'Positive_Correlation', 'insulin'),\n",
       " ('glucose', 'Association', 'type II diabetes')]"
      ]
     },
     "execution_count": 68,
     "metadata": {},
     "output_type": "execute_result"
    }
   ],
   "execution_count": 68
  },
  {
   "metadata": {
    "ExecuteTime": {
     "end_time": "2025-06-11T08:05:08.064185Z",
     "start_time": "2025-06-11T08:05:08.055376Z"
    }
   },
   "cell_type": "code",
   "source": [
    "evaluation_semantic_context = evaluator.evaluate(extracted_relationships_semantic_context, processed_dataset.loc[0, 'relations']).overall_metrics\n",
    "evaluation_semantic_context"
   ],
   "id": "5c6ef180c12e568c",
   "outputs": [
    {
     "data": {
      "text/plain": [
       "PerformanceMetrics(precision=0.3333333333333333, recall=0.6666666666666666, f1_score=0.4444444444444444, true_positives=4, false_positives=8, false_negatives=2, support=3)"
      ]
     },
     "execution_count": 72,
     "metadata": {},
     "output_type": "execute_result"
    }
   ],
   "execution_count": 72
  },
  {
   "metadata": {
    "ExecuteTime": {
     "end_time": "2025-06-11T08:14:24.334436Z",
     "start_time": "2025-06-11T08:14:24.331763Z"
    }
   },
   "cell_type": "code",
   "source": "evaluation_no_context.overall_metrics",
   "id": "af8c6d4188f99437",
   "outputs": [
    {
     "data": {
      "text/plain": [
       "PerformanceMetrics(precision=0.0, recall=0.0, f1_score=0.0, true_positives=0, false_positives=12, false_negatives=3, support=3)"
      ]
     },
     "execution_count": 86,
     "metadata": {},
     "output_type": "execute_result"
    }
   ],
   "execution_count": 86
  },
  {
   "metadata": {
    "ExecuteTime": {
     "end_time": "2025-06-11T08:19:02.187717Z",
     "start_time": "2025-06-11T08:19:02.184865Z"
    }
   },
   "cell_type": "code",
   "source": [
    "results_data = {\n",
    "    'Context Type': ['Entity Context', 'Semantic Context'],\n",
    "    'Precision': [\n",
    "        evaluation_entities.overall_metrics.precision,\n",
    "        evaluation_semantic_context.precision\n",
    "    ],\n",
    "    'Recall': [\n",
    "        evaluation_entities.overall_metrics.recall,\n",
    "        evaluation_semantic_context.recall\n",
    "    ],\n",
    "    'F1-Score': [\n",
    "        evaluation_entities.overall_metrics.f1_score,\n",
    "        evaluation_semantic_context.f1_score\n",
    "    ]\n",
    "}\n",
    "all_results = pd.DataFrame(results_data)"
   ],
   "id": "c109ffe72f8dcd2b",
   "outputs": [],
   "execution_count": 96
  },
  {
   "metadata": {
    "ExecuteTime": {
     "end_time": "2025-06-11T08:19:46.385842Z",
     "start_time": "2025-06-11T08:19:46.128769Z"
    }
   },
   "cell_type": "code",
   "source": [
    "import seaborn as sns\n",
    "sns.barplot(data=all_results.melt(\n",
    "    id_vars=['Context Type'],\n",
    "    value_vars=['Precision', 'Recall', 'F1-Score'],\n",
    "    var_name='Metric',\n",
    "    value_name='Score'\n",
    "), hue='Context Type', x='Metric', y='Score')"
   ],
   "id": "faaf7610ce9b5b6",
   "outputs": [
    {
     "name": "stdout",
     "output_type": "stream",
     "text": [
      "2025-06-11 10:19:46,134 - matplotlib.font_manager - DEBUG - findfont: Matching sans\\-serif:style=normal:variant=normal:weight=normal:stretch=normal:size=10.0.\n",
      "2025-06-11 10:19:46,135 - matplotlib.font_manager - DEBUG - findfont: score(FontEntry(fname='/opt/homebrew/Caskroom/mambaforge/base/envs/ontosemantics/lib/python3.12/site-packages/matplotlib/mpl-data/fonts/ttf/DejaVuSerifDisplay.ttf', name='DejaVu Serif Display', style='normal', variant='normal', weight=400, stretch='normal', size='scalable')) = 10.05\n",
      "2025-06-11 10:19:46,135 - matplotlib.font_manager - DEBUG - findfont: score(FontEntry(fname='/opt/homebrew/Caskroom/mambaforge/base/envs/ontosemantics/lib/python3.12/site-packages/matplotlib/mpl-data/fonts/ttf/DejaVuSansMono-Bold.ttf', name='DejaVu Sans Mono', style='normal', variant='normal', weight=700, stretch='normal', size='scalable')) = 10.335\n",
      "2025-06-11 10:19:46,136 - matplotlib.font_manager - DEBUG - findfont: score(FontEntry(fname='/opt/homebrew/Caskroom/mambaforge/base/envs/ontosemantics/lib/python3.12/site-packages/matplotlib/mpl-data/fonts/ttf/cmsy10.ttf', name='cmsy10', style='normal', variant='normal', weight=400, stretch='normal', size='scalable')) = 10.05\n",
      "2025-06-11 10:19:46,136 - matplotlib.font_manager - DEBUG - findfont: score(FontEntry(fname='/opt/homebrew/Caskroom/mambaforge/base/envs/ontosemantics/lib/python3.12/site-packages/matplotlib/mpl-data/fonts/ttf/STIXNonUniIta.ttf', name='STIXNonUnicode', style='italic', variant='normal', weight=400, stretch='normal', size='scalable')) = 11.05\n",
      "2025-06-11 10:19:46,137 - matplotlib.font_manager - DEBUG - findfont: score(FontEntry(fname='/opt/homebrew/Caskroom/mambaforge/base/envs/ontosemantics/lib/python3.12/site-packages/matplotlib/mpl-data/fonts/ttf/cmb10.ttf', name='cmb10', style='normal', variant='normal', weight=400, stretch='normal', size='scalable')) = 10.05\n",
      "2025-06-11 10:19:46,137 - matplotlib.font_manager - DEBUG - findfont: score(FontEntry(fname='/opt/homebrew/Caskroom/mambaforge/base/envs/ontosemantics/lib/python3.12/site-packages/matplotlib/mpl-data/fonts/ttf/STIXSizTwoSymBol.ttf', name='STIXSizeTwoSym', style='normal', variant='normal', weight=700, stretch='normal', size='scalable')) = 10.335\n",
      "2025-06-11 10:19:46,137 - matplotlib.font_manager - DEBUG - findfont: score(FontEntry(fname='/opt/homebrew/Caskroom/mambaforge/base/envs/ontosemantics/lib/python3.12/site-packages/matplotlib/mpl-data/fonts/ttf/DejaVuSansDisplay.ttf', name='DejaVu Sans Display', style='normal', variant='normal', weight=400, stretch='normal', size='scalable')) = 10.05\n",
      "2025-06-11 10:19:46,138 - matplotlib.font_manager - DEBUG - findfont: score(FontEntry(fname='/opt/homebrew/Caskroom/mambaforge/base/envs/ontosemantics/lib/python3.12/site-packages/matplotlib/mpl-data/fonts/ttf/cmex10.ttf', name='cmex10', style='normal', variant='normal', weight=400, stretch='normal', size='scalable')) = 10.05\n",
      "2025-06-11 10:19:46,138 - matplotlib.font_manager - DEBUG - findfont: score(FontEntry(fname='/opt/homebrew/Caskroom/mambaforge/base/envs/ontosemantics/lib/python3.12/site-packages/matplotlib/mpl-data/fonts/ttf/STIXGeneralBol.ttf', name='STIXGeneral', style='normal', variant='normal', weight=700, stretch='normal', size='scalable')) = 10.335\n",
      "2025-06-11 10:19:46,138 - matplotlib.font_manager - DEBUG - findfont: score(FontEntry(fname='/opt/homebrew/Caskroom/mambaforge/base/envs/ontosemantics/lib/python3.12/site-packages/matplotlib/mpl-data/fonts/ttf/STIXGeneralBolIta.ttf', name='STIXGeneral', style='italic', variant='normal', weight=700, stretch='normal', size='scalable')) = 11.335\n",
      "2025-06-11 10:19:46,139 - matplotlib.font_manager - DEBUG - findfont: score(FontEntry(fname='/opt/homebrew/Caskroom/mambaforge/base/envs/ontosemantics/lib/python3.12/site-packages/matplotlib/mpl-data/fonts/ttf/cmr10.ttf', name='cmr10', style='normal', variant='normal', weight=400, stretch='normal', size='scalable')) = 10.05\n",
      "2025-06-11 10:19:46,139 - matplotlib.font_manager - DEBUG - findfont: score(FontEntry(fname='/opt/homebrew/Caskroom/mambaforge/base/envs/ontosemantics/lib/python3.12/site-packages/matplotlib/mpl-data/fonts/ttf/DejaVuSerif-Bold.ttf', name='DejaVu Serif', style='normal', variant='normal', weight=700, stretch='normal', size='scalable')) = 10.335\n",
      "2025-06-11 10:19:46,139 - matplotlib.font_manager - DEBUG - findfont: score(FontEntry(fname='/opt/homebrew/Caskroom/mambaforge/base/envs/ontosemantics/lib/python3.12/site-packages/matplotlib/mpl-data/fonts/ttf/DejaVuSans-BoldOblique.ttf', name='DejaVu Sans', style='oblique', variant='normal', weight=700, stretch='normal', size='scalable')) = 3.335\n",
      "2025-06-11 10:19:46,139 - matplotlib.font_manager - DEBUG - findfont: score(FontEntry(fname='/opt/homebrew/Caskroom/mambaforge/base/envs/ontosemantics/lib/python3.12/site-packages/matplotlib/mpl-data/fonts/ttf/STIXSizFourSymReg.ttf', name='STIXSizeFourSym', style='normal', variant='normal', weight=400, stretch='normal', size='scalable')) = 10.05\n",
      "2025-06-11 10:19:46,139 - matplotlib.font_manager - DEBUG - findfont: score(FontEntry(fname='/opt/homebrew/Caskroom/mambaforge/base/envs/ontosemantics/lib/python3.12/site-packages/matplotlib/mpl-data/fonts/ttf/STIXGeneral.ttf', name='STIXGeneral', style='normal', variant='normal', weight=400, stretch='normal', size='scalable')) = 10.05\n",
      "2025-06-11 10:19:46,140 - matplotlib.font_manager - DEBUG - findfont: score(FontEntry(fname='/opt/homebrew/Caskroom/mambaforge/base/envs/ontosemantics/lib/python3.12/site-packages/matplotlib/mpl-data/fonts/ttf/STIXGeneralItalic.ttf', name='STIXGeneral', style='italic', variant='normal', weight=400, stretch='normal', size='scalable')) = 11.05\n",
      "2025-06-11 10:19:46,140 - matplotlib.font_manager - DEBUG - findfont: score(FontEntry(fname='/opt/homebrew/Caskroom/mambaforge/base/envs/ontosemantics/lib/python3.12/site-packages/matplotlib/mpl-data/fonts/ttf/STIXSizTwoSymReg.ttf', name='STIXSizeTwoSym', style='normal', variant='normal', weight=400, stretch='normal', size='scalable')) = 10.05\n",
      "2025-06-11 10:19:46,140 - matplotlib.font_manager - DEBUG - findfont: score(FontEntry(fname='/opt/homebrew/Caskroom/mambaforge/base/envs/ontosemantics/lib/python3.12/site-packages/matplotlib/mpl-data/fonts/ttf/DejaVuSerif-BoldItalic.ttf', name='DejaVu Serif', style='italic', variant='normal', weight=700, stretch='normal', size='scalable')) = 11.335\n",
      "2025-06-11 10:19:46,140 - matplotlib.font_manager - DEBUG - findfont: score(FontEntry(fname='/opt/homebrew/Caskroom/mambaforge/base/envs/ontosemantics/lib/python3.12/site-packages/matplotlib/mpl-data/fonts/ttf/STIXNonUniBol.ttf', name='STIXNonUnicode', style='normal', variant='normal', weight=700, stretch='normal', size='scalable')) = 10.335\n",
      "2025-06-11 10:19:46,140 - matplotlib.font_manager - DEBUG - findfont: score(FontEntry(fname='/opt/homebrew/Caskroom/mambaforge/base/envs/ontosemantics/lib/python3.12/site-packages/matplotlib/mpl-data/fonts/ttf/DejaVuSansMono.ttf', name='DejaVu Sans Mono', style='normal', variant='normal', weight=400, stretch='normal', size='scalable')) = 10.05\n",
      "2025-06-11 10:19:46,141 - matplotlib.font_manager - DEBUG - findfont: score(FontEntry(fname='/opt/homebrew/Caskroom/mambaforge/base/envs/ontosemantics/lib/python3.12/site-packages/matplotlib/mpl-data/fonts/ttf/cmss10.ttf', name='cmss10', style='normal', variant='normal', weight=400, stretch='normal', size='scalable')) = 10.05\n",
      "2025-06-11 10:19:46,141 - matplotlib.font_manager - DEBUG - findfont: score(FontEntry(fname='/opt/homebrew/Caskroom/mambaforge/base/envs/ontosemantics/lib/python3.12/site-packages/matplotlib/mpl-data/fonts/ttf/STIXSizOneSymBol.ttf', name='STIXSizeOneSym', style='normal', variant='normal', weight=700, stretch='normal', size='scalable')) = 10.335\n",
      "2025-06-11 10:19:46,141 - matplotlib.font_manager - DEBUG - findfont: score(FontEntry(fname='/opt/homebrew/Caskroom/mambaforge/base/envs/ontosemantics/lib/python3.12/site-packages/matplotlib/mpl-data/fonts/ttf/STIXSizThreeSymReg.ttf', name='STIXSizeThreeSym', style='normal', variant='normal', weight=400, stretch='normal', size='scalable')) = 10.05\n",
      "2025-06-11 10:19:46,141 - matplotlib.font_manager - DEBUG - findfont: score(FontEntry(fname='/opt/homebrew/Caskroom/mambaforge/base/envs/ontosemantics/lib/python3.12/site-packages/matplotlib/mpl-data/fonts/ttf/DejaVuSans-Oblique.ttf', name='DejaVu Sans', style='oblique', variant='normal', weight=400, stretch='normal', size='scalable')) = 3.05\n",
      "2025-06-11 10:19:46,141 - matplotlib.font_manager - DEBUG - findfont: score(FontEntry(fname='/opt/homebrew/Caskroom/mambaforge/base/envs/ontosemantics/lib/python3.12/site-packages/matplotlib/mpl-data/fonts/ttf/DejaVuSansMono-BoldOblique.ttf', name='DejaVu Sans Mono', style='oblique', variant='normal', weight=700, stretch='normal', size='scalable')) = 11.335\n",
      "2025-06-11 10:19:46,141 - matplotlib.font_manager - DEBUG - findfont: score(FontEntry(fname='/opt/homebrew/Caskroom/mambaforge/base/envs/ontosemantics/lib/python3.12/site-packages/matplotlib/mpl-data/fonts/ttf/DejaVuSerif-Italic.ttf', name='DejaVu Serif', style='italic', variant='normal', weight=400, stretch='normal', size='scalable')) = 11.05\n",
      "2025-06-11 10:19:46,142 - matplotlib.font_manager - DEBUG - findfont: score(FontEntry(fname='/opt/homebrew/Caskroom/mambaforge/base/envs/ontosemantics/lib/python3.12/site-packages/matplotlib/mpl-data/fonts/ttf/STIXSizThreeSymBol.ttf', name='STIXSizeThreeSym', style='normal', variant='normal', weight=700, stretch='normal', size='scalable')) = 10.335\n",
      "2025-06-11 10:19:46,142 - matplotlib.font_manager - DEBUG - findfont: score(FontEntry(fname='/opt/homebrew/Caskroom/mambaforge/base/envs/ontosemantics/lib/python3.12/site-packages/matplotlib/mpl-data/fonts/ttf/STIXSizFiveSymReg.ttf', name='STIXSizeFiveSym', style='normal', variant='normal', weight=400, stretch='normal', size='scalable')) = 10.05\n",
      "2025-06-11 10:19:46,142 - matplotlib.font_manager - DEBUG - findfont: score(FontEntry(fname='/opt/homebrew/Caskroom/mambaforge/base/envs/ontosemantics/lib/python3.12/site-packages/matplotlib/mpl-data/fonts/ttf/DejaVuSerif.ttf', name='DejaVu Serif', style='normal', variant='normal', weight=400, stretch='normal', size='scalable')) = 10.05\n",
      "2025-06-11 10:19:46,142 - matplotlib.font_manager - DEBUG - findfont: score(FontEntry(fname='/opt/homebrew/Caskroom/mambaforge/base/envs/ontosemantics/lib/python3.12/site-packages/matplotlib/mpl-data/fonts/ttf/STIXNonUniBolIta.ttf', name='STIXNonUnicode', style='italic', variant='normal', weight=700, stretch='normal', size='scalable')) = 11.335\n",
      "2025-06-11 10:19:46,143 - matplotlib.font_manager - DEBUG - findfont: score(FontEntry(fname='/opt/homebrew/Caskroom/mambaforge/base/envs/ontosemantics/lib/python3.12/site-packages/matplotlib/mpl-data/fonts/ttf/STIXSizOneSymReg.ttf', name='STIXSizeOneSym', style='normal', variant='normal', weight=400, stretch='normal', size='scalable')) = 10.05\n",
      "2025-06-11 10:19:46,143 - matplotlib.font_manager - DEBUG - findfont: score(FontEntry(fname='/opt/homebrew/Caskroom/mambaforge/base/envs/ontosemantics/lib/python3.12/site-packages/matplotlib/mpl-data/fonts/ttf/cmmi10.ttf', name='cmmi10', style='normal', variant='normal', weight=400, stretch='normal', size='scalable')) = 10.05\n",
      "2025-06-11 10:19:46,143 - matplotlib.font_manager - DEBUG - findfont: score(FontEntry(fname='/opt/homebrew/Caskroom/mambaforge/base/envs/ontosemantics/lib/python3.12/site-packages/matplotlib/mpl-data/fonts/ttf/cmtt10.ttf', name='cmtt10', style='normal', variant='normal', weight=400, stretch='normal', size='scalable')) = 10.05\n",
      "2025-06-11 10:19:46,143 - matplotlib.font_manager - DEBUG - findfont: score(FontEntry(fname='/opt/homebrew/Caskroom/mambaforge/base/envs/ontosemantics/lib/python3.12/site-packages/matplotlib/mpl-data/fonts/ttf/DejaVuSansMono-Oblique.ttf', name='DejaVu Sans Mono', style='oblique', variant='normal', weight=400, stretch='normal', size='scalable')) = 11.05\n",
      "2025-06-11 10:19:46,143 - matplotlib.font_manager - DEBUG - findfont: score(FontEntry(fname='/opt/homebrew/Caskroom/mambaforge/base/envs/ontosemantics/lib/python3.12/site-packages/matplotlib/mpl-data/fonts/ttf/DejaVuSans.ttf', name='DejaVu Sans', style='normal', variant='normal', weight=400, stretch='normal', size='scalable')) = 2.05\n",
      "2025-06-11 10:19:46,143 - matplotlib.font_manager - DEBUG - findfont: score(FontEntry(fname='/opt/homebrew/Caskroom/mambaforge/base/envs/ontosemantics/lib/python3.12/site-packages/matplotlib/mpl-data/fonts/ttf/STIXNonUni.ttf', name='STIXNonUnicode', style='normal', variant='normal', weight=400, stretch='normal', size='scalable')) = 10.05\n",
      "2025-06-11 10:19:46,144 - matplotlib.font_manager - DEBUG - findfont: score(FontEntry(fname='/opt/homebrew/Caskroom/mambaforge/base/envs/ontosemantics/lib/python3.12/site-packages/matplotlib/mpl-data/fonts/ttf/STIXSizFourSymBol.ttf', name='STIXSizeFourSym', style='normal', variant='normal', weight=700, stretch='normal', size='scalable')) = 10.335\n",
      "2025-06-11 10:19:46,144 - matplotlib.font_manager - DEBUG - findfont: score(FontEntry(fname='/opt/homebrew/Caskroom/mambaforge/base/envs/ontosemantics/lib/python3.12/site-packages/matplotlib/mpl-data/fonts/ttf/DejaVuSans-Bold.ttf', name='DejaVu Sans', style='normal', variant='normal', weight=700, stretch='normal', size='scalable')) = 2.335\n",
      "2025-06-11 10:19:46,144 - matplotlib.font_manager - DEBUG - findfont: score(FontEntry(fname='/System/Library/Fonts/Supplemental/Georgia Bold.ttf', name='Georgia', style='normal', variant='normal', weight=700, stretch='normal', size='scalable')) = 10.335\n",
      "2025-06-11 10:19:46,144 - matplotlib.font_manager - DEBUG - findfont: score(FontEntry(fname='/Users/drago/Library/Fonts/Arimo Bold for Powerline.ttf', name='Arimo for Powerline', style='normal', variant='normal', weight=700, stretch='normal', size='scalable')) = 10.335\n",
      "2025-06-11 10:19:46,144 - matplotlib.font_manager - DEBUG - findfont: score(FontEntry(fname='/System/Library/Fonts/Supplemental/PTMono.ttc', name='PT Mono', style='normal', variant='normal', weight=700, stretch='normal', size='scalable')) = 10.335\n",
      "2025-06-11 10:19:46,145 - matplotlib.font_manager - DEBUG - findfont: score(FontEntry(fname='/Users/drago/Library/Fonts/ProFont Bold For Powerline.ttf', name='ProFont for Powerline', style='normal', variant='normal', weight=700, stretch='normal', size='scalable')) = 10.335\n",
      "2025-06-11 10:19:46,145 - matplotlib.font_manager - DEBUG - findfont: score(FontEntry(fname='/Users/drago/Library/Fonts/Roboto Mono Medium Italic for Powerline.ttf', name='Roboto Mono Medium for Powerline', style='italic', variant='normal', weight=500, stretch='normal', size='scalable')) = 11.145\n",
      "2025-06-11 10:19:46,145 - matplotlib.font_manager - DEBUG - findfont: score(FontEntry(fname='/System/Library/Fonts/ヒラギノ明朝 ProN.ttc', name='Hiragino Mincho ProN', style='normal', variant='normal', weight=300, stretch='normal', size='scalable')) = 10.145\n",
      "2025-06-11 10:19:46,145 - matplotlib.font_manager - DEBUG - findfont: score(FontEntry(fname='/System/Library/AssetsV2/com_apple_MobileAsset_Font7/6fe206600409e98dcd3e18af1427806070d0150f.asset/AssetData/ArimaKoshi.ttc', name='Arima Koshi', style='normal', variant='normal', weight=400, stretch='normal', size='scalable')) = 10.05\n",
      "2025-06-11 10:19:46,146 - matplotlib.font_manager - DEBUG - findfont: score(FontEntry(fname='/System/Library/Fonts/Supplemental/NotoSansGothic-Regular.ttf', name='Noto Sans Gothic', style='normal', variant='normal', weight=400, stretch='normal', size='scalable')) = 10.05\n",
      "2025-06-11 10:19:46,146 - matplotlib.font_manager - DEBUG - findfont: score(FontEntry(fname='/System/Library/AssetsV2/com_apple_MobileAsset_Font7/54a2ad3dac6cac875ad675d7d273dc425010a877.asset/AssetData/Kaiti.ttc', name='Kaiti SC', style='normal', variant='normal', weight=400, stretch='normal', size='scalable')) = 10.05\n",
      "2025-06-11 10:19:46,146 - matplotlib.font_manager - DEBUG - findfont: score(FontEntry(fname='/System/Library/Fonts/Supplemental/Impact.ttf', name='Impact', style='normal', variant='normal', weight=400, stretch='normal', size='scalable')) = 10.05\n",
      "2025-06-11 10:19:46,146 - matplotlib.font_manager - DEBUG - findfont: score(FontEntry(fname='/System/Library/AssetsV2/com_apple_MobileAsset_Font7/25f6134c89b011288b72c7b81c9c22b2d6882471.asset/AssetData/SamaMalayalam.ttc', name='Sama Malayalam', style='normal', variant='normal', weight=400, stretch='normal', size='scalable')) = 10.05\n",
      "2025-06-11 10:19:46,147 - matplotlib.font_manager - DEBUG - findfont: score(FontEntry(fname='/System/Library/Fonts/Supplemental/NotoSansThaana-Regular.ttf', name='Noto Sans Thaana', style='normal', variant='normal', weight=400, stretch='normal', size='scalable')) = 10.05\n",
      "2025-06-11 10:19:46,147 - matplotlib.font_manager - DEBUG - findfont: score(FontEntry(fname='/System/Library/Fonts/HelveticaNeue.ttc', name='Helvetica Neue', style='normal', variant='normal', weight=400, stretch='normal', size='scalable')) = 10.05\n",
      "2025-06-11 10:19:46,148 - matplotlib.font_manager - DEBUG - findfont: score(FontEntry(fname='/System/Library/Fonts/Supplemental/STIXIntUpBol.otf', name='STIXIntegralsUp', style='normal', variant='normal', weight=700, stretch='normal', size='scalable')) = 10.335\n",
      "2025-06-11 10:19:46,148 - matplotlib.font_manager - DEBUG - findfont: score(FontEntry(fname='/System/Library/Fonts/Supplemental/NotoSansMeeteiMayek-Regular.ttf', name='Noto Sans Meetei Mayek', style='normal', variant='normal', weight=400, stretch='normal', size='scalable')) = 10.05\n",
      "2025-06-11 10:19:46,148 - matplotlib.font_manager - DEBUG - findfont: score(FontEntry(fname='/Users/drago/Library/Fonts/Cousine Bold Italic for Powerline.ttf', name='Cousine for Powerline', style='italic', variant='normal', weight=700, stretch='normal', size='scalable')) = 11.335\n",
      "2025-06-11 10:19:46,149 - matplotlib.font_manager - DEBUG - findfont: score(FontEntry(fname='/Users/drago/Library/Fonts/Meslo LG L Bold for Powerline.ttf', name='Meslo LG L for Powerline', style='normal', variant='normal', weight=700, stretch='normal', size='scalable')) = 10.335\n",
      "2025-06-11 10:19:46,149 - matplotlib.font_manager - DEBUG - findfont: score(FontEntry(fname='/Users/drago/Library/Fonts/Ubuntu Mono derivative Powerline.ttf', name='Ubuntu Mono derivative Powerline', style='normal', variant='normal', weight=400, stretch='normal', size='scalable')) = 10.05\n",
      "2025-06-11 10:19:46,149 - matplotlib.font_manager - DEBUG - findfont: score(FontEntry(fname='/System/Library/AssetsV2/com_apple_MobileAsset_Font7/e9a9a2d18358033875835a6228cb70ce84b7e47c.asset/AssetData/YuMincho.ttc', name='YuMincho', style='normal', variant='normal', weight=500, stretch='normal', size='scalable')) = 10.145\n",
      "2025-06-11 10:19:46,149 - matplotlib.font_manager - DEBUG - findfont: score(FontEntry(fname='/System/Library/Fonts/Supplemental/Krungthep.ttf', name='Krungthep', style='normal', variant='normal', weight=400, stretch='normal', size='scalable')) = 10.05\n",
      "2025-06-11 10:19:46,149 - matplotlib.font_manager - DEBUG - findfont: score(FontEntry(fname='/Users/drago/Library/Fonts/Literation Mono Powerline.ttf', name='Liberation Mono for Powerline', style='normal', variant='normal', weight=400, stretch='normal', size='scalable')) = 10.05\n",
      "2025-06-11 10:19:46,150 - matplotlib.font_manager - DEBUG - findfont: score(FontEntry(fname='/Users/drago/Library/Fonts/Literation Mono Powerline Italic.ttf', name='Liberation Mono for Powerline', style='italic', variant='normal', weight=400, stretch='normal', size='scalable')) = 11.05\n",
      "2025-06-11 10:19:46,150 - matplotlib.font_manager - DEBUG - findfont: score(FontEntry(fname='/Users/drago/Library/Fonts/Meslo LG S Italic for Powerline.ttf', name='Meslo LG S for Powerline', style='italic', variant='normal', weight=400, stretch='normal', size='scalable')) = 11.05\n",
      "2025-06-11 10:19:46,150 - matplotlib.font_manager - DEBUG - findfont: score(FontEntry(fname='/System/Library/AssetsV2/com_apple_MobileAsset_Font7/1821952872c81043711aab6910052b65da8edf2c.asset/AssetData/STFANGSO.ttf', name='STFangsong', style='normal', variant='normal', weight=400, stretch='normal', size='scalable')) = 10.05\n",
      "2025-06-11 10:19:46,151 - matplotlib.font_manager - DEBUG - findfont: score(FontEntry(fname='/System/Library/Fonts/Avenir.ttc', name='Avenir', style='normal', variant='normal', weight=400, stretch='normal', size='scalable')) = 10.05\n",
      "2025-06-11 10:19:46,151 - matplotlib.font_manager - DEBUG - findfont: score(FontEntry(fname='/Users/drago/Library/Fonts/Arimo Bold Italic for Powerline.ttf', name='Arimo for Powerline', style='italic', variant='normal', weight=700, stretch='normal', size='scalable')) = 11.335\n",
      "2025-06-11 10:19:46,151 - matplotlib.font_manager - DEBUG - findfont: score(FontEntry(fname='/System/Library/Fonts/Supplemental/NotoSansImperialAramaic-Regular.ttf', name='Noto Sans Imperial Aramaic', style='normal', variant='normal', weight=400, stretch='normal', size='scalable')) = 10.05\n",
      "2025-06-11 10:19:46,151 - matplotlib.font_manager - DEBUG - findfont: score(FontEntry(fname='/System/Library/AssetsV2/com_apple_MobileAsset_Font7/06d2de4211adb0791d22b2c807659e51122f5fbf.asset/AssetData/CambayDevanagari.ttc', name='Cambay Devanagari', style='normal', variant='normal', weight=400, stretch='normal', size='scalable')) = 10.05\n",
      "2025-06-11 10:19:46,152 - matplotlib.font_manager - DEBUG - findfont: score(FontEntry(fname='/System/Library/Fonts/Supplemental/NotoSerifYezidi-Regular.otf', name='Noto Serif Yezidi', style='normal', variant='normal', weight=400, stretch='normal', size='scalable')) = 10.05\n",
      "2025-06-11 10:19:46,152 - matplotlib.font_manager - DEBUG - findfont: score(FontEntry(fname='/Users/drago/Library/Fonts/Space Mono for Powerline.ttf', name='Space Mono for Powerline', style='normal', variant='normal', weight=400, stretch='normal', size='scalable')) = 10.05\n",
      "2025-06-11 10:19:46,152 - matplotlib.font_manager - DEBUG - findfont: score(FontEntry(fname='/System/Library/Fonts/Supplemental/NotoSansOldPermic-Regular.ttf', name='Noto Sans Old Permic', style='normal', variant='normal', weight=400, stretch='normal', size='scalable')) = 10.05\n",
      "2025-06-11 10:19:46,152 - matplotlib.font_manager - DEBUG - findfont: score(FontEntry(fname='/System/Library/Fonts/Supplemental/NotoSansMeroitic-Regular.ttf', name='Noto Sans Meroitic', style='normal', variant='normal', weight=400, stretch='normal', size='scalable')) = 10.05\n",
      "2025-06-11 10:19:46,152 - matplotlib.font_manager - DEBUG - findfont: score(FontEntry(fname='/System/Library/Fonts/Supplemental/Times New Roman Bold.ttf', name='Times New Roman', style='normal', variant='normal', weight=700, stretch='normal', size='scalable')) = 10.335\n",
      "2025-06-11 10:19:46,153 - matplotlib.font_manager - DEBUG - findfont: score(FontEntry(fname='/System/Library/Fonts/Supplemental/Arial.ttf', name='Arial', style='normal', variant='normal', weight=400, stretch='normal', size='scalable')) = 0.05\n",
      "2025-06-11 10:19:46,153 - matplotlib.font_manager - DEBUG - findfont: score(FontEntry(fname='/System/Library/AssetsV2/com_apple_MobileAsset_Font7/d9a8a6ae726910080d90232eaf0edb06da712758.asset/AssetData/TsukushiAMaruGothic.ttc', name='Tsukushi A Round Gothic', style='normal', variant='normal', weight=400, stretch='normal', size='scalable')) = 10.05\n",
      "2025-06-11 10:19:46,153 - matplotlib.font_manager - DEBUG - findfont: score(FontEntry(fname='/System/Library/Fonts/Supplemental/NotoSansMultani-Regular.ttf', name='Noto Sans Multani', style='normal', variant='normal', weight=400, stretch='normal', size='scalable')) = 10.05\n",
      "2025-06-11 10:19:46,153 - matplotlib.font_manager - DEBUG - findfont: score(FontEntry(fname='/System/Library/Fonts/Supplemental/STIXIntSmBol.otf', name='STIXIntegralsSm', style='normal', variant='normal', weight=700, stretch='normal', size='scalable')) = 10.335\n",
      "2025-06-11 10:19:46,154 - matplotlib.font_manager - DEBUG - findfont: score(FontEntry(fname='/System/Library/AssetsV2/com_apple_MobileAsset_Font7/073fefc3a17aac9e6aba8fbc7704ee9171fabdd8.asset/AssetData/TiroSanskrit.ttc', name='Tiro Devanagari Sanskrit', style='normal', variant='normal', weight=400, stretch='normal', size='scalable')) = 10.05\n",
      "2025-06-11 10:19:46,154 - matplotlib.font_manager - DEBUG - findfont: score(FontEntry(fname='/System/Library/Fonts/Supplemental/NotoSansHatran-Regular.ttf', name='Noto Sans Hatran', style='normal', variant='normal', weight=400, stretch='normal', size='scalable')) = 10.05\n",
      "2025-06-11 10:19:46,154 - matplotlib.font_manager - DEBUG - findfont: score(FontEntry(fname='/System/Library/Fonts/Supplemental/NotoSansOsage-Regular.ttf', name='Noto Sans Osage', style='normal', variant='normal', weight=400, stretch='normal', size='scalable')) = 10.05\n",
      "2025-06-11 10:19:46,155 - matplotlib.font_manager - DEBUG - findfont: score(FontEntry(fname='/System/Library/Fonts/Apple Symbols.ttf', name='Apple Symbols', style='normal', variant='normal', weight=400, stretch='normal', size='scalable')) = 10.05\n",
      "2025-06-11 10:19:46,155 - matplotlib.font_manager - DEBUG - findfont: score(FontEntry(fname='/System/Library/Fonts/Apple Braille Outline 8 Dot.ttf', name='Apple Braille', style='normal', variant='normal', weight=400, stretch='normal', size='scalable')) = 10.05\n",
      "2025-06-11 10:19:46,156 - matplotlib.font_manager - DEBUG - findfont: score(FontEntry(fname='/System/Library/Fonts/SFArmenianRounded.ttf', name='.SF Armenian Rounded', style='normal', variant='normal', weight=400, stretch='normal', size='scalable')) = 10.05\n",
      "2025-06-11 10:19:46,156 - matplotlib.font_manager - DEBUG - findfont: score(FontEntry(fname='/System/Library/AssetsV2/com_apple_MobileAsset_Font7/3a9dbc8ddc8b85f43055a28fb5d551e905d43de2.asset/AssetData/LiHeiPro.ttf', name='LiHei Pro', style='normal', variant='normal', weight=400, stretch='normal', size='scalable')) = 10.05\n",
      "2025-06-11 10:19:46,156 - matplotlib.font_manager - DEBUG - findfont: score(FontEntry(fname='/System/Library/AssetsV2/com_apple_MobileAsset_Font7/e13e9d74dd730ca10b36e625bd3b964013949a20.asset/AssetData/OctoberDevanagari.ttc', name='October Devanagari', style='normal', variant='normal', weight=400, stretch='normal', size='scalable')) = 10.05\n",
      "2025-06-11 10:19:46,156 - matplotlib.font_manager - DEBUG - findfont: score(FontEntry(fname='/System/Library/Fonts/Supplemental/NotoSansBamum-Regular.ttf', name='Noto Sans Bamum', style='normal', variant='normal', weight=400, stretch='normal', size='scalable')) = 10.05\n",
      "2025-06-11 10:19:46,157 - matplotlib.font_manager - DEBUG - findfont: score(FontEntry(fname='/System/Library/Fonts/Supplemental/BigCaslon.ttf', name='Big Caslon', style='normal', variant='normal', weight=500, stretch='normal', size='scalable')) = 10.145\n",
      "2025-06-11 10:19:46,157 - matplotlib.font_manager - DEBUG - findfont: score(FontEntry(fname='/System/Library/Fonts/Supplemental/Corsiva.ttc', name='Corsiva Hebrew', style='normal', variant='normal', weight=400, stretch='normal', size='scalable')) = 10.05\n",
      "2025-06-11 10:19:46,157 - matplotlib.font_manager - DEBUG - findfont: score(FontEntry(fname='/System/Library/AssetsV2/com_apple_MobileAsset_Font7/cd59971ded42add9070aa2172265ba7fcf8d9327.asset/AssetData/BMKirangHaerang-Regular.otf', name='BM Kirang Haerang', style='normal', variant='normal', weight=400, stretch='normal', size='scalable')) = 10.05\n",
      "2025-06-11 10:19:46,157 - matplotlib.font_manager - DEBUG - findfont: score(FontEntry(fname='/System/Library/Fonts/Supplemental/Charter.ttc', name='Charter', style='normal', variant='normal', weight=400, stretch='normal', size='scalable')) = 10.05\n",
      "2025-06-11 10:19:46,158 - matplotlib.font_manager - DEBUG - findfont: score(FontEntry(fname='/System/Library/Fonts/Supplemental/STIXVar.otf', name='STIXVariants', style='normal', variant='normal', weight=400, stretch='normal', size='scalable')) = 10.05\n",
      "2025-06-11 10:19:46,158 - matplotlib.font_manager - DEBUG - findfont: score(FontEntry(fname='/System/Library/AssetsV2/com_apple_MobileAsset_Font7/89b58ecc83406bd9b582b9bd9be380d5c47b317b.asset/AssetData/TiroGurmukhi.ttc', name='Tiro Gurmukhi', style='normal', variant='normal', weight=400, stretch='normal', size='scalable')) = 10.05\n",
      "2025-06-11 10:19:46,158 - matplotlib.font_manager - DEBUG - findfont: score(FontEntry(fname='/System/Library/AssetsV2/com_apple_MobileAsset_Font7/a4707364a66ce7e90295e4286131944c5ed2141d.asset/AssetData/TiroKannada.ttc', name='Tiro Kannada', style='normal', variant='normal', weight=400, stretch='normal', size='scalable')) = 10.05\n",
      "2025-06-11 10:19:46,159 - matplotlib.font_manager - DEBUG - findfont: score(FontEntry(fname='/Users/drago/Library/Fonts/Ubuntu Mono derivative Powerline Italic.ttf', name='Ubuntu Mono derivative Powerline', style='italic', variant='normal', weight=400, stretch='normal', size='scalable')) = 11.05\n",
      "2025-06-11 10:19:46,159 - matplotlib.font_manager - DEBUG - findfont: score(FontEntry(fname='/System/Library/AssetsV2/com_apple_MobileAsset_Font7/1fd9551e1008792980fde5e0a4655fc6928b8499.asset/AssetData/BalooBhaiGujarati.ttc', name='Baloo Bhai 2', style='normal', variant='normal', weight=400, stretch='normal', size='scalable')) = 10.05\n",
      "2025-06-11 10:19:46,159 - matplotlib.font_manager - DEBUG - findfont: score(FontEntry(fname='/System/Library/Fonts/Supplemental/Bodoni Ornaments.ttf', name='Bodoni Ornaments', style='normal', variant='normal', weight=400, stretch='normal', size='scalable')) = 10.05\n",
      "2025-06-11 10:19:46,159 - matplotlib.font_manager - DEBUG - findfont: score(FontEntry(fname='/System/Library/Fonts/Supplemental/NotoSansTaiTham-Regular.ttf', name='Noto Sans Tai Tham', style='normal', variant='normal', weight=400, stretch='normal', size='scalable')) = 10.05\n",
      "2025-06-11 10:19:46,159 - matplotlib.font_manager - DEBUG - findfont: score(FontEntry(fname='/System/Library/Fonts/Supplemental/Cochin.ttc', name='Cochin', style='normal', variant='normal', weight=500, stretch='normal', size='scalable')) = 10.145\n",
      "2025-06-11 10:19:46,160 - matplotlib.font_manager - DEBUG - findfont: score(FontEntry(fname='/System/Library/Fonts/Supplemental/NotoSansNewTaiLue-Regular.ttf', name='Noto Sans New Tai Lue', style='normal', variant='normal', weight=400, stretch='normal', size='scalable')) = 10.05\n",
      "2025-06-11 10:19:46,160 - matplotlib.font_manager - DEBUG - findfont: score(FontEntry(fname='/Users/drago/Library/Fonts/Source Code Pro Light for Powerline.otf', name='Source Code Pro for Powerline', style='normal', variant='normal', weight=300, stretch='normal', size='scalable')) = 10.145\n",
      "2025-06-11 10:19:46,160 - matplotlib.font_manager - DEBUG - findfont: score(FontEntry(fname='/Users/drago/Library/Fonts/Cousine Bold for Powerline.ttf', name='Cousine for Powerline', style='normal', variant='normal', weight=700, stretch='normal', size='scalable')) = 10.335\n",
      "2025-06-11 10:19:46,161 - matplotlib.font_manager - DEBUG - findfont: score(FontEntry(fname='/System/Library/Fonts/Supplemental/Baskerville.ttc', name='Baskerville', style='normal', variant='normal', weight=400, stretch='normal', size='scalable')) = 10.05\n",
      "2025-06-11 10:19:46,161 - matplotlib.font_manager - DEBUG - findfont: score(FontEntry(fname='/System/Library/Fonts/Supplemental/NewPeninimMT.ttc', name='New Peninim MT', style='normal', variant='normal', weight=400, stretch='normal', size='scalable')) = 10.05\n",
      "2025-06-11 10:19:46,161 - matplotlib.font_manager - DEBUG - findfont: score(FontEntry(fname='/Users/drago/Library/Fonts/Anonymice Powerline Italic.ttf', name='Anonymous Pro for Powerline', style='italic', variant='normal', weight=400, stretch='normal', size='scalable')) = 11.05\n",
      "2025-06-11 10:19:46,161 - matplotlib.font_manager - DEBUG - findfont: score(FontEntry(fname='/Users/drago/Library/Fonts/Meslo LG S Regular for Powerline.ttf', name='Meslo LG S for Powerline', style='normal', variant='normal', weight=400, stretch='normal', size='scalable')) = 10.05\n",
      "2025-06-11 10:19:46,161 - matplotlib.font_manager - DEBUG - findfont: score(FontEntry(fname='/System/Library/AssetsV2/com_apple_MobileAsset_Font7/f7f6b250e97c182e68ac53a2b359ec44548878b9.asset/AssetData/Lantinghei.ttc', name='Lantinghei SC', style='normal', variant='normal', weight=400, stretch='normal', size='scalable')) = 10.05\n",
      "2025-06-11 10:19:46,162 - matplotlib.font_manager - DEBUG - findfont: score(FontEntry(fname='/System/Library/Fonts/Supplemental/NotoSansBuginese-Regular.ttf', name='Noto Sans Buginese', style='normal', variant='normal', weight=400, stretch='normal', size='scalable')) = 10.05\n",
      "2025-06-11 10:19:46,162 - matplotlib.font_manager - DEBUG - findfont: score(FontEntry(fname='/System/Library/Fonts/Supplemental/Diwan Thuluth.ttf', name='Diwan Thuluth', style='normal', variant='normal', weight=400, stretch='normal', size='scalable')) = 10.05\n",
      "2025-06-11 10:19:46,162 - matplotlib.font_manager - DEBUG - findfont: score(FontEntry(fname='/System/Library/Fonts/Supplemental/NotoSansKharoshthi-Regular.ttf', name='Noto Sans Kharoshthi', style='normal', variant='normal', weight=400, stretch='normal', size='scalable')) = 10.05\n",
      "2025-06-11 10:19:46,163 - matplotlib.font_manager - DEBUG - findfont: score(FontEntry(fname='/Users/drago/Library/Fonts/Droid Sans Mono Dotted for Powerline.ttf', name='Droid Sans Mono Dotted for Powerline', style='normal', variant='normal', weight=400, stretch='normal', size='scalable')) = 10.05\n",
      "2025-06-11 10:19:46,165 - matplotlib.font_manager - DEBUG - findfont: score(FontEntry(fname='/System/Library/Fonts/Supplemental/Malayalam Sangam MN.ttc', name='Malayalam Sangam MN', style='normal', variant='normal', weight=400, stretch='normal', size='scalable')) = 10.05\n",
      "2025-06-11 10:19:46,165 - matplotlib.font_manager - DEBUG - findfont: score(FontEntry(fname='/System/Library/AssetsV2/com_apple_MobileAsset_Font7/e11e5aeb7967c50ca39eca475b77f36da411ca67.asset/AssetData/Katari.ttc', name='Katari', style='normal', variant='normal', weight=400, stretch='normal', size='scalable')) = 10.05\n",
      "2025-06-11 10:19:46,167 - matplotlib.font_manager - DEBUG - findfont: score(FontEntry(fname='/System/Library/Fonts/Supplemental/ChalkboardSE.ttc', name='Chalkboard SE', style='normal', variant='normal', weight=400, stretch='normal', size='scalable')) = 10.05\n",
      "2025-06-11 10:19:46,167 - matplotlib.font_manager - DEBUG - findfont: score(FontEntry(fname='/Users/drago/Library/Fonts/Symbol Neu for Powerline.ttf', name='Symbol Neu for Powerline', style='normal', variant='normal', weight=400, stretch='normal', size='scalable')) = 10.05\n",
      "2025-06-11 10:19:46,167 - matplotlib.font_manager - DEBUG - findfont: score(FontEntry(fname='/System/Library/Fonts/Supplemental/STIXIntUpSmBol.otf', name='STIXIntegralsUpSm', style='normal', variant='normal', weight=700, stretch='normal', size='scalable')) = 10.335\n",
      "2025-06-11 10:19:46,168 - matplotlib.font_manager - DEBUG - findfont: score(FontEntry(fname='/System/Library/Fonts/ArialHB.ttc', name='Arial Hebrew', style='normal', variant='normal', weight=400, stretch='normal', size='scalable')) = 10.05\n",
      "2025-06-11 10:19:46,168 - matplotlib.font_manager - DEBUG - findfont: score(FontEntry(fname='/System/Library/Fonts/Supplemental/NotoSansHanifiRohingya-Regular.ttf', name='Noto Sans Hanifi Rohingya', style='normal', variant='normal', weight=400, stretch='normal', size='scalable')) = 10.05\n",
      "2025-06-11 10:19:46,168 - matplotlib.font_manager - DEBUG - findfont: score(FontEntry(fname='/Users/drago/Library/Fonts/Cousine for Powerline.ttf', name='Cousine for Powerline', style='normal', variant='normal', weight=400, stretch='normal', size='scalable')) = 10.05\n",
      "2025-06-11 10:19:46,168 - matplotlib.font_manager - DEBUG - findfont: score(FontEntry(fname='/Users/drago/Library/Fonts/3270Medium.ttf', name='IBM 3270', style='normal', variant='normal', weight=500, stretch='normal', size='scalable')) = 10.145\n",
      "2025-06-11 10:19:46,168 - matplotlib.font_manager - DEBUG - findfont: score(FontEntry(fname='/Users/drago/Library/Fonts/Tinos Bold for Powerline.ttf', name='Tinos for Powerline', style='normal', variant='normal', weight=700, stretch='normal', size='scalable')) = 10.335\n",
      "2025-06-11 10:19:46,168 - matplotlib.font_manager - DEBUG - findfont: score(FontEntry(fname='/System/Library/Fonts/Supplemental/STIXVarBol.otf', name='STIXVariants', style='normal', variant='normal', weight=700, stretch='normal', size='scalable')) = 10.335\n",
      "2025-06-11 10:19:46,169 - matplotlib.font_manager - DEBUG - findfont: score(FontEntry(fname='/System/Library/Fonts/Supplemental/Gujarati Sangam MN.ttc', name='Gujarati Sangam MN', style='normal', variant='normal', weight=400, stretch='normal', size='scalable')) = 10.05\n",
      "2025-06-11 10:19:46,169 - matplotlib.font_manager - DEBUG - findfont: score(FontEntry(fname='/System/Library/Fonts/Supplemental/STIXSizThreeSymReg.otf', name='STIXSizeThreeSym', style='normal', variant='normal', weight=400, stretch='normal', size='scalable')) = 10.05\n",
      "2025-06-11 10:19:46,169 - matplotlib.font_manager - DEBUG - findfont: score(FontEntry(fname='/System/Library/Fonts/KohinoorBangla.ttc', name='Kohinoor Bangla', style='normal', variant='normal', weight=400, stretch='normal', size='scalable')) = 10.05\n",
      "2025-06-11 10:19:46,169 - matplotlib.font_manager - DEBUG - findfont: score(FontEntry(fname='/Users/drago/Library/Fonts/Go Mono Bold Italic for Powerline.ttf', name='Go Mono for Powerline', style='italic', variant='normal', weight=600, stretch='normal', size='scalable')) = 11.24\n",
      "2025-06-11 10:19:46,169 - matplotlib.font_manager - DEBUG - findfont: score(FontEntry(fname='/System/Library/Fonts/Supplemental/STIXNonUniIta.otf', name='STIXNonUnicode', style='italic', variant='normal', weight=400, stretch='normal', size='scalable')) = 11.05\n",
      "2025-06-11 10:19:46,170 - matplotlib.font_manager - DEBUG - findfont: score(FontEntry(fname='/System/Library/Fonts/Helvetica.ttc', name='Helvetica', style='normal', variant='normal', weight=400, stretch='normal', size='scalable')) = 10.05\n",
      "2025-06-11 10:19:46,170 - matplotlib.font_manager - DEBUG - findfont: score(FontEntry(fname='/System/Library/Fonts/Supplemental/NotoSansPsalterPahlavi-Regular.ttf', name='Noto Sans Psalter Pahlavi', style='normal', variant='normal', weight=400, stretch='normal', size='scalable')) = 10.05\n",
      "2025-06-11 10:19:46,170 - matplotlib.font_manager - DEBUG - findfont: score(FontEntry(fname='/System/Library/Fonts/Supplemental/NotoSansLepcha-Regular.ttf', name='Noto Sans Lepcha', style='normal', variant='normal', weight=400, stretch='normal', size='scalable')) = 10.05\n",
      "2025-06-11 10:19:46,170 - matplotlib.font_manager - DEBUG - findfont: score(FontEntry(fname='/System/Library/AssetsV2/com_apple_MobileAsset_Font7/79115b675fbb31b036cc749efe17348bfe903880.asset/AssetData/LavaKannada.ttc', name='Lava Kannada', style='normal', variant='normal', weight=400, stretch='normal', size='scalable')) = 10.05\n",
      "2025-06-11 10:19:46,171 - matplotlib.font_manager - DEBUG - findfont: score(FontEntry(fname='/Users/drago/Library/Fonts/Source Code Pro Powerline Italic.otf', name='Source Code Pro for Powerline', style='italic', variant='normal', weight=400, stretch='normal', size='scalable')) = 11.05\n",
      "2025-06-11 10:19:46,171 - matplotlib.font_manager - DEBUG - findfont: score(FontEntry(fname='/System/Library/Fonts/Supplemental/NotoSansMarchen-Regular.ttf', name='Noto Sans Marchen', style='normal', variant='normal', weight=400, stretch='normal', size='scalable')) = 10.05\n",
      "2025-06-11 10:19:46,171 - matplotlib.font_manager - DEBUG - findfont: score(FontEntry(fname='/System/Library/Fonts/Supplemental/NotoSansElbasan-Regular.ttf', name='Noto Sans Elbasan', style='normal', variant='normal', weight=400, stretch='normal', size='scalable')) = 10.05\n",
      "2025-06-11 10:19:46,171 - matplotlib.font_manager - DEBUG - findfont: score(FontEntry(fname='/System/Library/Fonts/Supplemental/STIXTwoText-Italic.ttf', name='STIX Two Text', style='italic', variant='normal', weight=400, stretch='normal', size='scalable')) = 11.05\n",
      "2025-06-11 10:19:46,172 - matplotlib.font_manager - DEBUG - findfont: score(FontEntry(fname='/Users/drago/Library/Fonts/Meslo LG M DZ Italic for Powerline.ttf', name='Meslo LG M DZ for Powerline', style='italic', variant='normal', weight=400, stretch='normal', size='scalable')) = 11.05\n",
      "2025-06-11 10:19:46,172 - matplotlib.font_manager - DEBUG - findfont: score(FontEntry(fname='/System/Library/Fonts/Supplemental/STIXSizTwoSymReg.otf', name='STIXSizeTwoSym', style='normal', variant='normal', weight=400, stretch='normal', size='scalable')) = 10.05\n",
      "2025-06-11 10:19:46,172 - matplotlib.font_manager - DEBUG - findfont: score(FontEntry(fname='/System/Library/Fonts/Supplemental/NotoSansDuployan-Regular.ttf', name='Noto Sans Duployan', style='normal', variant='normal', weight=400, stretch='normal', size='scalable')) = 10.05\n",
      "2025-06-11 10:19:46,172 - matplotlib.font_manager - DEBUG - findfont: score(FontEntry(fname='/System/Library/AssetsV2/com_apple_MobileAsset_Font7/40e56e4eafd8b4db78ffe316f64ac4bedba37b53.asset/AssetData/ToppanBunkyuMidashiMinchoStdN-ExtraBold.otf', name='Toppan Bunkyu Midashi Mincho', style='normal', variant='normal', weight=900, stretch='normal', size='scalable')) = 10.525\n",
      "2025-06-11 10:19:46,173 - matplotlib.font_manager - DEBUG - findfont: score(FontEntry(fname='/Users/drago/Library/Fonts/Source Code Pro for Powerline.otf', name='Source Code Pro for Powerline', style='normal', variant='normal', weight=400, stretch='normal', size='scalable')) = 10.05\n",
      "2025-06-11 10:19:46,173 - matplotlib.font_manager - DEBUG - findfont: score(FontEntry(fname='/Users/drago/Library/Fonts/Source Code Pro ExtraLight for Powerline.otf', name='Source Code Pro for Powerline', style='normal', variant='normal', weight=200, stretch='normal', size='scalable')) = 10.24\n",
      "2025-06-11 10:19:46,173 - matplotlib.font_manager - DEBUG - findfont: score(FontEntry(fname='/Users/drago/Library/Fonts/Inconsolata-g for Powerline.otf', name='Inconsolata-g for Powerline', style='normal', variant='normal', weight=500, stretch='normal', size='scalable')) = 10.145\n",
      "2025-06-11 10:19:46,173 - matplotlib.font_manager - DEBUG - findfont: score(FontEntry(fname='/System/Library/Fonts/Supplemental/Gurmukhi.ttf', name='Gurmukhi MT', style='normal', variant='normal', weight=500, stretch='normal', size='scalable')) = 10.145\n",
      "2025-06-11 10:19:46,173 - matplotlib.font_manager - DEBUG - findfont: score(FontEntry(fname='/Users/drago/Library/Fonts/Cousine Italic for Powerline.ttf', name='Cousine for Powerline', style='italic', variant='normal', weight=400, stretch='normal', size='scalable')) = 11.05\n",
      "2025-06-11 10:19:46,173 - matplotlib.font_manager - DEBUG - findfont: score(FontEntry(fname='/System/Library/AssetsV2/com_apple_MobileAsset_Font7/0f801573a81c766c0b812877c3cd6dc55ea67f05.asset/AssetData/SamaKannada.ttc', name='Sama Kannada', style='normal', variant='normal', weight=400, stretch='normal', size='scalable')) = 10.05\n",
      "2025-06-11 10:19:46,174 - matplotlib.font_manager - DEBUG - findfont: score(FontEntry(fname='/Users/drago/Library/Fonts/Meslo LG L DZ Bold for Powerline.ttf', name='Meslo LG L DZ for Powerline', style='normal', variant='normal', weight=700, stretch='normal', size='scalable')) = 10.335\n",
      "2025-06-11 10:19:46,174 - matplotlib.font_manager - DEBUG - findfont: score(FontEntry(fname='/System/Library/Fonts/Supplemental/Verdana Bold.ttf', name='Verdana', style='normal', variant='normal', weight=700, stretch='normal', size='scalable')) = 10.335\n",
      "2025-06-11 10:19:46,174 - matplotlib.font_manager - DEBUG - findfont: score(FontEntry(fname='/System/Library/Fonts/Supplemental/STIXSizFourSymBol.otf', name='STIXSizeFourSym', style='normal', variant='normal', weight=700, stretch='normal', size='scalable')) = 10.335\n",
      "2025-06-11 10:19:46,174 - matplotlib.font_manager - DEBUG - findfont: score(FontEntry(fname='/Users/drago/Library/Fonts/Monofur Bold for Powerline.ttf', name='monofur for Powerline', style='normal', variant='normal', weight=700, stretch='normal', size='scalable')) = 10.335\n",
      "2025-06-11 10:19:46,174 - matplotlib.font_manager - DEBUG - findfont: score(FontEntry(fname='/System/Library/Fonts/NotoSansMyanmar.ttc', name='Noto Sans Myanmar', style='normal', variant='normal', weight=900, stretch='normal', size='scalable')) = 10.525\n",
      "2025-06-11 10:19:46,175 - matplotlib.font_manager - DEBUG - findfont: score(FontEntry(fname='/Users/drago/Library/Fonts/Meslo LG M DZ Bold Italic for Powerline.ttf', name='Meslo LG M DZ for Powerline', style='italic', variant='normal', weight=700, stretch='normal', size='scalable')) = 11.335\n",
      "2025-06-11 10:19:46,175 - matplotlib.font_manager - DEBUG - findfont: score(FontEntry(fname='/System/Library/Fonts/NewYork.ttf', name='.New York', style='normal', variant='normal', weight=400, stretch='normal', size='scalable')) = 10.05\n",
      "2025-06-11 10:19:46,175 - matplotlib.font_manager - DEBUG - findfont: score(FontEntry(fname='/System/Library/Fonts/Supplemental/Lao MN.ttc', name='Lao MN', style='normal', variant='normal', weight=400, stretch='normal', size='scalable')) = 10.05\n",
      "2025-06-11 10:19:46,175 - matplotlib.font_manager - DEBUG - findfont: score(FontEntry(fname='/System/Library/Fonts/ヒラギノ角ゴシック W4.ttc', name='Hiragino Sans', style='normal', variant='normal', weight=400, stretch='normal', size='scalable')) = 10.05\n",
      "2025-06-11 10:19:46,175 - matplotlib.font_manager - DEBUG - findfont: score(FontEntry(fname='/Users/drago/Library/Fonts/Go Mono Italic for Powerline.ttf', name='Go Mono for Powerline', style='italic', variant='normal', weight=400, stretch='normal', size='scalable')) = 11.05\n",
      "2025-06-11 10:19:46,175 - matplotlib.font_manager - DEBUG - findfont: score(FontEntry(fname='/System/Library/Fonts/Supplemental/NotoSansMendeKikakui-Regular.ttf', name='Noto Sans Mende Kikakui', style='normal', variant='normal', weight=400, stretch='normal', size='scalable')) = 10.05\n",
      "2025-06-11 10:19:46,176 - matplotlib.font_manager - DEBUG - findfont: score(FontEntry(fname='/System/Library/AssetsV2/com_apple_MobileAsset_Font7/70816a43827731d40efe234b94feba96db91024f.asset/AssetData/NanumMyeongjo.ttc', name='Nanum Myeongjo', style='normal', variant='normal', weight=400, stretch='normal', size='scalable')) = 10.05\n",
      "2025-06-11 10:19:46,176 - matplotlib.font_manager - DEBUG - findfont: score(FontEntry(fname='/System/Library/Fonts/Supplemental/Arial Narrow.ttf', name='Arial Narrow', style='normal', variant='normal', weight=400, stretch='condensed', size='scalable')) = 10.25\n",
      "2025-06-11 10:19:46,176 - matplotlib.font_manager - DEBUG - findfont: score(FontEntry(fname='/System/Library/Fonts/Supplemental/Bodoni 72 OS.ttc', name='Bodoni 72 Oldstyle', style='normal', variant='normal', weight=400, stretch='normal', size='scalable')) = 10.05\n",
      "2025-06-11 10:19:46,176 - matplotlib.font_manager - DEBUG - findfont: score(FontEntry(fname='/System/Library/Fonts/NotoSerifMyanmar.ttc', name='Noto Serif Myanmar', style='normal', variant='normal', weight=900, stretch='normal', size='scalable')) = 10.525\n",
      "2025-06-11 10:19:46,176 - matplotlib.font_manager - DEBUG - findfont: score(FontEntry(fname='/Users/drago/Library/Fonts/SpaceMono-Regular.ttf', name='Space Mono', style='normal', variant='normal', weight=400, stretch='normal', size='scalable')) = 10.05\n",
      "2025-06-11 10:19:46,176 - matplotlib.font_manager - DEBUG - findfont: score(FontEntry(fname='/System/Library/AssetsV2/com_apple_MobileAsset_Font7/e5b038333b21d35a7cab9653e3551c464452f70b.asset/AssetData/Charmonman.ttc', name='Charmonman', style='normal', variant='normal', weight=400, stretch='normal', size='scalable')) = 10.05\n",
      "2025-06-11 10:19:46,177 - matplotlib.font_manager - DEBUG - findfont: score(FontEntry(fname='/System/Library/AssetsV2/com_apple_MobileAsset_Font7/e23704ffef04f1174546b50c3b72c2f576fc8fd4.asset/AssetData/BalooTammaKannada.ttc', name='Baloo Tamma 2', style='normal', variant='normal', weight=400, stretch='normal', size='scalable')) = 10.05\n",
      "2025-06-11 10:19:46,177 - matplotlib.font_manager - DEBUG - findfont: score(FontEntry(fname='/System/Library/AssetsV2/com_apple_MobileAsset_Font7/10b097deccb3c6126d986e24b1980031ff7399da.asset/AssetData/TsukushiBMaruGothic.ttc', name='Tsukushi B Round Gothic', style='normal', variant='normal', weight=400, stretch='normal', size='scalable')) = 10.05\n",
      "2025-06-11 10:19:46,177 - matplotlib.font_manager - DEBUG - findfont: score(FontEntry(fname='/System/Library/Fonts/Supplemental/Kefa.ttc', name='Kefa', style='normal', variant='normal', weight=400, stretch='normal', size='scalable')) = 10.05\n",
      "2025-06-11 10:19:46,177 - matplotlib.font_manager - DEBUG - findfont: score(FontEntry(fname='/System/Library/Fonts/Supplemental/NotoSansBuhid-Regular.ttf', name='Noto Sans Buhid', style='normal', variant='normal', weight=400, stretch='normal', size='scalable')) = 10.05\n",
      "2025-06-11 10:19:46,177 - matplotlib.font_manager - DEBUG - findfont: score(FontEntry(fname='/Users/drago/Library/Fonts/Roboto Mono Thin for Powerline.ttf', name='Roboto Mono Thin for Powerline', style='normal', variant='normal', weight=250, stretch='normal', size='scalable')) = 10.1925\n",
      "2025-06-11 10:19:46,178 - matplotlib.font_manager - DEBUG - findfont: score(FontEntry(fname='/Users/drago/Library/Fonts/Anonymice Powerline Bold Italic.ttf', name='Anonymous Pro for Powerline', style='italic', variant='normal', weight=700, stretch='normal', size='scalable')) = 11.335\n",
      "2025-06-11 10:19:46,178 - matplotlib.font_manager - DEBUG - findfont: score(FontEntry(fname='/Users/drago/Library/Fonts/Space Mono Bold for Powerline.ttf', name='Space Mono for Powerline', style='normal', variant='normal', weight=700, stretch='normal', size='scalable')) = 10.335\n",
      "2025-06-11 10:19:46,178 - matplotlib.font_manager - DEBUG - findfont: score(FontEntry(fname='/Users/drago/Library/Fonts/3270SemiNarrow.ttf', name='IBM 3270 Semi-Narrow', style='normal', variant='normal', weight=500, stretch='condensed', size='scalable')) = 10.344999999999999\n",
      "2025-06-11 10:19:46,178 - matplotlib.font_manager - DEBUG - findfont: score(FontEntry(fname='/Users/drago/Library/Fonts/Meslo LG L DZ Regular for Powerline.ttf', name='Meslo LG L DZ for Powerline', style='normal', variant='normal', weight=400, stretch='normal', size='scalable')) = 10.05\n",
      "2025-06-11 10:19:46,179 - matplotlib.font_manager - DEBUG - findfont: score(FontEntry(fname='/System/Library/AssetsV2/com_apple_MobileAsset_Font7/54476f0fabbd6ca1ab2a0c4d19219232acfe366c.asset/AssetData/ChakraPetch.ttc', name='Chakra Petch', style='normal', variant='normal', weight=400, stretch='normal', size='scalable')) = 10.05\n",
      "2025-06-11 10:19:46,179 - matplotlib.font_manager - DEBUG - findfont: score(FontEntry(fname='/System/Library/AssetsV2/com_apple_MobileAsset_Font7/96af7ec9e88d5dae450d3162213f92a7b1129430.asset/AssetData/YuppySC-Regular.otf', name='Yuppy SC', style='normal', variant='normal', weight=500, stretch='normal', size='scalable')) = 10.145\n",
      "2025-06-11 10:19:46,179 - matplotlib.font_manager - DEBUG - findfont: score(FontEntry(fname='/System/Library/AssetsV2/com_apple_MobileAsset_Font7/229d50d9c2cfb69a5a71be23225ae80f26257cc2.asset/AssetData/Krub.ttc', name='Krub', style='normal', variant='normal', weight=400, stretch='normal', size='scalable')) = 10.05\n",
      "2025-06-11 10:19:46,179 - matplotlib.font_manager - DEBUG - findfont: score(FontEntry(fname='/System/Library/Fonts/KohinoorTelugu.ttc', name='Kohinoor Telugu', style='normal', variant='normal', weight=400, stretch='normal', size='scalable')) = 10.05\n",
      "2025-06-11 10:19:46,179 - matplotlib.font_manager - DEBUG - findfont: score(FontEntry(fname='/System/Library/Fonts/STHeiti Medium.ttc', name='Heiti TC', style='normal', variant='normal', weight=400, stretch='normal', size='scalable')) = 10.05\n",
      "2025-06-11 10:19:46,179 - matplotlib.font_manager - DEBUG - findfont: score(FontEntry(fname='/System/Library/AssetsV2/com_apple_MobileAsset_Font7/eb257c12d1a51c8c661b89f30eec56cacf9b8987.asset/AssetData/STHEITI.ttf', name='STHeiti', style='normal', variant='normal', weight=400, stretch='normal', size='scalable')) = 10.05\n",
      "2025-06-11 10:19:46,180 - matplotlib.font_manager - DEBUG - findfont: score(FontEntry(fname='/System/Library/AssetsV2/com_apple_MobileAsset_Font7/f40f0181bac46ce79e53d040ad5075b8221f78e1.asset/AssetData/Charm.ttc', name='Charm', style='normal', variant='normal', weight=400, stretch='normal', size='scalable')) = 10.05\n",
      "2025-06-11 10:19:46,180 - matplotlib.font_manager - DEBUG - findfont: score(FontEntry(fname='/System/Library/Fonts/Supplemental/NotoSansChakma-Regular.ttf', name='Noto Sans Chakma', style='normal', variant='normal', weight=400, stretch='normal', size='scalable')) = 10.05\n",
      "2025-06-11 10:19:46,180 - matplotlib.font_manager - DEBUG - findfont: score(FontEntry(fname='/System/Library/Fonts/Supplemental/Malayalam MN.ttc', name='Malayalam MN', style='normal', variant='normal', weight=400, stretch='normal', size='scalable')) = 10.05\n",
      "2025-06-11 10:19:46,180 - matplotlib.font_manager - DEBUG - findfont: score(FontEntry(fname='/System/Library/AssetsV2/com_apple_MobileAsset_Font7/584ea2a48d14147049c2f9eaee147fe5a1f279ac.asset/AssetData/BiauKai.ttc', name='BiauKaiHK', style='normal', variant='normal', weight=400, stretch='normal', size='scalable')) = 10.05\n",
      "2025-06-11 10:19:46,180 - matplotlib.font_manager - DEBUG - findfont: score(FontEntry(fname='/System/Library/Fonts/Avenir Next Condensed.ttc', name='Avenir Next Condensed', style='normal', variant='normal', weight=700, stretch='condensed', size='scalable')) = 10.535\n",
      "2025-06-11 10:19:46,180 - matplotlib.font_manager - DEBUG - findfont: score(FontEntry(fname='/Users/drago/Library/Fonts/Roboto Mono Medium for Powerline.ttf', name='Roboto Mono Medium for Powerline', style='normal', variant='normal', weight=500, stretch='normal', size='scalable')) = 10.145\n",
      "2025-06-11 10:19:46,181 - matplotlib.font_manager - DEBUG - findfont: score(FontEntry(fname='/System/Library/AssetsV2/com_apple_MobileAsset_Font7/857d6c90171c328a4892c1492291d34e401d7f25.asset/AssetData/SimSong.ttc', name='SimSong', style='normal', variant='normal', weight=400, stretch='normal', size='scalable')) = 10.05\n",
      "2025-06-11 10:19:46,181 - matplotlib.font_manager - DEBUG - findfont: score(FontEntry(fname='/System/Library/AssetsV2/com_apple_MobileAsset_Font7/b86e58f38fd21e9782e70a104676f1655e72ebab.asset/AssetData/Yuanti.ttc', name='Yuanti SC', style='normal', variant='normal', weight=400, stretch='normal', size='scalable')) = 10.05\n",
      "2025-06-11 10:19:46,181 - matplotlib.font_manager - DEBUG - findfont: score(FontEntry(fname='/Users/drago/Library/Fonts/Arimo Italic for Powerline.ttf', name='Arimo for Powerline', style='italic', variant='normal', weight=400, stretch='normal', size='scalable')) = 11.05\n",
      "2025-06-11 10:19:46,181 - matplotlib.font_manager - DEBUG - findfont: score(FontEntry(fname='/System/Library/Fonts/Optima.ttc', name='Optima', style='normal', variant='normal', weight=400, stretch='normal', size='scalable')) = 10.05\n",
      "2025-06-11 10:19:46,181 - matplotlib.font_manager - DEBUG - findfont: score(FontEntry(fname='/Users/drago/Library/Fonts/Droid Sans Mono Slashed for Powerline.ttf', name='Droid Sans Mono Slashed for Powerline', style='normal', variant='normal', weight=400, stretch='normal', size='scalable')) = 10.05\n",
      "2025-06-11 10:19:46,182 - matplotlib.font_manager - DEBUG - findfont: score(FontEntry(fname='/System/Library/Fonts/Supplemental/Farah.ttc', name='Farah', style='normal', variant='normal', weight=400, stretch='normal', size='scalable')) = 10.05\n",
      "2025-06-11 10:19:46,182 - matplotlib.font_manager - DEBUG - findfont: score(FontEntry(fname='/System/Library/Fonts/Supplemental/Kannada Sangam MN.ttc', name='Kannada Sangam MN', style='normal', variant='normal', weight=400, stretch='normal', size='scalable')) = 10.05\n",
      "2025-06-11 10:19:46,182 - matplotlib.font_manager - DEBUG - findfont: score(FontEntry(fname='/System/Library/Fonts/Supplemental/Tahoma.ttf', name='Tahoma', style='normal', variant='normal', weight=400, stretch='normal', size='scalable')) = 10.05\n",
      "2025-06-11 10:19:46,182 - matplotlib.font_manager - DEBUG - findfont: score(FontEntry(fname='/System/Library/Fonts/Supplemental/Zapfino.ttf', name='Zapfino', style='normal', variant='normal', weight=400, stretch='normal', size='scalable')) = 10.05\n",
      "2025-06-11 10:19:46,182 - matplotlib.font_manager - DEBUG - findfont: score(FontEntry(fname='/System/Library/Fonts/Supplemental/STIXIntUpDReg.otf', name='STIXIntegralsUpD', style='normal', variant='normal', weight=400, stretch='normal', size='scalable')) = 10.05\n",
      "2025-06-11 10:19:46,183 - matplotlib.font_manager - DEBUG - findfont: score(FontEntry(fname='/System/Library/Fonts/Supplemental/Beirut.ttc', name='Beirut', style='normal', variant='normal', weight=700, stretch='normal', size='scalable')) = 10.335\n",
      "2025-06-11 10:19:46,183 - matplotlib.font_manager - DEBUG - findfont: score(FontEntry(fname='/System/Library/AssetsV2/com_apple_MobileAsset_Font7/938fc4f0524ec9f143f1b39a4e63ff9585298376.asset/AssetData/ToppanBunkyuMidashiGothicStdN-ExtraBold.otf', name='Toppan Bunkyu Midashi Gothic', style='normal', variant='normal', weight=900, stretch='normal', size='scalable')) = 10.525\n",
      "2025-06-11 10:19:46,183 - matplotlib.font_manager - DEBUG - findfont: score(FontEntry(fname='/System/Library/Fonts/Supplemental/NotoSansGlagolitic-Regular.ttf', name='Noto Sans Glagolitic', style='normal', variant='normal', weight=400, stretch='normal', size='scalable')) = 10.05\n",
      "2025-06-11 10:19:46,183 - matplotlib.font_manager - DEBUG - findfont: score(FontEntry(fname='/System/Library/Fonts/Supplemental/NotoSansCoptic-Regular.ttf', name='Noto Sans Coptic', style='normal', variant='normal', weight=400, stretch='normal', size='scalable')) = 10.05\n",
      "2025-06-11 10:19:46,183 - matplotlib.font_manager - DEBUG - findfont: score(FontEntry(fname='/System/Library/AssetsV2/com_apple_MobileAsset_Font7/9d5450ee93f17da1eacfa01b5e7b598f9e2dda2b.asset/AssetData/Baoli.ttc', name='Baoli SC', style='normal', variant='normal', weight=400, stretch='normal', size='scalable')) = 10.05\n",
      "2025-06-11 10:19:46,184 - matplotlib.font_manager - DEBUG - findfont: score(FontEntry(fname='/System/Library/Fonts/Supplemental/Phosphate.ttc', name='Phosphate', style='normal', variant='normal', weight=400, stretch='normal', size='scalable')) = 10.05\n",
      "2025-06-11 10:19:46,184 - matplotlib.font_manager - DEBUG - findfont: score(FontEntry(fname='/System/Library/Fonts/Supplemental/NotoSansSaurashtra-Regular.ttf', name='Noto Sans Saurashtra', style='normal', variant='normal', weight=400, stretch='normal', size='scalable')) = 10.05\n",
      "2025-06-11 10:19:46,184 - matplotlib.font_manager - DEBUG - findfont: score(FontEntry(fname='/Users/drago/Library/Fonts/Meslo LG L DZ Italic for Powerline.ttf', name='Meslo LG L DZ for Powerline', style='italic', variant='normal', weight=400, stretch='normal', size='scalable')) = 11.05\n",
      "2025-06-11 10:19:46,184 - matplotlib.font_manager - DEBUG - findfont: score(FontEntry(fname='/System/Library/Fonts/ヒラギノ角ゴシック W6.ttc', name='Hiragino Sans', style='normal', variant='normal', weight=600, stretch='normal', size='scalable')) = 10.24\n",
      "2025-06-11 10:19:46,184 - matplotlib.font_manager - DEBUG - findfont: score(FontEntry(fname='/System/Library/Fonts/Supplemental/Trebuchet MS.ttf', name='Trebuchet MS', style='normal', variant='normal', weight=400, stretch='normal', size='scalable')) = 10.05\n",
      "2025-06-11 10:19:46,185 - matplotlib.font_manager - DEBUG - findfont: score(FontEntry(fname='/Library/Fonts/RODE Noto Sans CJK SC R.otf', name='RODE Noto Sans CJK SC R', style='normal', variant='normal', weight=400, stretch='normal', size='scalable')) = 10.05\n",
      "2025-06-11 10:19:46,185 - matplotlib.font_manager - DEBUG - findfont: score(FontEntry(fname='/System/Library/Fonts/Supplemental/STIXGeneralBolIta.otf', name='STIXGeneral', style='italic', variant='normal', weight=700, stretch='normal', size='scalable')) = 11.335\n",
      "2025-06-11 10:19:46,185 - matplotlib.font_manager - DEBUG - findfont: score(FontEntry(fname='/System/Library/AssetsV2/com_apple_MobileAsset_Font7/9e22136ec82f77bba367e78671c34422a2dbefb9.asset/AssetData/BalooBhaijaanUrdu-Regular.ttf', name='Baloo Bhaijaan', style='normal', variant='normal', weight=400, stretch='normal', size='scalable')) = 10.05\n",
      "2025-06-11 10:19:46,185 - matplotlib.font_manager - DEBUG - findfont: score(FontEntry(fname='/Users/drago/Library/Fonts/Meslo LG S Bold Italic for Powerline.ttf', name='Meslo LG S for Powerline', style='italic', variant='normal', weight=700, stretch='normal', size='scalable')) = 11.335\n",
      "2025-06-11 10:19:46,185 - matplotlib.font_manager - DEBUG - findfont: score(FontEntry(fname='/Library/Fonts/Arial Unicode.ttf', name='Arial Unicode MS', style='normal', variant='normal', weight=400, stretch='normal', size='scalable')) = 10.05\n",
      "2025-06-11 10:19:46,185 - matplotlib.font_manager - DEBUG - findfont: score(FontEntry(fname='/Users/drago/Library/Fonts/Meslo LG M Bold for Powerline.ttf', name='Meslo LG M for Powerline', style='normal', variant='normal', weight=700, stretch='normal', size='scalable')) = 10.335\n",
      "2025-06-11 10:19:46,186 - matplotlib.font_manager - DEBUG - findfont: score(FontEntry(fname='/System/Library/Fonts/Supplemental/Devanagari Sangam MN.ttc', name='Devanagari Sangam MN', style='normal', variant='normal', weight=400, stretch='normal', size='scalable')) = 10.05\n",
      "2025-06-11 10:19:46,186 - matplotlib.font_manager - DEBUG - findfont: score(FontEntry(fname='/System/Library/Fonts/ヒラギノ角ゴシック W1.ttc', name='Hiragino Sans', style='normal', variant='normal', weight=200, stretch='normal', size='scalable')) = 10.24\n",
      "2025-06-11 10:19:46,186 - matplotlib.font_manager - DEBUG - findfont: score(FontEntry(fname='/System/Library/Fonts/Supplemental/NotoSansUgaritic-Regular.ttf', name='Noto Sans Ugaritic', style='normal', variant='normal', weight=400, stretch='normal', size='scalable')) = 10.05\n",
      "2025-06-11 10:19:46,186 - matplotlib.font_manager - DEBUG - findfont: score(FontEntry(fname='/System/Library/Fonts/Supplemental/Wingdings 3.ttf', name='Wingdings 3', style='normal', variant='normal', weight=400, stretch='normal', size='scalable')) = 10.05\n",
      "2025-06-11 10:19:46,186 - matplotlib.font_manager - DEBUG - findfont: score(FontEntry(fname='/Users/drago/Library/Fonts/Literation Mono Powerline Bold Italic.ttf', name='Liberation Mono for Powerline', style='italic', variant='normal', weight=700, stretch='normal', size='scalable')) = 11.335\n",
      "2025-06-11 10:19:46,186 - matplotlib.font_manager - DEBUG - findfont: score(FontEntry(fname='/System/Library/Fonts/Avenir Next.ttc', name='Avenir Next', style='normal', variant='normal', weight=700, stretch='normal', size='scalable')) = 10.335\n",
      "2025-06-11 10:19:46,187 - matplotlib.font_manager - DEBUG - findfont: score(FontEntry(fname='/System/Library/Fonts/SFNS.ttf', name='System Font', style='normal', variant='normal', weight=400, stretch='normal', size='scalable')) = 10.05\n",
      "2025-06-11 10:19:46,187 - matplotlib.font_manager - DEBUG - findfont: score(FontEntry(fname='/Users/drago/Library/Fonts/Hack-Italic.ttf', name='Hack', style='italic', variant='normal', weight=400, stretch='normal', size='scalable')) = 11.05\n",
      "2025-06-11 10:19:46,187 - matplotlib.font_manager - DEBUG - findfont: score(FontEntry(fname='/System/Library/Fonts/Supplemental/NotoSansKhojki-Regular.ttf', name='Noto Sans Khojki', style='normal', variant='normal', weight=400, stretch='normal', size='scalable')) = 10.05\n",
      "2025-06-11 10:19:46,187 - matplotlib.font_manager - DEBUG - findfont: score(FontEntry(fname='/System/Library/Fonts/Supplemental/KufiStandardGK.ttc', name='KufiStandardGK', style='normal', variant='normal', weight=400, stretch='normal', size='scalable')) = 10.05\n",
      "2025-06-11 10:19:46,187 - matplotlib.font_manager - DEBUG - findfont: score(FontEntry(fname='/System/Library/Fonts/Supplemental/NotoSansYi-Regular.ttf', name='Noto Sans Yi', style='normal', variant='normal', weight=400, stretch='normal', size='scalable')) = 10.05\n",
      "2025-06-11 10:19:46,188 - matplotlib.font_manager - DEBUG - findfont: score(FontEntry(fname='/System/Library/Fonts/Supplemental/STIXIntUpDBol.otf', name='STIXIntegralsUpD', style='normal', variant='normal', weight=700, stretch='normal', size='scalable')) = 10.335\n",
      "2025-06-11 10:19:46,188 - matplotlib.font_manager - DEBUG - findfont: score(FontEntry(fname='/System/Library/Fonts/ヒラギノ角ゴシック W8.ttc', name='Hiragino Sans', style='normal', variant='normal', weight=800, stretch='normal', size='scalable')) = 10.43\n",
      "2025-06-11 10:19:46,188 - matplotlib.font_manager - DEBUG - findfont: score(FontEntry(fname='/System/Library/Fonts/Monaco.ttf', name='Monaco', style='normal', variant='normal', weight=400, stretch='normal', size='scalable')) = 10.05\n",
      "2025-06-11 10:19:46,188 - matplotlib.font_manager - DEBUG - findfont: score(FontEntry(fname='/System/Library/Fonts/Supplemental/Brush Script.ttf', name='Brush Script MT', style='italic', variant='normal', weight=400, stretch='normal', size='scalable')) = 11.05\n",
      "2025-06-11 10:19:46,188 - matplotlib.font_manager - DEBUG - findfont: score(FontEntry(fname='/System/Library/AssetsV2/com_apple_MobileAsset_Font7/de97612eef4e3cf8ee8e5c0ebd6fd879bbecd23a.asset/AssetData/AppleLiGothic-Medium.ttf', name='Apple LiGothic', style='normal', variant='normal', weight=400, stretch='normal', size='scalable')) = 10.05\n",
      "2025-06-11 10:19:46,189 - matplotlib.font_manager - DEBUG - findfont: score(FontEntry(fname='/Users/drago/Library/Fonts/Go Mono Bold for Powerline.ttf', name='Go Mono for Powerline', style='normal', variant='normal', weight=600, stretch='normal', size='scalable')) = 10.24\n",
      "2025-06-11 10:19:46,189 - matplotlib.font_manager - DEBUG - findfont: score(FontEntry(fname='/Users/drago/Library/Fonts/Meslo LG M Regular for Powerline.ttf', name='Meslo LG M for Powerline', style='normal', variant='normal', weight=400, stretch='normal', size='scalable')) = 10.05\n",
      "2025-06-11 10:19:46,189 - matplotlib.font_manager - DEBUG - findfont: score(FontEntry(fname='/System/Library/Fonts/Supplemental/Papyrus.ttc', name='Papyrus', style='normal', variant='normal', weight=400, stretch='condensed', size='scalable')) = 10.25\n",
      "2025-06-11 10:19:46,189 - matplotlib.font_manager - DEBUG - findfont: score(FontEntry(fname='/System/Library/Fonts/Supplemental/NotoSansAvestan-Regular.ttf', name='Noto Sans Avestan', style='normal', variant='normal', weight=400, stretch='normal', size='scalable')) = 10.05\n",
      "2025-06-11 10:19:46,189 - matplotlib.font_manager - DEBUG - findfont: score(FontEntry(fname='/System/Library/Fonts/Supplemental/Microsoft Sans Serif.ttf', name='Microsoft Sans Serif', style='normal', variant='normal', weight=400, stretch='normal', size='scalable')) = 10.05\n",
      "2025-06-11 10:19:46,190 - matplotlib.font_manager - DEBUG - findfont: score(FontEntry(fname='/System/Library/Fonts/Supplemental/Mshtakan.ttc', name='Mshtakan', style='normal', variant='normal', weight=400, stretch='normal', size='scalable')) = 10.05\n",
      "2025-06-11 10:19:46,190 - matplotlib.font_manager - DEBUG - findfont: score(FontEntry(fname='/System/Library/AssetsV2/com_apple_MobileAsset_Font7/62032b9b64a0e3a9121c50aeb2ed794e3e2c201f.asset/AssetData/Hei.ttf', name='Hei', style='normal', variant='normal', weight=400, stretch='normal', size='scalable')) = 10.05\n",
      "2025-06-11 10:19:46,190 - matplotlib.font_manager - DEBUG - findfont: score(FontEntry(fname='/System/Library/Fonts/Supplemental/ITFDevanagari.ttc', name='ITF Devanagari', style='normal', variant='normal', weight=400, stretch='normal', size='scalable')) = 10.05\n",
      "2025-06-11 10:19:46,190 - matplotlib.font_manager - DEBUG - findfont: score(FontEntry(fname='/System/Library/Fonts/Supplemental/Herculanum.ttf', name='Herculanum', style='normal', variant='normal', weight=400, stretch='normal', size='scalable')) = 10.05\n",
      "2025-06-11 10:19:46,190 - matplotlib.font_manager - DEBUG - findfont: score(FontEntry(fname='/System/Library/Fonts/Supplemental/NotoSansLimbu-Regular.ttf', name='Noto Sans Limbu', style='normal', variant='normal', weight=400, stretch='normal', size='scalable')) = 10.05\n",
      "2025-06-11 10:19:46,191 - matplotlib.font_manager - DEBUG - findfont: score(FontEntry(fname='/Users/drago/Library/Fonts/Anonymice Powerline Bold.ttf', name='Anonymous Pro for Powerline', style='normal', variant='normal', weight=700, stretch='normal', size='scalable')) = 10.335\n",
      "2025-06-11 10:19:46,191 - matplotlib.font_manager - DEBUG - findfont: score(FontEntry(fname='/System/Library/Fonts/Supplemental/STIXSizOneSymBol.otf', name='STIXSizeOneSym', style='normal', variant='normal', weight=700, stretch='normal', size='scalable')) = 10.335\n",
      "2025-06-11 10:19:46,191 - matplotlib.font_manager - DEBUG - findfont: score(FontEntry(fname='/System/Library/Fonts/SFGeorgian.ttf', name='.SF Georgian', style='normal', variant='normal', weight=400, stretch='normal', size='scalable')) = 10.05\n",
      "2025-06-11 10:19:46,191 - matplotlib.font_manager - DEBUG - findfont: score(FontEntry(fname='/System/Library/Fonts/Supplemental/Raanana.ttc', name='Raanana', style='normal', variant='normal', weight=400, stretch='normal', size='scalable')) = 10.05\n",
      "2025-06-11 10:19:46,191 - matplotlib.font_manager - DEBUG - findfont: score(FontEntry(fname='/System/Library/Fonts/Supplemental/NotoSansOldSouthArabian-Regular.ttf', name='Noto Sans Old South Arabian', style='normal', variant='normal', weight=400, stretch='normal', size='scalable')) = 10.05\n",
      "2025-06-11 10:19:46,192 - matplotlib.font_manager - DEBUG - findfont: score(FontEntry(fname='/System/Library/AssetsV2/com_apple_MobileAsset_Font7/5b843781be7f58151ada774942a0eaa9ec79bd57.asset/AssetData/Kyokasho.ttc', name='YuKyokasho Yoko', style='normal', variant='normal', weight=500, stretch='normal', size='scalable')) = 10.145\n",
      "2025-06-11 10:19:46,192 - matplotlib.font_manager - DEBUG - findfont: score(FontEntry(fname='/System/Library/Fonts/Supplemental/Myanmar Sangam MN.ttc', name='Myanmar Sangam MN', style='normal', variant='normal', weight=400, stretch='normal', size='scalable')) = 10.05\n",
      "2025-06-11 10:19:46,192 - matplotlib.font_manager - DEBUG - findfont: score(FontEntry(fname='/Users/drago/Library/Fonts/Meslo LG L DZ Bold Italic for Powerline.ttf', name='Meslo LG L DZ for Powerline', style='italic', variant='normal', weight=700, stretch='normal', size='scalable')) = 11.335\n",
      "2025-06-11 10:19:46,192 - matplotlib.font_manager - DEBUG - findfont: score(FontEntry(fname='/System/Library/Fonts/Supplemental/NotoSansOldTurkic-Regular.ttf', name='Noto Sans Old Turkic', style='normal', variant='normal', weight=400, stretch='normal', size='scalable')) = 10.05\n",
      "2025-06-11 10:19:46,192 - matplotlib.font_manager - DEBUG - findfont: score(FontEntry(fname='/System/Library/Fonts/Supplemental/NotoSansWancho-Regular.ttf', name='Noto Sans Wancho', style='normal', variant='normal', weight=400, stretch='normal', size='scalable')) = 10.05\n",
      "2025-06-11 10:19:46,192 - matplotlib.font_manager - DEBUG - findfont: score(FontEntry(fname='/Users/drago/Library/Fonts/Source Code Pro Medium for Powerline.otf', name='Source Code Pro for Powerline', style='normal', variant='normal', weight=500, stretch='normal', size='scalable')) = 10.145\n",
      "2025-06-11 10:19:46,193 - matplotlib.font_manager - DEBUG - findfont: score(FontEntry(fname='/System/Library/Fonts/Supplemental/AlBayan.ttc', name='Al Bayan', style='normal', variant='normal', weight=400, stretch='normal', size='scalable')) = 10.05\n",
      "2025-06-11 10:19:46,193 - matplotlib.font_manager - DEBUG - findfont: score(FontEntry(fname='/Users/drago/Library/Fonts/Literation Mono Powerline Bold.ttf', name='Liberation Mono for Powerline', style='normal', variant='normal', weight=700, stretch='normal', size='scalable')) = 10.335\n",
      "2025-06-11 10:19:46,193 - matplotlib.font_manager - DEBUG - findfont: score(FontEntry(fname='/System/Library/Fonts/Supplemental/NotoSansCypriot-Regular.ttf', name='Noto Sans Cypriot', style='normal', variant='normal', weight=400, stretch='normal', size='scalable')) = 10.05\n",
      "2025-06-11 10:19:46,193 - matplotlib.font_manager - DEBUG - findfont: score(FontEntry(fname='/System/Library/Fonts/Supplemental/NotoSansLycian-Regular.ttf', name='Noto Sans Lycian', style='normal', variant='normal', weight=400, stretch='normal', size='scalable')) = 10.05\n",
      "2025-06-11 10:19:46,193 - matplotlib.font_manager - DEBUG - findfont: score(FontEntry(fname='/System/Library/Fonts/Supplemental/Wingdings.ttf', name='Wingdings', style='normal', variant='normal', weight=400, stretch='normal', size='scalable')) = 10.05\n",
      "2025-06-11 10:19:46,193 - matplotlib.font_manager - DEBUG - findfont: score(FontEntry(fname='/Library/Fonts/RODE Noto Sans Hindi B.ttf', name='RODE Noto Sans Hindi B', style='normal', variant='normal', weight=700, stretch='normal', size='scalable')) = 10.335\n",
      "2025-06-11 10:19:46,194 - matplotlib.font_manager - DEBUG - findfont: score(FontEntry(fname='/System/Library/Fonts/Supplemental/Times New Roman Italic.ttf', name='Times New Roman', style='italic', variant='normal', weight=400, stretch='normal', size='scalable')) = 11.05\n",
      "2025-06-11 10:19:46,194 - matplotlib.font_manager - DEBUG - findfont: score(FontEntry(fname='/System/Library/AssetsV2/com_apple_MobileAsset_Font7/7efab9946d635d7372e757e403306b8ec1b11918.asset/AssetData/TiroTelugu.ttc', name='Tiro Telugu', style='normal', variant='normal', weight=400, stretch='normal', size='scalable')) = 10.05\n",
      "2025-06-11 10:19:46,194 - matplotlib.font_manager - DEBUG - findfont: score(FontEntry(fname='/System/Library/Fonts/Supplemental/NotoSansAdlam-Regular.ttf', name='Noto Sans Adlam', style='normal', variant='normal', weight=400, stretch='normal', size='scalable')) = 10.05\n",
      "2025-06-11 10:19:46,194 - matplotlib.font_manager - DEBUG - findfont: score(FontEntry(fname='/System/Library/Fonts/SFArabicRounded.ttf', name='.SF Arabic Rounded', style='normal', variant='normal', weight=400, stretch='normal', size='scalable')) = 10.05\n",
      "2025-06-11 10:19:46,194 - matplotlib.font_manager - DEBUG - findfont: score(FontEntry(fname='/System/Library/AssetsV2/com_apple_MobileAsset_Font7/5a3fc034b64879656271c040cab38b65d4ea6548.asset/AssetData/LiSongPro.ttf', name='LiSong Pro', style='normal', variant='normal', weight=400, stretch='normal', size='scalable')) = 10.05\n",
      "2025-06-11 10:19:46,195 - matplotlib.font_manager - DEBUG - findfont: score(FontEntry(fname='/System/Library/Fonts/Supplemental/NotoSansSyriac-Regular.ttf', name='Noto Sans Syriac', style='normal', variant='normal', weight=400, stretch='normal', size='scalable')) = 10.05\n",
      "2025-06-11 10:19:46,195 - matplotlib.font_manager - DEBUG - findfont: score(FontEntry(fname='/System/Library/AssetsV2/com_apple_MobileAsset_Font7/a5102e3bf3b4bd3ac5d9fabd0571dd0343f9d74b.asset/AssetData/AnnaiMN.ttf', name='Annai MN', style='normal', variant='normal', weight=400, stretch='normal', size='scalable')) = 10.05\n",
      "2025-06-11 10:19:46,195 - matplotlib.font_manager - DEBUG - findfont: score(FontEntry(fname='/Users/drago/Library/Fonts/FuraMono-Medium Powerline.otf', name='Fira Mono for Powerline', style='normal', variant='normal', weight=500, stretch='normal', size='scalable')) = 10.145\n",
      "2025-06-11 10:19:46,195 - matplotlib.font_manager - DEBUG - findfont: score(FontEntry(fname='/System/Library/Fonts/Supplemental/NotoSansCanadianAboriginal-Regular.otf', name='Noto Sans Canadian Aboriginal', style='normal', variant='normal', weight=400, stretch='normal', size='scalable')) = 10.05\n",
      "2025-06-11 10:19:46,195 - matplotlib.font_manager - DEBUG - findfont: score(FontEntry(fname='/System/Library/AssetsV2/com_apple_MobileAsset_Font7/f110a45f1759f86c645cfd2f47baba57aa50056e.asset/AssetData/Klee.ttc', name='Klee', style='normal', variant='normal', weight=600, stretch='normal', size='scalable')) = 10.24\n",
      "2025-06-11 10:19:46,196 - matplotlib.font_manager - DEBUG - findfont: score(FontEntry(fname='/System/Library/Fonts/Supplemental/Songti.ttc', name='Songti SC', style='normal', variant='normal', weight=900, stretch='normal', size='scalable')) = 10.525\n",
      "2025-06-11 10:19:46,196 - matplotlib.font_manager - DEBUG - findfont: score(FontEntry(fname='/System/Library/AssetsV2/com_apple_MobileAsset_Font7/a3f9a9e35bdf3babe03b2fd162051306fad439d6.asset/AssetData/Osaka.ttf', name='Osaka', style='normal', variant='normal', weight=400, stretch='normal', size='scalable')) = 10.05\n",
      "2025-06-11 10:19:46,196 - matplotlib.font_manager - DEBUG - findfont: score(FontEntry(fname='/System/Library/AssetsV2/com_apple_MobileAsset_Font7/5f2614e7b55639e709d8578e16b324b3eb6eb065.asset/AssetData/BMHannaPro-Regular.otf', name='BM Hanna Pro', style='normal', variant='normal', weight=400, stretch='normal', size='scalable')) = 10.05\n",
      "2025-06-11 10:19:46,196 - matplotlib.font_manager - DEBUG - findfont: score(FontEntry(fname='/System/Library/Fonts/Supplemental/Times New Roman Bold Italic.ttf', name='Times New Roman', style='italic', variant='normal', weight=700, stretch='normal', size='scalable')) = 11.335\n",
      "2025-06-11 10:19:46,196 - matplotlib.font_manager - DEBUG - findfont: score(FontEntry(fname='/System/Library/Fonts/Supplemental/NotoSansKhudawadi-Regular.ttf', name='Noto Sans Khudawadi', style='normal', variant='normal', weight=400, stretch='normal', size='scalable')) = 10.05\n",
      "2025-06-11 10:19:46,197 - matplotlib.font_manager - DEBUG - findfont: score(FontEntry(fname='/Users/drago/Library/Fonts/Tinos Bold Italic for Powerline.ttf', name='Tinos for Powerline', style='italic', variant='normal', weight=700, stretch='normal', size='scalable')) = 11.335\n",
      "2025-06-11 10:19:46,197 - matplotlib.font_manager - DEBUG - findfont: score(FontEntry(fname='/System/Library/Fonts/Supplemental/Gurmukhi Sangam MN.ttc', name='Gurmukhi Sangam MN', style='normal', variant='normal', weight=400, stretch='normal', size='scalable')) = 10.05\n",
      "2025-06-11 10:19:46,197 - matplotlib.font_manager - DEBUG - findfont: score(FontEntry(fname='/System/Library/Fonts/Supplemental/GujaratiMT.ttc', name='Gujarati MT', style='normal', variant='normal', weight=400, stretch='normal', size='scalable')) = 10.05\n",
      "2025-06-11 10:19:46,197 - matplotlib.font_manager - DEBUG - findfont: score(FontEntry(fname='/System/Library/Fonts/Supplemental/Arial Italic.ttf', name='Arial', style='italic', variant='normal', weight=400, stretch='normal', size='scalable')) = 1.05\n",
      "2025-06-11 10:19:46,198 - matplotlib.font_manager - DEBUG - findfont: score(FontEntry(fname='/System/Library/Fonts/Supplemental/Courier New.ttf', name='Courier New', style='normal', variant='normal', weight=400, stretch='normal', size='scalable')) = 10.05\n",
      "2025-06-11 10:19:46,198 - matplotlib.font_manager - DEBUG - findfont: score(FontEntry(fname='/System/Library/Fonts/Supplemental/Skia.ttf', name='Skia', style='normal', variant='normal', weight=5, stretch='normal', size='scalable')) = 10.42525\n",
      "2025-06-11 10:19:46,198 - matplotlib.font_manager - DEBUG - findfont: score(FontEntry(fname='/System/Library/Fonts/ヒラギノ角ゴシック W9.ttc', name='Hiragino Sans', style='normal', variant='normal', weight=900, stretch='normal', size='scalable')) = 10.525\n",
      "2025-06-11 10:19:46,198 - matplotlib.font_manager - DEBUG - findfont: score(FontEntry(fname='/System/Library/Fonts/Supplemental/Kannada MN.ttc', name='Kannada MN', style='normal', variant='normal', weight=400, stretch='normal', size='scalable')) = 10.05\n",
      "2025-06-11 10:19:46,198 - matplotlib.font_manager - DEBUG - findfont: score(FontEntry(fname='/System/Library/Fonts/NotoSansArmenian.ttc', name='Noto Sans Armenian', style='normal', variant='normal', weight=900, stretch='normal', size='scalable')) = 10.525\n",
      "2025-06-11 10:19:46,199 - matplotlib.font_manager - DEBUG - findfont: score(FontEntry(fname='/System/Library/Fonts/MarkerFelt.ttc', name='Marker Felt', style='normal', variant='normal', weight=400, stretch='normal', size='scalable')) = 10.05\n",
      "2025-06-11 10:19:46,199 - matplotlib.font_manager - DEBUG - findfont: score(FontEntry(fname='/System/Library/Fonts/NotoSansKannada.ttc', name='Noto Sans Kannada', style='normal', variant='normal', weight=100, stretch='normal', size='scalable')) = 10.335\n",
      "2025-06-11 10:19:46,199 - matplotlib.font_manager - DEBUG - findfont: score(FontEntry(fname='/System/Library/AssetsV2/com_apple_MobileAsset_Font7/bff515501313f56409358f8994642696000d2dbc.asset/AssetData/Sarabun.ttc', name='Sarabun', style='normal', variant='normal', weight=400, stretch='normal', size='scalable')) = 10.05\n",
      "2025-06-11 10:19:46,199 - matplotlib.font_manager - DEBUG - findfont: score(FontEntry(fname='/System/Library/Fonts/NewYorkItalic.ttf', name='.New York', style='italic', variant='normal', weight=400, stretch='normal', size='scalable')) = 11.05\n",
      "2025-06-11 10:19:46,199 - matplotlib.font_manager - DEBUG - findfont: score(FontEntry(fname='/Users/drago/Library/Fonts/Meslo LG S DZ Bold Italic for Powerline.ttf', name='Meslo LG S DZ for Powerline', style='italic', variant='normal', weight=700, stretch='normal', size='scalable')) = 11.335\n",
      "2025-06-11 10:19:46,200 - matplotlib.font_manager - DEBUG - findfont: score(FontEntry(fname='/System/Library/Fonts/Supplemental/Verdana Bold Italic.ttf', name='Verdana', style='italic', variant='normal', weight=700, stretch='normal', size='scalable')) = 11.335\n",
      "2025-06-11 10:19:46,200 - matplotlib.font_manager - DEBUG - findfont: score(FontEntry(fname='/System/Library/Fonts/Supplemental/NotoSansLinearB-Regular.ttf', name='Noto Sans Linear B', style='normal', variant='normal', weight=400, stretch='normal', size='scalable')) = 10.05\n",
      "2025-06-11 10:19:46,200 - matplotlib.font_manager - DEBUG - findfont: score(FontEntry(fname='/System/Library/Fonts/Supplemental/Sathu.ttf', name='Sathu', style='normal', variant='normal', weight=400, stretch='normal', size='scalable')) = 10.05\n",
      "2025-06-11 10:19:46,201 - matplotlib.font_manager - DEBUG - findfont: score(FontEntry(fname='/System/Library/AssetsV2/com_apple_MobileAsset_Font7/c2cf5e684236b5395fd48d6ccf0e3b3191ce83a0.asset/AssetData/PCmyoungjo.ttf', name='PCMyungjo', style='normal', variant='normal', weight=400, stretch='normal', size='scalable')) = 10.05\n",
      "2025-06-11 10:19:46,201 - matplotlib.font_manager - DEBUG - findfont: score(FontEntry(fname='/System/Library/Fonts/Supplemental/AmericanTypewriter.ttc', name='American Typewriter', style='normal', variant='normal', weight=400, stretch='normal', size='scalable')) = 10.05\n",
      "2025-06-11 10:19:46,201 - matplotlib.font_manager - DEBUG - findfont: score(FontEntry(fname='/Users/drago/Library/Fonts/Meslo LG S Bold for Powerline.ttf', name='Meslo LG S for Powerline', style='normal', variant='normal', weight=700, stretch='normal', size='scalable')) = 10.335\n",
      "2025-06-11 10:19:46,201 - matplotlib.font_manager - DEBUG - findfont: score(FontEntry(fname='/System/Library/Fonts/Supplemental/GillSans.ttc', name='Gill Sans', style='normal', variant='normal', weight=400, stretch='normal', size='scalable')) = 10.05\n",
      "2025-06-11 10:19:46,201 - matplotlib.font_manager - DEBUG - findfont: score(FontEntry(fname='/System/Library/Fonts/CJKSymbolsFallback.ttc', name='.CJK Symbols Fallback HK', style='normal', variant='normal', weight=250, stretch='normal', size='scalable')) = 10.1925\n",
      "2025-06-11 10:19:46,201 - matplotlib.font_manager - DEBUG - findfont: score(FontEntry(fname='/System/Library/AssetsV2/com_apple_MobileAsset_Font7/f5d996f7384e5608c048c28789b094a6d28cccfd.asset/AssetData/MuktaVaani-Gujarati.ttc', name='Mukta Vaani', style='normal', variant='normal', weight=300, stretch='normal', size='scalable')) = 10.145\n",
      "2025-06-11 10:19:46,202 - matplotlib.font_manager - DEBUG - findfont: score(FontEntry(fname='/System/Library/Fonts/Supplemental/Tahoma Bold.ttf', name='Tahoma', style='normal', variant='normal', weight=700, stretch='normal', size='scalable')) = 10.335\n",
      "2025-06-11 10:19:46,202 - matplotlib.font_manager - DEBUG - findfont: score(FontEntry(fname='/System/Library/Fonts/Supplemental/Trattatello.ttf', name='Trattatello', style='normal', variant='normal', weight=400, stretch='normal', size='scalable')) = 10.05\n",
      "2025-06-11 10:19:46,202 - matplotlib.font_manager - DEBUG - findfont: score(FontEntry(fname='/System/Library/Fonts/Supplemental/NotoSansNabataean-Regular.ttf', name='Noto Sans Nabataean', style='normal', variant='normal', weight=400, stretch='normal', size='scalable')) = 10.05\n",
      "2025-06-11 10:19:46,202 - matplotlib.font_manager - DEBUG - findfont: score(FontEntry(fname='/System/Library/Fonts/Supplemental/NotoSansSoraSompeng-Regular.ttf', name='Noto Sans Sora Sompeng', style='normal', variant='normal', weight=400, stretch='normal', size='scalable')) = 10.05\n",
      "2025-06-11 10:19:46,202 - matplotlib.font_manager - DEBUG - findfont: score(FontEntry(fname='/System/Library/Fonts/Supplemental/Verdana.ttf', name='Verdana', style='normal', variant='normal', weight=400, stretch='normal', size='scalable')) = 10.05\n",
      "2025-06-11 10:19:46,202 - matplotlib.font_manager - DEBUG - findfont: score(FontEntry(fname='/System/Library/Fonts/SFHebrewRounded.ttf', name='.SF Hebrew Rounded', style='normal', variant='normal', weight=400, stretch='normal', size='scalable')) = 10.05\n",
      "2025-06-11 10:19:46,203 - matplotlib.font_manager - DEBUG - findfont: score(FontEntry(fname='/Users/drago/Library/Fonts/Go Mono for Powerline.ttf', name='Go Mono for Powerline', style='normal', variant='normal', weight=400, stretch='normal', size='scalable')) = 10.05\n",
      "2025-06-11 10:19:46,203 - matplotlib.font_manager - DEBUG - findfont: score(FontEntry(fname='/System/Library/AssetsV2/com_apple_MobileAsset_Font7/9fdda46cbe802833590494a09b2787378340c597.asset/AssetData/Hanzipen.ttc', name='HanziPen SC', style='normal', variant='normal', weight=400, stretch='normal', size='scalable')) = 10.05\n",
      "2025-06-11 10:19:46,203 - matplotlib.font_manager - DEBUG - findfont: score(FontEntry(fname='/Users/drago/Library/Fonts/Roboto Mono Bold Italic for Powerline.ttf', name='Roboto Mono for Powerline', style='italic', variant='normal', weight=700, stretch='normal', size='scalable')) = 11.335\n",
      "2025-06-11 10:19:46,203 - matplotlib.font_manager - DEBUG - findfont: score(FontEntry(fname='/System/Library/AssetsV2/com_apple_MobileAsset_Font7/b8cf53b3591d6062cd536ba5129454cba899a078.asset/AssetData/LingWaiTC-Medium.otf', name='LingWai TC', style='normal', variant='normal', weight=500, stretch='normal', size='scalable')) = 10.145\n",
      "2025-06-11 10:19:46,203 - matplotlib.font_manager - DEBUG - findfont: score(FontEntry(fname='/System/Library/Fonts/Supplemental/Marion.ttc', name='Marion', style='normal', variant='normal', weight=400, stretch='normal', size='scalable')) = 10.05\n",
      "2025-06-11 10:19:46,203 - matplotlib.font_manager - DEBUG - findfont: score(FontEntry(fname='/Users/drago/Library/Fonts/Meslo LG M Italic for Powerline.ttf', name='Meslo LG M for Powerline', style='italic', variant='normal', weight=400, stretch='normal', size='scalable')) = 11.05\n",
      "2025-06-11 10:19:46,204 - matplotlib.font_manager - DEBUG - findfont: score(FontEntry(fname='/Users/drago/Library/Fonts/Hack-Regular.ttf', name='Hack', style='normal', variant='normal', weight=400, stretch='normal', size='scalable')) = 10.05\n",
      "2025-06-11 10:19:46,204 - matplotlib.font_manager - DEBUG - findfont: score(FontEntry(fname='/System/Library/Fonts/Supplemental/NotoSansTifinagh-Regular.otf', name='Noto Sans Tifinagh', style='normal', variant='normal', weight=400, stretch='normal', size='scalable')) = 10.05\n",
      "2025-06-11 10:19:46,204 - matplotlib.font_manager - DEBUG - findfont: score(FontEntry(fname='/System/Library/Fonts/Supplemental/Arial Narrow Bold.ttf', name='Arial Narrow', style='normal', variant='normal', weight=700, stretch='condensed', size='scalable')) = 10.535\n",
      "2025-06-11 10:19:46,204 - matplotlib.font_manager - DEBUG - findfont: score(FontEntry(fname='/System/Library/AssetsV2/com_apple_MobileAsset_Font7/75aa8a3555ac606e1e0fe930fef4a1803105ae51.asset/AssetData/FahKwang.ttc', name='Fahkwang', style='normal', variant='normal', weight=400, stretch='normal', size='scalable')) = 10.05\n",
      "2025-06-11 10:19:46,204 - matplotlib.font_manager - DEBUG - findfont: score(FontEntry(fname='/System/Library/Fonts/Apple Braille Outline 6 Dot.ttf', name='Apple Braille', style='normal', variant='normal', weight=400, stretch='normal', size='scalable')) = 10.05\n",
      "2025-06-11 10:19:46,204 - matplotlib.font_manager - DEBUG - findfont: score(FontEntry(fname='/System/Library/Fonts/Supplemental/NotoSansHanunoo-Regular.ttf', name='Noto Sans Hanunoo', style='normal', variant='normal', weight=400, stretch='normal', size='scalable')) = 10.05\n",
      "2025-06-11 10:19:46,204 - matplotlib.font_manager - DEBUG - findfont: score(FontEntry(fname='/System/Library/Fonts/Supplemental/NotoSansInscriptionalParthian-Regular.ttf', name='Noto Sans Inscriptional Parthian', style='normal', variant='normal', weight=400, stretch='normal', size='scalable')) = 10.05\n",
      "2025-06-11 10:19:46,205 - matplotlib.font_manager - DEBUG - findfont: score(FontEntry(fname='/System/Library/Fonts/Supplemental/Kailasa.ttc', name='Kailasa', style='normal', variant='normal', weight=400, stretch='normal', size='scalable')) = 10.05\n",
      "2025-06-11 10:19:46,205 - matplotlib.font_manager - DEBUG - findfont: score(FontEntry(fname='/System/Library/Fonts/Supplemental/STIXIntDReg.otf', name='STIXIntegralsD', style='normal', variant='normal', weight=400, stretch='normal', size='scalable')) = 10.05\n",
      "2025-06-11 10:19:46,205 - matplotlib.font_manager - DEBUG - findfont: score(FontEntry(fname='/System/Library/Fonts/Supplemental/NotoSansOlChiki-Regular.ttf', name='Noto Sans Ol Chiki', style='normal', variant='normal', weight=400, stretch='normal', size='scalable')) = 10.05\n",
      "2025-06-11 10:19:46,205 - matplotlib.font_manager - DEBUG - findfont: score(FontEntry(fname='/System/Library/Fonts/Supplemental/Copperplate.ttc', name='Copperplate', style='normal', variant='normal', weight=400, stretch='normal', size='scalable')) = 10.05\n",
      "2025-06-11 10:19:46,205 - matplotlib.font_manager - DEBUG - findfont: score(FontEntry(fname='/System/Library/Fonts/Supplemental/Waseem.ttc', name='Waseem', style='normal', variant='normal', weight=400, stretch='normal', size='scalable')) = 10.05\n",
      "2025-06-11 10:19:46,205 - matplotlib.font_manager - DEBUG - findfont: score(FontEntry(fname='/System/Library/Fonts/KohinoorGujarati.ttc', name='Kohinoor Gujarati', style='normal', variant='normal', weight=700, stretch='normal', size='scalable')) = 10.335\n",
      "2025-06-11 10:19:46,205 - matplotlib.font_manager - DEBUG - findfont: score(FontEntry(fname='/System/Library/AssetsV2/com_apple_MobileAsset_Font7/54ef167d6c8e99a69a0d41ce252cc5995ba47580.asset/AssetData/YuGothic-Medium.otf', name='YuGothic', style='normal', variant='normal', weight=500, stretch='normal', size='scalable')) = 10.145\n",
      "2025-06-11 10:19:46,206 - matplotlib.font_manager - DEBUG - findfont: score(FontEntry(fname='/System/Library/Fonts/Supplemental/STIXTwoText.ttf', name='STIX Two Text', style='normal', variant='normal', weight=400, stretch='normal', size='scalable')) = 10.05\n",
      "2025-06-11 10:19:46,206 - matplotlib.font_manager - DEBUG - findfont: score(FontEntry(fname='/System/Library/Fonts/Supplemental/Myanmar MN.ttc', name='Myanmar MN', style='normal', variant='normal', weight=400, stretch='normal', size='scalable')) = 10.05\n",
      "2025-06-11 10:19:46,206 - matplotlib.font_manager - DEBUG - findfont: score(FontEntry(fname='/System/Library/Fonts/Supplemental/AppleGothic.ttf', name='AppleGothic', style='normal', variant='normal', weight=400, stretch='normal', size='scalable')) = 10.05\n",
      "2025-06-11 10:19:46,206 - matplotlib.font_manager - DEBUG - findfont: score(FontEntry(fname='/System/Library/Fonts/Supplemental/NotoSansWarangCiti-Regular.ttf', name='Noto Sans Warang Citi', style='normal', variant='normal', weight=400, stretch='normal', size='scalable')) = 10.05\n",
      "2025-06-11 10:19:46,206 - matplotlib.font_manager - DEBUG - findfont: score(FontEntry(fname='/System/Library/Fonts/Courier.ttc', name='Courier', style='normal', variant='normal', weight=400, stretch='normal', size='scalable')) = 10.05\n",
      "2025-06-11 10:19:46,206 - matplotlib.font_manager - DEBUG - findfont: score(FontEntry(fname='/Users/drago/Library/Fonts/Arimo for Powerline.ttf', name='Arimo for Powerline', style='normal', variant='normal', weight=400, stretch='normal', size='scalable')) = 10.05\n",
      "2025-06-11 10:19:46,207 - matplotlib.font_manager - DEBUG - findfont: score(FontEntry(fname='/System/Library/Fonts/Supplemental/NotoSansCarian-Regular.ttf', name='Noto Sans Carian', style='normal', variant='normal', weight=400, stretch='normal', size='scalable')) = 10.05\n",
      "2025-06-11 10:19:46,207 - matplotlib.font_manager - DEBUG - findfont: score(FontEntry(fname='/Users/drago/Library/Fonts/Hack-BoldItalic.ttf', name='Hack', style='italic', variant='normal', weight=700, stretch='normal', size='scalable')) = 11.335\n",
      "2025-06-11 10:19:46,207 - matplotlib.font_manager - DEBUG - findfont: score(FontEntry(fname='/System/Library/Fonts/Supplemental/Telugu Sangam MN.ttc', name='Telugu Sangam MN', style='normal', variant='normal', weight=400, stretch='normal', size='scalable')) = 10.05\n",
      "2025-06-11 10:19:46,207 - matplotlib.font_manager - DEBUG - findfont: score(FontEntry(fname='/System/Library/AssetsV2/com_apple_MobileAsset_Font7/e2c331b942cb338404a160a97a7cd6e8a31428e8.asset/AssetData/LingWaiSC-Medium.otf', name='LingWai SC', style='normal', variant='normal', weight=500, stretch='normal', size='scalable')) = 10.145\n",
      "2025-06-11 10:19:46,207 - matplotlib.font_manager - DEBUG - findfont: score(FontEntry(fname='/System/Library/Fonts/Supplemental/NotoSansBrahmi-Regular.ttf', name='Noto Sans Brahmi', style='normal', variant='normal', weight=400, stretch='normal', size='scalable')) = 10.05\n",
      "2025-06-11 10:19:46,208 - matplotlib.font_manager - DEBUG - findfont: score(FontEntry(fname='/Users/drago/Library/Fonts/Monofur for Powerline.ttf', name='monofur for Powerline', style='normal', variant='normal', weight=400, stretch='normal', size='scalable')) = 10.05\n",
      "2025-06-11 10:19:46,208 - matplotlib.font_manager - DEBUG - findfont: score(FontEntry(fname='/System/Library/Fonts/Supplemental/Diwan Kufi.ttc', name='Diwan Kufi', style='normal', variant='normal', weight=400, stretch='normal', size='scalable')) = 10.05\n",
      "2025-06-11 10:19:46,208 - matplotlib.font_manager - DEBUG - findfont: score(FontEntry(fname='/Users/drago/Library/Fonts/Meslo LG S DZ Regular for Powerline.ttf', name='Meslo LG S DZ for Powerline', style='normal', variant='normal', weight=400, stretch='normal', size='scalable')) = 10.05\n",
      "2025-06-11 10:19:46,208 - matplotlib.font_manager - DEBUG - findfont: score(FontEntry(fname='/System/Library/Fonts/Supplemental/Trebuchet MS Italic.ttf', name='Trebuchet MS', style='italic', variant='normal', weight=400, stretch='normal', size='scalable')) = 11.05\n",
      "2025-06-11 10:19:46,208 - matplotlib.font_manager - DEBUG - findfont: score(FontEntry(fname='/System/Library/Fonts/Supplemental/NotoSansSiddham-Regular.otf', name='Noto Sans Siddham', style='normal', variant='normal', weight=400, stretch='normal', size='scalable')) = 10.05\n",
      "2025-06-11 10:19:46,209 - matplotlib.font_manager - DEBUG - findfont: score(FontEntry(fname='/Users/drago/Library/Fonts/FuraMono-Bold Powerline.otf', name='Fira Mono for Powerline', style='normal', variant='normal', weight=700, stretch='normal', size='scalable')) = 10.335\n",
      "2025-06-11 10:19:46,209 - matplotlib.font_manager - DEBUG - findfont: score(FontEntry(fname='/System/Library/Fonts/Supplemental/NotoSansTaiViet-Regular.ttf', name='Noto Sans Tai Viet', style='normal', variant='normal', weight=400, stretch='normal', size='scalable')) = 10.05\n",
      "2025-06-11 10:19:46,209 - matplotlib.font_manager - DEBUG - findfont: score(FontEntry(fname='/System/Library/AssetsV2/com_apple_MobileAsset_Font7/17c994707700838ad3c3202029b621fb85a81b0c.asset/AssetData/OctoberCompressedTamil.ttc', name='October Compressed Tamil', style='normal', variant='normal', weight=400, stretch='normal', size='scalable')) = 10.05\n",
      "2025-06-11 10:19:46,209 - matplotlib.font_manager - DEBUG - findfont: score(FontEntry(fname='/Users/drago/Library/Fonts/Inconsolata for Powerline.otf', name='Inconsolata for Powerline', style='normal', variant='normal', weight=500, stretch='normal', size='scalable')) = 10.145\n",
      "2025-06-11 10:19:46,209 - matplotlib.font_manager - DEBUG - findfont: score(FontEntry(fname='/System/Library/AssetsV2/com_apple_MobileAsset_Font7/157acc4d862730d6d5beaa943546f80a71948c7b.asset/AssetData/BMHanna11yrs-Regular.otf', name='BM Hanna 11yrs Old', style='normal', variant='normal', weight=400, stretch='normal', size='scalable')) = 10.05\n",
      "2025-06-11 10:19:46,210 - matplotlib.font_manager - DEBUG - findfont: score(FontEntry(fname='/System/Library/Fonts/Supplemental/NotoSansOldHungarian-Regular.ttf', name='Noto Sans Old Hungarian', style='normal', variant='normal', weight=400, stretch='normal', size='scalable')) = 10.05\n",
      "2025-06-11 10:19:46,210 - matplotlib.font_manager - DEBUG - findfont: score(FontEntry(fname='/System/Library/Fonts/Apple Braille Pinpoint 6 Dot.ttf', name='Apple Braille', style='normal', variant='normal', weight=400, stretch='normal', size='scalable')) = 10.05\n",
      "2025-06-11 10:19:46,210 - matplotlib.font_manager - DEBUG - findfont: score(FontEntry(fname='/System/Library/AssetsV2/com_apple_MobileAsset_Font7/46c64e73c0265cbea2433f097db969059f5f2895.asset/AssetData/BalooThambiTamil.ttc', name='Baloo Thambi 2', style='normal', variant='normal', weight=400, stretch='normal', size='scalable')) = 10.05\n",
      "2025-06-11 10:19:46,210 - matplotlib.font_manager - DEBUG - findfont: score(FontEntry(fname='/Users/drago/Library/Fonts/Anonymice Powerline.ttf', name='Anonymous Pro for Powerline', style='normal', variant='normal', weight=400, stretch='normal', size='scalable')) = 10.05\n",
      "2025-06-11 10:19:46,210 - matplotlib.font_manager - DEBUG - findfont: score(FontEntry(fname='/System/Library/Fonts/Supplemental/NotoSansOldNorthArabian-Regular.ttf', name='Noto Sans Old North Arabian', style='normal', variant='normal', weight=400, stretch='normal', size='scalable')) = 10.05\n",
      "2025-06-11 10:19:46,210 - matplotlib.font_manager - DEBUG - findfont: score(FontEntry(fname='/System/Library/AssetsV2/com_apple_MobileAsset_Font7/5fb3a06cb28690aa74109ccf9fddce32d1dea4c9.asset/AssetData/JainiPurvaDevanagari-Regular.ttf', name='Jaini Purva', style='normal', variant='normal', weight=400, stretch='normal', size='scalable')) = 10.05\n",
      "2025-06-11 10:19:46,210 - matplotlib.font_manager - DEBUG - findfont: score(FontEntry(fname='/System/Library/AssetsV2/com_apple_MobileAsset_Font7/1b3d20c129476a1c955d799d5b449ba927728923.asset/AssetData/BalooPaajiGurmukhi.ttc', name='Baloo Paaji 2', style='normal', variant='normal', weight=400, stretch='normal', size='scalable')) = 10.05\n",
      "2025-06-11 10:19:46,211 - matplotlib.font_manager - DEBUG - findfont: score(FontEntry(fname='/System/Library/AssetsV2/com_apple_MobileAsset_Font7/a7fcc45c390cf985711c0d44d881ddad6b94c4c9.asset/AssetData/BalooDaBangla.ttc', name='Baloo Da 2', style='normal', variant='normal', weight=400, stretch='normal', size='scalable')) = 10.05\n",
      "2025-06-11 10:19:46,211 - matplotlib.font_manager - DEBUG - findfont: score(FontEntry(fname='/System/Library/AssetsV2/com_apple_MobileAsset_Font7/5b0f0fa2e28e0396613acc33b1c0aa7e1e7358f2.asset/AssetData/SamaGurmukhi.ttc', name='Sama Gurmukhi', style='normal', variant='normal', weight=400, stretch='normal', size='scalable')) = 10.05\n",
      "2025-06-11 10:19:46,211 - matplotlib.font_manager - DEBUG - findfont: score(FontEntry(fname='/System/Library/AssetsV2/com_apple_MobileAsset_Font7/cbc82575ea9db570d060024bc88fc660f4217497.asset/AssetData/Shobhika-Devanagari.ttc', name='Shobhika', style='normal', variant='normal', weight=400, stretch='normal', size='scalable')) = 10.05\n",
      "2025-06-11 10:19:46,211 - matplotlib.font_manager - DEBUG - findfont: score(FontEntry(fname='/System/Library/AssetsV2/com_apple_MobileAsset_Font7/0ab217c39c45c7c6acaddfa199fd32c55a7b4a19.asset/AssetData/ToppanBunkyuGothicPr6N.ttc', name='Toppan Bunkyu Gothic', style='normal', variant='normal', weight=600, stretch='normal', size='scalable')) = 10.24\n",
      "2025-06-11 10:19:46,211 - matplotlib.font_manager - DEBUG - findfont: score(FontEntry(fname='/System/Library/Fonts/Supplemental/Damascus.ttc', name='Damascus', style='normal', variant='normal', weight=400, stretch='normal', size='scalable')) = 10.05\n",
      "2025-06-11 10:19:46,211 - matplotlib.font_manager - DEBUG - findfont: score(FontEntry(fname='/System/Library/Fonts/Supplemental/STIXIntSmReg.otf', name='STIXIntegralsSm', style='normal', variant='normal', weight=400, stretch='normal', size='scalable')) = 10.05\n",
      "2025-06-11 10:19:46,212 - matplotlib.font_manager - DEBUG - findfont: score(FontEntry(fname='/System/Library/Fonts/STHeiti Light.ttc', name='Heiti TC', style='normal', variant='normal', weight=300, stretch='normal', size='scalable')) = 10.145\n",
      "2025-06-11 10:19:46,212 - matplotlib.font_manager - DEBUG - findfont: score(FontEntry(fname='/System/Library/Fonts/Supplemental/NotoSansCuneiform-Regular.ttf', name='Noto Sans Cuneiform', style='normal', variant='normal', weight=400, stretch='normal', size='scalable')) = 10.05\n",
      "2025-06-11 10:19:46,212 - matplotlib.font_manager - DEBUG - findfont: score(FontEntry(fname='/System/Library/Fonts/ヒラギノ角ゴシック W7.ttc', name='Hiragino Sans', style='normal', variant='normal', weight=700, stretch='normal', size='scalable')) = 10.335\n",
      "2025-06-11 10:19:46,212 - matplotlib.font_manager - DEBUG - findfont: score(FontEntry(fname='/System/Library/AssetsV2/com_apple_MobileAsset_Font7/988d97c87efe350cfa398b9ae4e822431f92d59b.asset/AssetData/Srisakdi.ttc', name='Srisakdi', style='normal', variant='normal', weight=400, stretch='normal', size='scalable')) = 10.05\n",
      "2025-06-11 10:19:46,212 - matplotlib.font_manager - DEBUG - findfont: score(FontEntry(fname='/System/Library/AssetsV2/com_apple_MobileAsset_Font7/0e35a111b2580442c7bff35fcd5c54fc99ca1d91.asset/AssetData/Kodchasan.ttc', name='Kodchasan', style='normal', variant='normal', weight=400, stretch='normal', size='scalable')) = 10.05\n",
      "2025-06-11 10:19:46,213 - matplotlib.font_manager - DEBUG - findfont: score(FontEntry(fname='/System/Library/AssetsV2/com_apple_MobileAsset_Font7/1a719bcd2deb780a1442d66d91b276c4764ad924.asset/AssetData/ArimaMadurai.ttc', name='Arima Madurai', style='normal', variant='normal', weight=400, stretch='normal', size='scalable')) = 10.05\n",
      "2025-06-11 10:19:46,213 - matplotlib.font_manager - DEBUG - findfont: score(FontEntry(fname='/System/Library/Fonts/Supplemental/AppleMyungjo.ttf', name='AppleMyungjo', style='normal', variant='normal', weight=400, stretch='normal', size='scalable')) = 10.05\n",
      "2025-06-11 10:19:46,213 - matplotlib.font_manager - DEBUG - findfont: score(FontEntry(fname='/System/Library/Fonts/Supplemental/Arial Bold.ttf', name='Arial', style='normal', variant='normal', weight=700, stretch='normal', size='scalable')) = 0.33499999999999996\n",
      "2025-06-11 10:19:46,213 - matplotlib.font_manager - DEBUG - findfont: score(FontEntry(fname='/System/Library/AssetsV2/com_apple_MobileAsset_Font7/06789664375fd3fde34617a38e3164dc6bf2879b.asset/AssetData/AkayaTelivigala-regular.ttf', name='AkayaTelivigala', style='normal', variant='normal', weight=400, stretch='normal', size='scalable')) = 10.05\n",
      "2025-06-11 10:19:46,213 - matplotlib.font_manager - DEBUG - findfont: score(FontEntry(fname='/System/Library/Fonts/Supplemental/SnellRoundhand.ttc', name='Snell Roundhand', style='normal', variant='normal', weight=500, stretch='normal', size='scalable')) = 10.145\n",
      "2025-06-11 10:19:46,213 - matplotlib.font_manager - DEBUG - findfont: score(FontEntry(fname='/System/Library/Fonts/SFNSItalic.ttf', name='System Font', style='italic', variant='normal', weight=400, stretch='normal', size='scalable')) = 11.05\n",
      "2025-06-11 10:19:46,213 - matplotlib.font_manager - DEBUG - findfont: score(FontEntry(fname='/System/Library/AssetsV2/com_apple_MobileAsset_Font7/bb1b210553461ff7461985eba104f3f3bcd701b3.asset/AssetData/JainiDevanagari-Regular.ttf', name='Jaini', style='normal', variant='normal', weight=400, stretch='normal', size='scalable')) = 10.05\n",
      "2025-06-11 10:19:46,214 - matplotlib.font_manager - DEBUG - findfont: score(FontEntry(fname='/System/Library/AssetsV2/com_apple_MobileAsset_Font7/e97ef3d250bf28fb7f4395f864e436cd07166818.asset/AssetData/LavaTelugu.ttc', name='Lava Telugu', style='normal', variant='normal', weight=400, stretch='normal', size='scalable')) = 10.05\n",
      "2025-06-11 10:19:46,214 - matplotlib.font_manager - DEBUG - findfont: score(FontEntry(fname='/System/Library/AssetsV2/com_apple_MobileAsset_Font7/a4c319bf6b27682fd9b5dae0b4b3160afc4a37e3.asset/AssetData/AkayaKannada-regular.ttf', name='AkayaKanadaka', style='normal', variant='normal', weight=400, stretch='normal', size='scalable')) = 10.05\n",
      "2025-06-11 10:19:46,214 - matplotlib.font_manager - DEBUG - findfont: score(FontEntry(fname='/Users/drago/Library/Fonts/Roboto Mono Thin Italic for Powerline.ttf', name='Roboto Mono Thin for Powerline', style='italic', variant='normal', weight=250, stretch='normal', size='scalable')) = 11.1925\n",
      "2025-06-11 10:19:46,214 - matplotlib.font_manager - DEBUG - findfont: score(FontEntry(fname='/System/Library/Fonts/Supplemental/Arial Narrow Bold Italic.ttf', name='Arial Narrow', style='italic', variant='normal', weight=700, stretch='condensed', size='scalable')) = 11.535\n",
      "2025-06-11 10:19:46,214 - matplotlib.font_manager - DEBUG - findfont: score(FontEntry(fname='/System/Library/Fonts/Supplemental/STIXSizTwoSymBol.otf', name='STIXSizeTwoSym', style='normal', variant='normal', weight=700, stretch='normal', size='scalable')) = 10.335\n",
      "2025-06-11 10:19:46,215 - matplotlib.font_manager - DEBUG - findfont: score(FontEntry(fname='/System/Library/AssetsV2/com_apple_MobileAsset_Font7/5b2f5f0b003344b2c67ce463e76d2485bb43d054.asset/AssetData/BMJua-Regular.otf', name='BM Jua', style='normal', variant='normal', weight=400, stretch='normal', size='scalable')) = 10.05\n",
      "2025-06-11 10:19:46,215 - matplotlib.font_manager - DEBUG - findfont: score(FontEntry(fname='/System/Library/AssetsV2/com_apple_MobileAsset_Font7/3d7c99b85a518ffb479044c11185e47744b6448d.asset/AssetData/WawaTC-Regular.otf', name='Wawati TC', style='normal', variant='normal', weight=400, stretch='normal', size='scalable')) = 10.05\n",
      "2025-06-11 10:19:46,215 - matplotlib.font_manager - DEBUG - findfont: score(FontEntry(fname='/System/Library/Fonts/Supplemental/Bangla MN.ttc', name='Bangla MN', style='normal', variant='normal', weight=400, stretch='normal', size='scalable')) = 10.05\n",
      "2025-06-11 10:19:46,216 - matplotlib.font_manager - DEBUG - findfont: score(FontEntry(fname='/System/Library/Fonts/Supplemental/Arial Bold Italic.ttf', name='Arial', style='italic', variant='normal', weight=700, stretch='normal', size='scalable')) = 1.335\n",
      "2025-06-11 10:19:46,216 - matplotlib.font_manager - DEBUG - findfont: score(FontEntry(fname='/System/Library/Fonts/Supplemental/EuphemiaCAS.ttc', name='Euphemia UCAS', style='normal', variant='normal', weight=400, stretch='normal', size='scalable')) = 10.05\n",
      "2025-06-11 10:19:46,216 - matplotlib.font_manager - DEBUG - findfont: score(FontEntry(fname='/Users/drago/Library/Fonts/Meslo LG S DZ Bold for Powerline.ttf', name='Meslo LG S DZ for Powerline', style='normal', variant='normal', weight=700, stretch='normal', size='scalable')) = 10.335\n",
      "2025-06-11 10:19:46,217 - matplotlib.font_manager - DEBUG - findfont: score(FontEntry(fname='/System/Library/AssetsV2/com_apple_MobileAsset_Font7/5a224f093c7ff58ae98872248e5938769301bb72.asset/AssetData/BalooChettanMalayalam.ttc', name='Baloo Chettan 2', style='normal', variant='normal', weight=400, stretch='normal', size='scalable')) = 10.05\n",
      "2025-06-11 10:19:46,217 - matplotlib.font_manager - DEBUG - findfont: score(FontEntry(fname='/System/Library/Fonts/Supplemental/PlantagenetCherokee.ttf', name='Plantagenet Cherokee', style='normal', variant='normal', weight=400, stretch='normal', size='scalable')) = 10.05\n",
      "2025-06-11 10:19:46,217 - matplotlib.font_manager - DEBUG - findfont: score(FontEntry(fname='/System/Library/Fonts/Supplemental/Trebuchet MS Bold Italic.ttf', name='Trebuchet MS', style='italic', variant='normal', weight=700, stretch='normal', size='scalable')) = 11.335\n",
      "2025-06-11 10:19:46,218 - matplotlib.font_manager - DEBUG - findfont: score(FontEntry(fname='/System/Library/Fonts/Supplemental/NotoSansCham-Regular.ttf', name='Noto Sans Cham', style='normal', variant='normal', weight=400, stretch='normal', size='scalable')) = 10.05\n",
      "2025-06-11 10:19:46,218 - matplotlib.font_manager - DEBUG - findfont: score(FontEntry(fname='/System/Library/AssetsV2/com_apple_MobileAsset_Font7/0021f10c176530a735946770945ace69fc82bba7.asset/AssetData/OctoberTamil.ttc', name='October Tamil', style='normal', variant='normal', weight=400, stretch='normal', size='scalable')) = 10.05\n",
      "2025-06-11 10:19:46,218 - matplotlib.font_manager - DEBUG - findfont: score(FontEntry(fname='/System/Library/Fonts/Geneva.ttf', name='Geneva', style='normal', variant='normal', weight=400, stretch='normal', size='scalable')) = 10.05\n",
      "2025-06-11 10:19:46,218 - matplotlib.font_manager - DEBUG - findfont: score(FontEntry(fname='/System/Library/Fonts/ヒラギノ角ゴシック W2.ttc', name='Hiragino Sans', style='normal', variant='normal', weight=250, stretch='normal', size='scalable')) = 10.1925\n",
      "2025-06-11 10:19:46,219 - matplotlib.font_manager - DEBUG - findfont: score(FontEntry(fname='/Users/drago/Library/Fonts/DejaVu Sans Mono Bold for Powerline.ttf', name='DejaVu Sans Mono for Powerline', style='normal', variant='normal', weight=700, stretch='normal', size='scalable')) = 10.335\n",
      "2025-06-11 10:19:46,219 - matplotlib.font_manager - DEBUG - findfont: score(FontEntry(fname='/System/Library/Fonts/Supplemental/STIXNonUni.otf', name='STIXNonUnicode', style='normal', variant='normal', weight=400, stretch='normal', size='scalable')) = 10.05\n",
      "2025-06-11 10:19:46,219 - matplotlib.font_manager - DEBUG - findfont: score(FontEntry(fname='/System/Library/AssetsV2/com_apple_MobileAsset_Font7/6a8585b35d00d7d481a9cb6e02c81e84db1d75fb.asset/AssetData/Modak-Devanagari.ttf', name='Modak', style='normal', variant='normal', weight=400, stretch='normal', size='scalable')) = 10.05\n",
      "2025-06-11 10:19:46,219 - matplotlib.font_manager - DEBUG - findfont: score(FontEntry(fname='/System/Library/Fonts/Supplemental/Khmer MN.ttc', name='Khmer MN', style='normal', variant='normal', weight=400, stretch='normal', size='scalable')) = 10.05\n",
      "2025-06-11 10:19:46,219 - matplotlib.font_manager - DEBUG - findfont: score(FontEntry(fname='/System/Library/Fonts/Symbol.ttf', name='Symbol', style='normal', variant='normal', weight=400, stretch='normal', size='scalable')) = 10.05\n",
      "2025-06-11 10:19:46,220 - matplotlib.font_manager - DEBUG - findfont: score(FontEntry(fname='/System/Library/Fonts/Supplemental/Sinhala MN.ttc', name='Sinhala MN', style='normal', variant='normal', weight=400, stretch='normal', size='scalable')) = 10.05\n",
      "2025-06-11 10:19:46,220 - matplotlib.font_manager - DEBUG - findfont: score(FontEntry(fname='/Users/drago/Library/Fonts/Roboto Mono Italic for Powerline.ttf', name='Roboto Mono for Powerline', style='italic', variant='normal', weight=400, stretch='normal', size='scalable')) = 11.05\n",
      "2025-06-11 10:19:46,220 - matplotlib.font_manager - DEBUG - findfont: score(FontEntry(fname='/System/Library/AssetsV2/com_apple_MobileAsset_Font7/0499ae595c88f1d29b5ef4bbd230e24be76e06d3.asset/AssetData/KoHo.ttc', name='KoHo', style='normal', variant='normal', weight=400, stretch='normal', size='scalable')) = 10.05\n",
      "2025-06-11 10:19:46,221 - matplotlib.font_manager - DEBUG - findfont: score(FontEntry(fname='/System/Library/Fonts/Supplemental/NotoSansOldItalic-Regular.ttf', name='Noto Sans Old Italic', style='italic', variant='normal', weight=400, stretch='normal', size='scalable')) = 11.05\n",
      "2025-06-11 10:19:46,221 - matplotlib.font_manager - DEBUG - findfont: score(FontEntry(fname='/System/Library/Fonts/Supplemental/STIXIntUpSmReg.otf', name='STIXIntegralsUpSm', style='normal', variant='normal', weight=400, stretch='normal', size='scalable')) = 10.05\n",
      "2025-06-11 10:19:46,221 - matplotlib.font_manager - DEBUG - findfont: score(FontEntry(fname='/System/Library/Fonts/Supplemental/SukhumvitSet.ttc', name='Sukhumvit Set', style='normal', variant='normal', weight=250, stretch='normal', size='scalable')) = 10.1925\n",
      "2025-06-11 10:19:46,221 - matplotlib.font_manager - DEBUG - findfont: score(FontEntry(fname='/System/Library/Fonts/Supplemental/NotoSansTagbanwa-Regular.ttf', name='Noto Sans Tagbanwa', style='normal', variant='normal', weight=400, stretch='normal', size='scalable')) = 10.05\n",
      "2025-06-11 10:19:46,221 - matplotlib.font_manager - DEBUG - findfont: score(FontEntry(fname='/System/Library/Fonts/ThonburiUI.ttc', name='.ThonburiUI', style='normal', variant='normal', weight=400, stretch='normal', size='scalable')) = 10.05\n",
      "2025-06-11 10:19:46,221 - matplotlib.font_manager - DEBUG - findfont: score(FontEntry(fname='/System/Library/Fonts/Supplemental/Kokonor.ttf', name='Kokonor', style='normal', variant='normal', weight=400, stretch='normal', size='scalable')) = 10.05\n",
      "2025-06-11 10:19:46,222 - matplotlib.font_manager - DEBUG - findfont: score(FontEntry(fname='/System/Library/Fonts/Supplemental/Sana.ttc', name='Sana', style='normal', variant='normal', weight=400, stretch='normal', size='scalable')) = 10.05\n",
      "2025-06-11 10:19:46,222 - matplotlib.font_manager - DEBUG - findfont: score(FontEntry(fname='/System/Library/Fonts/Supplemental/STIXTwoMath.otf', name='STIX Two Math', style='normal', variant='normal', weight=400, stretch='normal', size='scalable')) = 10.05\n",
      "2025-06-11 10:19:46,222 - matplotlib.font_manager - DEBUG - findfont: score(FontEntry(fname='/System/Library/AssetsV2/com_apple_MobileAsset_Font7/eb06f5c216ccc3eed69b7d6530b38fa3c0a8e65f.asset/AssetData/TamilSangam-MN-MA.ttc', name='Tamil Sangam MN', style='normal', variant='normal', weight=500, stretch='normal', size='scalable')) = 10.145\n",
      "2025-06-11 10:19:46,222 - matplotlib.font_manager - DEBUG - findfont: score(FontEntry(fname='/System/Library/AssetsV2/com_apple_MobileAsset_Font7/1ff4e547c28844b2b95c93618c4ecf5d9e46fe51.asset/AssetData/OctoberCompressedDevanagari.ttc', name='October Compressed Devanagari', style='normal', variant='normal', weight=400, stretch='normal', size='scalable')) = 10.05\n",
      "2025-06-11 10:19:46,222 - matplotlib.font_manager - DEBUG - findfont: score(FontEntry(fname='/System/Library/Fonts/Supplemental/Wingdings 2.ttf', name='Wingdings 2', style='normal', variant='normal', weight=400, stretch='normal', size='scalable')) = 10.05\n",
      "2025-06-11 10:19:46,223 - matplotlib.font_manager - DEBUG - findfont: score(FontEntry(fname='/System/Library/Fonts/ADTNumeric.ttc', name='.SF Soft Numeric', style='normal', variant='normal', weight=400, stretch='normal', size='scalable')) = 10.05\n",
      "2025-06-11 10:19:46,223 - matplotlib.font_manager - DEBUG - findfont: score(FontEntry(fname='/Users/drago/Library/Fonts/SpaceMono-Italic.ttf', name='Space Mono', style='italic', variant='normal', weight=400, stretch='normal', size='scalable')) = 11.05\n",
      "2025-06-11 10:19:46,223 - matplotlib.font_manager - DEBUG - findfont: score(FontEntry(fname='/System/Library/AssetsV2/com_apple_MobileAsset_Font7/32d11e548996658757774d88f9220993653017ea.asset/AssetData/Hiragino_Sans_CNS.ttc', name='Hiragino Sans CNS', style='normal', variant='normal', weight=300, stretch='normal', size='scalable')) = 10.145\n",
      "2025-06-11 10:19:46,223 - matplotlib.font_manager - DEBUG - findfont: score(FontEntry(fname='/System/Library/Fonts/Supplemental/Hoefler Text Ornaments.ttf', name='Hoefler Text', style='normal', variant='normal', weight=400, stretch='normal', size='scalable')) = 10.05\n",
      "2025-06-11 10:19:46,224 - matplotlib.font_manager - DEBUG - findfont: score(FontEntry(fname='/System/Library/Fonts/Supplemental/Didot.ttc', name='Didot', style='normal', variant='normal', weight=400, stretch='normal', size='scalable')) = 10.05\n",
      "2025-06-11 10:19:46,224 - matplotlib.font_manager - DEBUG - findfont: score(FontEntry(fname='/System/Library/Fonts/Supplemental/Courier New Italic.ttf', name='Courier New', style='italic', variant='normal', weight=400, stretch='normal', size='scalable')) = 11.05\n",
      "2025-06-11 10:19:46,224 - matplotlib.font_manager - DEBUG - findfont: score(FontEntry(fname='/System/Library/Fonts/Supplemental/Courier New Bold Italic.ttf', name='Courier New', style='italic', variant='normal', weight=700, stretch='normal', size='scalable')) = 11.335\n",
      "2025-06-11 10:19:46,224 - matplotlib.font_manager - DEBUG - findfont: score(FontEntry(fname='/System/Library/Fonts/Supplemental/Futura.ttc', name='Futura', style='normal', variant='normal', weight=500, stretch='normal', size='scalable')) = 10.145\n",
      "2025-06-11 10:19:46,224 - matplotlib.font_manager - DEBUG - findfont: score(FontEntry(fname='/System/Library/AssetsV2/com_apple_MobileAsset_Font7/0818d874bf1d0e24a1fe62e79f407717792c5ee1.asset/AssetData/OsakaMono.ttf', name='Osaka', style='normal', variant='normal', weight=400, stretch='normal', size='scalable')) = 10.05\n",
      "2025-06-11 10:19:46,225 - matplotlib.font_manager - DEBUG - findfont: score(FontEntry(fname='/Users/drago/Library/Fonts/Roboto Mono Bold for Powerline.ttf', name='Roboto Mono for Powerline', style='normal', variant='normal', weight=700, stretch='normal', size='scalable')) = 10.335\n",
      "2025-06-11 10:19:46,225 - matplotlib.font_manager - DEBUG - findfont: score(FontEntry(fname='/System/Library/Fonts/Supplemental/Sinhala Sangam MN.ttc', name='Sinhala Sangam MN', style='normal', variant='normal', weight=400, stretch='normal', size='scalable')) = 10.05\n",
      "2025-06-11 10:19:46,225 - matplotlib.font_manager - DEBUG - findfont: score(FontEntry(fname='/System/Library/Fonts/Supplemental/NotoSansGunjalaGondi-Regular.otf', name='Noto Sans Gunjala Gondi', style='normal', variant='normal', weight=400, stretch='normal', size='scalable')) = 10.05\n",
      "2025-06-11 10:19:46,225 - matplotlib.font_manager - DEBUG - findfont: score(FontEntry(fname='/System/Library/Fonts/NotoSansOriya.ttc', name='Noto Sans Oriya', style='normal', variant='normal', weight=400, stretch='normal', size='scalable')) = 10.05\n",
      "2025-06-11 10:19:46,225 - matplotlib.font_manager - DEBUG - findfont: score(FontEntry(fname='/System/Library/Fonts/Supplemental/NotoSansLinearA-Regular.ttf', name='Noto Sans Linear A', style='normal', variant='normal', weight=400, stretch='normal', size='scalable')) = 10.05\n",
      "2025-06-11 10:19:46,225 - matplotlib.font_manager - DEBUG - findfont: score(FontEntry(fname='/Users/drago/Library/Fonts/ProFont For Powerline.ttf', name='ProFont for Powerline', style='normal', variant='normal', weight=400, stretch='normal', size='scalable')) = 10.05\n",
      "2025-06-11 10:19:46,225 - matplotlib.font_manager - DEBUG - findfont: score(FontEntry(fname='/System/Library/Fonts/SFNSMono.ttf', name='.SF NS Mono', style='normal', variant='normal', weight=295, stretch='normal', size='scalable')) = 10.14975\n",
      "2025-06-11 10:19:46,226 - matplotlib.font_manager - DEBUG - findfont: score(FontEntry(fname='/System/Library/AssetsV2/com_apple_MobileAsset_Font7/954067d7de5410e26458eab6f06544bd01eda474.asset/AssetData/TiroHindi.ttc', name='Tiro Devanagari Hindi', style='normal', variant='normal', weight=400, stretch='normal', size='scalable')) = 10.05\n",
      "2025-06-11 10:19:46,226 - matplotlib.font_manager - DEBUG - findfont: score(FontEntry(fname='/System/Library/Fonts/Supplemental/Savoye LET.ttc', name='Savoye LET', style='normal', variant='normal', weight=400, stretch='normal', size='scalable')) = 10.05\n",
      "2025-06-11 10:19:46,226 - matplotlib.font_manager - DEBUG - findfont: score(FontEntry(fname='/System/Library/Fonts/Noteworthy.ttc', name='Noteworthy', style='normal', variant='normal', weight=300, stretch='normal', size='scalable')) = 10.145\n",
      "2025-06-11 10:19:46,226 - matplotlib.font_manager - DEBUG - findfont: score(FontEntry(fname='/System/Library/Fonts/Supplemental/Bodoni 72 Smallcaps Book.ttf', name='Bodoni 72 Smallcaps', style='normal', variant='normal', weight=400, stretch='normal', size='scalable')) = 10.05\n",
      "2025-06-11 10:19:46,226 - matplotlib.font_manager - DEBUG - findfont: score(FontEntry(fname='/System/Library/AssetsV2/com_apple_MobileAsset_Font7/07b9758a7f2798b0491f45d0497302a623226828.asset/AssetData/DomaineDisplay.ttc', name='Domaine Display', style='normal', variant='normal', weight=400, stretch='normal', size='scalable')) = 10.05\n",
      "2025-06-11 10:19:46,226 - matplotlib.font_manager - DEBUG - findfont: score(FontEntry(fname='/System/Library/Fonts/Supplemental/NotoSansBatak-Regular.ttf', name='Noto Sans Batak', style='normal', variant='normal', weight=400, stretch='normal', size='scalable')) = 10.05\n",
      "2025-06-11 10:19:46,227 - matplotlib.font_manager - DEBUG - findfont: score(FontEntry(fname='/System/Library/AssetsV2/com_apple_MobileAsset_Font7/ce3ca7cc88974b63ce2a6cda076d9974eff41c2e.asset/AssetData/NotoSerifKannada.ttc', name='Noto Serif Kannada', style='normal', variant='normal', weight=400, stretch='normal', size='scalable')) = 10.05\n",
      "2025-06-11 10:19:46,227 - matplotlib.font_manager - DEBUG - findfont: score(FontEntry(fname='/System/Library/Fonts/Supplemental/STIXSizFiveSymReg.otf', name='STIXSizeFiveSym', style='normal', variant='normal', weight=400, stretch='normal', size='scalable')) = 10.05\n",
      "2025-06-11 10:19:46,227 - matplotlib.font_manager - DEBUG - findfont: score(FontEntry(fname='/System/Library/Fonts/Supplemental/Telugu MN.ttc', name='Telugu MN', style='normal', variant='normal', weight=400, stretch='normal', size='scalable')) = 10.05\n",
      "2025-06-11 10:19:46,228 - matplotlib.font_manager - DEBUG - findfont: score(FontEntry(fname='/System/Library/Fonts/Supplemental/Rockwell.ttc', name='Rockwell', style='normal', variant='normal', weight=400, stretch='normal', size='scalable')) = 10.05\n",
      "2025-06-11 10:19:46,228 - matplotlib.font_manager - DEBUG - findfont: score(FontEntry(fname='/System/Library/Fonts/Supplemental/DIN Condensed Bold.ttf', name='DIN Condensed', style='normal', variant='normal', weight=700, stretch='condensed', size='scalable')) = 10.535\n",
      "2025-06-11 10:19:46,228 - matplotlib.font_manager - DEBUG - findfont: score(FontEntry(fname='/System/Library/Fonts/Supplemental/Thonburi.ttc', name='Thonburi', style='normal', variant='normal', weight=400, stretch='normal', size='scalable')) = 10.05\n",
      "2025-06-11 10:19:46,228 - matplotlib.font_manager - DEBUG - findfont: score(FontEntry(fname='/System/Library/Fonts/Supplemental/Mishafi Gold.ttf', name='Mishafi Gold', style='normal', variant='normal', weight=400, stretch='normal', size='scalable')) = 10.05\n",
      "2025-06-11 10:19:46,228 - matplotlib.font_manager - DEBUG - findfont: score(FontEntry(fname='/System/Library/Fonts/AppleSDGothicNeo.ttc', name='Apple SD Gothic Neo', style='normal', variant='normal', weight=400, stretch='normal', size='scalable')) = 10.05\n",
      "2025-06-11 10:19:46,229 - matplotlib.font_manager - DEBUG - findfont: score(FontEntry(fname='/System/Library/Fonts/Supplemental/SignPainter.ttc', name='SignPainter', style='normal', variant='normal', weight=400, stretch='normal', size='scalable')) = 10.05\n",
      "2025-06-11 10:19:46,229 - matplotlib.font_manager - DEBUG - findfont: score(FontEntry(fname='/System/Library/Fonts/Supplemental/Ayuthaya.ttf', name='Ayuthaya', style='normal', variant='normal', weight=400, stretch='normal', size='scalable')) = 10.05\n",
      "2025-06-11 10:19:46,229 - matplotlib.font_manager - DEBUG - findfont: score(FontEntry(fname='/System/Library/AssetsV2/com_apple_MobileAsset_Font7/42062e40d643fdb5bb3fba917212352fb0690de0.asset/AssetData/YuGothic-Bold.otf', name='YuGothic', style='normal', variant='normal', weight=700, stretch='normal', size='scalable')) = 10.335\n",
      "2025-06-11 10:19:46,229 - matplotlib.font_manager - DEBUG - findfont: score(FontEntry(fname='/System/Library/Fonts/Supplemental/Al Nile.ttc', name='Al Nile', style='normal', variant='normal', weight=400, stretch='normal', size='scalable')) = 10.05\n",
      "2025-06-11 10:19:46,229 - matplotlib.font_manager - DEBUG - findfont: score(FontEntry(fname='/System/Library/AssetsV2/com_apple_MobileAsset_Font7/9a171ef12a4ff85a7f152f3d42a583d7a82b4560.asset/AssetData/ProximaNova.ttc', name='Proxima Nova', style='normal', variant='normal', weight=400, stretch='normal', size='scalable')) = 10.05\n",
      "2025-06-11 10:19:46,229 - matplotlib.font_manager - DEBUG - findfont: score(FontEntry(fname='/System/Library/AssetsV2/com_apple_MobileAsset_Font7/dc5ea26e1652f15565aa06a81653124c1817f8b3.asset/AssetData/FoundersGroteskText.ttc', name='Founders Grotesk Text', style='normal', variant='normal', weight=400, stretch='normal', size='scalable')) = 10.05\n",
      "2025-06-11 10:19:46,230 - matplotlib.font_manager - DEBUG - findfont: score(FontEntry(fname='/System/Library/Fonts/SFNSRounded.ttf', name='.SF NS Rounded', style='normal', variant='normal', weight=400, stretch='normal', size='scalable')) = 10.05\n",
      "2025-06-11 10:19:46,230 - matplotlib.font_manager - DEBUG - findfont: score(FontEntry(fname='/System/Library/Fonts/Supplemental/DIN Alternate Bold.ttf', name='DIN Alternate', style='normal', variant='normal', weight=700, stretch='normal', size='scalable')) = 10.335\n",
      "2025-06-11 10:19:46,230 - matplotlib.font_manager - DEBUG - findfont: score(FontEntry(fname='/System/Library/Fonts/NotoNastaliq.ttc', name='Noto Nastaliq Urdu', style='normal', variant='normal', weight=400, stretch='normal', size='scalable')) = 10.05\n",
      "2025-06-11 10:19:46,230 - matplotlib.font_manager - DEBUG - findfont: score(FontEntry(fname='/Users/drago/Library/Fonts/Hack-Bold.ttf', name='Hack', style='normal', variant='normal', weight=700, stretch='normal', size='scalable')) = 10.335\n",
      "2025-06-11 10:19:46,230 - matplotlib.font_manager - DEBUG - findfont: score(FontEntry(fname='/System/Library/Fonts/AquaKana.ttc', name='.Aqua Kana', style='normal', variant='normal', weight=300, stretch='normal', size='scalable')) = 10.145\n",
      "2025-06-11 10:19:46,231 - matplotlib.font_manager - DEBUG - findfont: score(FontEntry(fname='/System/Library/Fonts/Supplemental/Mishafi.ttf', name='Mishafi', style='normal', variant='normal', weight=400, stretch='normal', size='scalable')) = 10.05\n",
      "2025-06-11 10:19:46,231 - matplotlib.font_manager - DEBUG - findfont: score(FontEntry(fname='/Users/drago/Library/Fonts/NovaMono for Powerline.ttf', name='NovaMono for Powerline', style='normal', variant='normal', weight=400, stretch='normal', size='scalable')) = 10.05\n",
      "2025-06-11 10:19:46,232 - matplotlib.font_manager - DEBUG - findfont: score(FontEntry(fname='/System/Library/AssetsV2/com_apple_MobileAsset_Font7/3a5aa4e05200beee4bc1b04d57fa73313178a508.asset/AssetData/LahoreGurmukhi.ttc', name='Lahore Gurmukhi', style='normal', variant='normal', weight=400, stretch='normal', size='scalable')) = 10.05\n",
      "2025-06-11 10:19:46,232 - matplotlib.font_manager - DEBUG - findfont: score(FontEntry(fname='/System/Library/AssetsV2/com_apple_MobileAsset_Font7/de4b2bad515a67ab2d11e39fd896b1e189252a43.asset/AssetData/HeadlineA.ttf', name='HeadLineA', style='normal', variant='normal', weight=400, stretch='normal', size='scalable')) = 10.05\n",
      "2025-06-11 10:19:46,232 - matplotlib.font_manager - DEBUG - findfont: score(FontEntry(fname='/Users/drago/Library/Fonts/Inconsolata Bold for Powerline.ttf', name='Inconsolata for Powerline', style='normal', variant='normal', weight=700, stretch='normal', size='scalable')) = 10.335\n",
      "2025-06-11 10:19:46,232 - matplotlib.font_manager - DEBUG - findfont: score(FontEntry(fname='/System/Library/Fonts/Supplemental/SuperClarendon.ttc', name='Superclarendon', style='normal', variant='normal', weight=400, stretch='normal', size='scalable')) = 10.05\n",
      "2025-06-11 10:19:46,232 - matplotlib.font_manager - DEBUG - findfont: score(FontEntry(fname='/System/Library/AssetsV2/com_apple_MobileAsset_Font7/03ce8a6a994397529bab88a27142df0f925e4d47.asset/AssetData/SamaDevanagari.ttc', name='Sama Devanagari', style='normal', variant='normal', weight=400, stretch='normal', size='scalable')) = 10.05\n",
      "2025-06-11 10:19:46,233 - matplotlib.font_manager - DEBUG - findfont: score(FontEntry(fname='/System/Library/Fonts/Supplemental/NotoSansLydian-Regular.ttf', name='Noto Sans Lydian', style='normal', variant='normal', weight=400, stretch='normal', size='scalable')) = 10.05\n",
      "2025-06-11 10:19:46,233 - matplotlib.font_manager - DEBUG - findfont: score(FontEntry(fname='/System/Library/Fonts/Supplemental/NotoSansTakri-Regular.ttf', name='Noto Sans Takri', style='normal', variant='normal', weight=400, stretch='normal', size='scalable')) = 10.05\n",
      "2025-06-11 10:19:46,233 - matplotlib.font_manager - DEBUG - findfont: score(FontEntry(fname='/System/Library/Fonts/Supplemental/Webdings.ttf', name='Webdings', style='normal', variant='normal', weight=400, stretch='normal', size='scalable')) = 10.05\n",
      "2025-06-11 10:19:46,233 - matplotlib.font_manager - DEBUG - findfont: score(FontEntry(fname='/Users/drago/Library/Fonts/Meslo LG L Regular for Powerline.ttf', name='Meslo LG L for Powerline', style='normal', variant='normal', weight=400, stretch='normal', size='scalable')) = 10.05\n",
      "2025-06-11 10:19:46,233 - matplotlib.font_manager - DEBUG - findfont: score(FontEntry(fname='/System/Library/Fonts/SFCompact.ttf', name='.SF Compact', style='normal', variant='normal', weight=1000, stretch='normal', size='scalable')) = 10.62\n",
      "2025-06-11 10:19:46,233 - matplotlib.font_manager - DEBUG - findfont: score(FontEntry(fname='/System/Library/Fonts/Supplemental/NotoSansMro-Regular.ttf', name='Noto Sans Mro', style='normal', variant='normal', weight=400, stretch='normal', size='scalable')) = 10.05\n",
      "2025-06-11 10:19:46,234 - matplotlib.font_manager - DEBUG - findfont: score(FontEntry(fname='/System/Library/AssetsV2/com_apple_MobileAsset_Font7/9d609221be9203a6d0e55f5117ff76246f4200a7.asset/AssetData/Mali.ttc', name='Mali', style='normal', variant='normal', weight=400, stretch='normal', size='scalable')) = 10.05\n",
      "2025-06-11 10:19:46,234 - matplotlib.font_manager - DEBUG - findfont: score(FontEntry(fname='/System/Library/AssetsV2/com_apple_MobileAsset_Font7/6f4c91728bb824d6960725ec479c355eab7eeba8.asset/AssetData/NanumScript.ttc', name='Nanum Brush Script', style='normal', variant='normal', weight=400, stretch='normal', size='scalable')) = 10.05\n",
      "2025-06-11 10:19:46,234 - matplotlib.font_manager - DEBUG - findfont: score(FontEntry(fname='/System/Library/Fonts/Supplemental/Shree714.ttc', name='Shree Devanagari 714', style='normal', variant='normal', weight=400, stretch='normal', size='scalable')) = 10.05\n",
      "2025-06-11 10:19:46,234 - matplotlib.font_manager - DEBUG - findfont: score(FontEntry(fname='/Users/drago/Library/Fonts/Roboto Mono Light for Powerline.ttf', name='Roboto Mono Light for Powerline', style='normal', variant='normal', weight=300, stretch='normal', size='scalable')) = 10.145\n",
      "2025-06-11 10:19:46,234 - matplotlib.font_manager - DEBUG - findfont: score(FontEntry(fname='/Users/drago/Library/Fonts/Source Code Pro Semibold for Powerline.otf', name='Source Code Pro for Powerline', style='normal', variant='normal', weight=600, stretch='normal', size='scalable')) = 10.24\n",
      "2025-06-11 10:19:46,235 - matplotlib.font_manager - DEBUG - findfont: score(FontEntry(fname='/System/Library/Fonts/Supplemental/Georgia Italic.ttf', name='Georgia', style='italic', variant='normal', weight=400, stretch='normal', size='scalable')) = 11.05\n",
      "2025-06-11 10:19:46,235 - matplotlib.font_manager - DEBUG - findfont: score(FontEntry(fname='/System/Library/Fonts/ヒラギノ丸ゴ ProN W4.ttc', name='Hiragino Maru Gothic Pro', style='normal', variant='normal', weight=400, stretch='normal', size='scalable')) = 10.05\n",
      "2025-06-11 10:19:46,235 - matplotlib.font_manager - DEBUG - findfont: score(FontEntry(fname='/System/Library/Fonts/Supplemental/NotoSansMandaic-Regular.ttf', name='Noto Sans Mandaic', style='normal', variant='normal', weight=400, stretch='normal', size='scalable')) = 10.05\n",
      "2025-06-11 10:19:46,235 - matplotlib.font_manager - DEBUG - findfont: score(FontEntry(fname='/System/Library/Fonts/SFCompactRounded.ttf', name='.SF Compact Rounded', style='normal', variant='normal', weight=400, stretch='normal', size='scalable')) = 10.05\n",
      "2025-06-11 10:19:46,235 - matplotlib.font_manager - DEBUG - findfont: score(FontEntry(fname='/System/Library/Fonts/Supplemental/NotoSansJavanese-Regular.otf', name='Noto Sans Javanese', style='normal', variant='normal', weight=400, stretch='normal', size='scalable')) = 10.05\n",
      "2025-06-11 10:19:46,235 - matplotlib.font_manager - DEBUG - findfont: score(FontEntry(fname='/Users/drago/Library/Fonts/Space Mono Bold Italic for Powerline.ttf', name='Space Mono for Powerline', style='italic', variant='normal', weight=700, stretch='normal', size='scalable')) = 11.335\n",
      "2025-06-11 10:19:46,236 - matplotlib.font_manager - DEBUG - findfont: score(FontEntry(fname='/System/Library/Fonts/Supplemental/STIXIntDBol.otf', name='STIXIntegralsD', style='normal', variant='normal', weight=700, stretch='normal', size='scalable')) = 10.335\n",
      "2025-06-11 10:19:46,236 - matplotlib.font_manager - DEBUG - findfont: score(FontEntry(fname='/System/Library/Fonts/Supplemental/STIXSizThreeSymBol.otf', name='STIXSizeThreeSym', style='normal', variant='normal', weight=700, stretch='normal', size='scalable')) = 10.335\n",
      "2025-06-11 10:19:46,236 - matplotlib.font_manager - DEBUG - findfont: score(FontEntry(fname='/Users/drago/Library/Fonts/DejaVu Sans Mono Oblique for Powerline.ttf', name='DejaVu Sans Mono for Powerline', style='oblique', variant='normal', weight=400, stretch='normal', size='scalable')) = 11.05\n",
      "2025-06-11 10:19:46,236 - matplotlib.font_manager - DEBUG - findfont: score(FontEntry(fname='/System/Library/Fonts/Apple Braille.ttf', name='Apple Braille', style='normal', variant='normal', weight=400, stretch='normal', size='scalable')) = 10.05\n",
      "2025-06-11 10:19:46,236 - matplotlib.font_manager - DEBUG - findfont: score(FontEntry(fname='/System/Library/Fonts/Supplemental/NotoSansKaithi-Regular.ttf', name='Noto Sans Kaithi', style='normal', variant='normal', weight=400, stretch='normal', size='scalable')) = 10.05\n",
      "2025-06-11 10:19:46,237 - matplotlib.font_manager - DEBUG - findfont: score(FontEntry(fname='/System/Library/Fonts/Supplemental/Academy Engraved LET Fonts.ttf', name='Academy Engraved LET', style='normal', variant='normal', weight=400, stretch='normal', size='scalable')) = 10.05\n",
      "2025-06-11 10:19:46,237 - matplotlib.font_manager - DEBUG - findfont: score(FontEntry(fname='/System/Library/Fonts/Supplemental/Arial Unicode.ttf', name='Arial Unicode MS', style='normal', variant='normal', weight=400, stretch='normal', size='scalable')) = 10.05\n",
      "2025-06-11 10:19:46,237 - matplotlib.font_manager - DEBUG - findfont: score(FontEntry(fname='/System/Library/Fonts/Supplemental/NotoSansRejang-Regular.ttf', name='Noto Sans Rejang', style='normal', variant='normal', weight=400, stretch='normal', size='scalable')) = 10.05\n",
      "2025-06-11 10:19:46,237 - matplotlib.font_manager - DEBUG - findfont: score(FontEntry(fname='/System/Library/Fonts/Supplemental/NotoSansPhagsPa-Regular.ttf', name='Noto Sans PhagsPa', style='normal', variant='normal', weight=400, stretch='normal', size='scalable')) = 10.05\n",
      "2025-06-11 10:19:46,237 - matplotlib.font_manager - DEBUG - findfont: score(FontEntry(fname='/System/Library/AssetsV2/com_apple_MobileAsset_Font7/12cc699be28fb04f3e3c4969a0378a87b920b174.asset/AssetData/BMHannaAir-Regular.otf', name='BM Hanna Air', style='normal', variant='normal', weight=400, stretch='normal', size='scalable')) = 10.05\n",
      "2025-06-11 10:19:46,237 - matplotlib.font_manager - DEBUG - findfont: score(FontEntry(fname='/System/Library/Fonts/MuktaMahee.ttc', name='Mukta Mahee', style='normal', variant='normal', weight=400, stretch='normal', size='scalable')) = 10.05\n",
      "2025-06-11 10:19:46,238 - matplotlib.font_manager - DEBUG - findfont: score(FontEntry(fname='/Users/drago/Library/Fonts/Space Mono Italic for Powerline.ttf', name='Space Mono for Powerline', style='italic', variant='normal', weight=400, stretch='normal', size='scalable')) = 11.05\n",
      "2025-06-11 10:19:46,238 - matplotlib.font_manager - DEBUG - findfont: score(FontEntry(fname='/System/Library/AssetsV2/com_apple_MobileAsset_Font7/26fae641eb2d1f672737dffcde972f770e1fe764.asset/AssetData/OctoberCondensedTamil.ttc', name='October Condensed Tamil', style='normal', variant='normal', weight=400, stretch='condensed', size='scalable')) = 10.25\n",
      "2025-06-11 10:19:46,238 - matplotlib.font_manager - DEBUG - findfont: score(FontEntry(fname='/System/Library/AssetsV2/com_apple_MobileAsset_Font7/9fa3dd293157a9cbef8a68aadd2220f01153c564.asset/AssetData/SamaGujarati.ttc', name='Sama Gujarati', style='normal', variant='normal', weight=400, stretch='normal', size='scalable')) = 10.05\n",
      "2025-06-11 10:19:46,239 - matplotlib.font_manager - DEBUG - findfont: score(FontEntry(fname='/Users/drago/Library/Fonts/Noto Mono for Powerline.ttf', name='Noto Mono for Powerline', style='normal', variant='normal', weight=400, stretch='normal', size='scalable')) = 10.05\n",
      "2025-06-11 10:19:46,239 - matplotlib.font_manager - DEBUG - findfont: score(FontEntry(fname='/System/Library/Fonts/Supplemental/NotoSansVai-Regular.ttf', name='Noto Sans Vai', style='normal', variant='normal', weight=400, stretch='normal', size='scalable')) = 10.05\n",
      "2025-06-11 10:19:46,239 - matplotlib.font_manager - DEBUG - findfont: score(FontEntry(fname='/System/Library/Fonts/Supplemental/Oriya Sangam MN.ttc', name='Oriya Sangam MN', style='normal', variant='normal', weight=400, stretch='normal', size='scalable')) = 10.05\n",
      "2025-06-11 10:19:46,239 - matplotlib.font_manager - DEBUG - findfont: score(FontEntry(fname='/System/Library/Fonts/Supplemental/PTSerifCaption.ttc', name='PT Serif Caption', style='normal', variant='normal', weight=400, stretch='normal', size='scalable')) = 10.05\n",
      "2025-06-11 10:19:46,239 - matplotlib.font_manager - DEBUG - findfont: score(FontEntry(fname='/System/Library/AssetsV2/com_apple_MobileAsset_Font7/2a1f2afa294c311a093f83238e770c82569d87e3.asset/AssetData/BalooTammuduTelugu.ttc', name='Baloo Tammudu 2', style='normal', variant='normal', weight=400, stretch='normal', size='scalable')) = 10.05\n",
      "2025-06-11 10:19:46,240 - matplotlib.font_manager - DEBUG - findfont: score(FontEntry(fname='/System/Library/Fonts/Supplemental/Hoefler Text.ttc', name='Hoefler Text', style='normal', variant='normal', weight=400, stretch='normal', size='scalable')) = 10.05\n",
      "2025-06-11 10:19:46,240 - matplotlib.font_manager - DEBUG - findfont: score(FontEntry(fname='/System/Library/Fonts/Supplemental/NotoSansTirhuta-Regular.ttf', name='Noto Sans Tirhuta', style='normal', variant='normal', weight=400, stretch='normal', size='scalable')) = 10.05\n",
      "2025-06-11 10:19:46,240 - matplotlib.font_manager - DEBUG - findfont: score(FontEntry(fname='/System/Library/Fonts/Supplemental/InaiMathi-MN.ttc', name='InaiMathi', style='normal', variant='normal', weight=400, stretch='normal', size='scalable')) = 10.05\n",
      "2025-06-11 10:19:46,240 - matplotlib.font_manager - DEBUG - findfont: score(FontEntry(fname='/System/Library/AssetsV2/com_apple_MobileAsset_Font7/b5cd62c080c3cc166539f94ad705f5b7f0321a38.asset/AssetData/TiroTamil.ttc', name='Tiro Tamil', style='normal', variant='normal', weight=400, stretch='normal', size='scalable')) = 10.05\n",
      "2025-06-11 10:19:46,240 - matplotlib.font_manager - DEBUG - findfont: score(FontEntry(fname='/System/Library/Fonts/Supplemental/NotoSansPahawhHmong-Regular.ttf', name='Noto Sans Pahawh Hmong', style='normal', variant='normal', weight=400, stretch='normal', size='scalable')) = 10.05\n",
      "2025-06-11 10:19:46,241 - matplotlib.font_manager - DEBUG - findfont: score(FontEntry(fname='/System/Library/Fonts/Supplemental/Tamil Sangam MN.ttc', name='Tamil Sangam MN', style='normal', variant='normal', weight=400, stretch='normal', size='scalable')) = 10.05\n",
      "2025-06-11 10:19:46,241 - matplotlib.font_manager - DEBUG - findfont: score(FontEntry(fname='/System/Library/Fonts/Supplemental/NotoSansMahajani-Regular.ttf', name='Noto Sans Mahajani', style='normal', variant='normal', weight=400, stretch='normal', size='scalable')) = 10.05\n",
      "2025-06-11 10:19:46,241 - matplotlib.font_manager - DEBUG - findfont: score(FontEntry(fname='/System/Library/Fonts/SFHebrew.ttf', name='.SF Hebrew', style='normal', variant='normal', weight=400, stretch='normal', size='scalable')) = 10.05\n",
      "2025-06-11 10:19:46,241 - matplotlib.font_manager - DEBUG - findfont: score(FontEntry(fname='/System/Library/Fonts/Supplemental/NotoSansBhaiksuki-Regular.ttf', name='Noto Sans Bhaiksuki', style='normal', variant='normal', weight=400, stretch='normal', size='scalable')) = 10.05\n",
      "2025-06-11 10:19:46,241 - matplotlib.font_manager - DEBUG - findfont: score(FontEntry(fname='/System/Library/Fonts/Menlo.ttc', name='Menlo', style='normal', variant='normal', weight=400, stretch='normal', size='scalable')) = 10.05\n",
      "2025-06-11 10:19:46,242 - matplotlib.font_manager - DEBUG - findfont: score(FontEntry(fname='/System/Library/Fonts/Supplemental/Georgia.ttf', name='Georgia', style='normal', variant='normal', weight=400, stretch='normal', size='scalable')) = 10.05\n",
      "2025-06-11 10:19:46,242 - matplotlib.font_manager - DEBUG - findfont: score(FontEntry(fname='/System/Library/Fonts/Supplemental/NotoSansOsmanya-Regular.ttf', name='Noto Sans Osmanya', style='normal', variant='normal', weight=400, stretch='normal', size='scalable')) = 10.05\n",
      "2025-06-11 10:19:46,242 - matplotlib.font_manager - DEBUG - findfont: score(FontEntry(fname='/System/Library/Fonts/Supplemental/PartyLET-plain.ttf', name='Party LET', style='normal', variant='normal', weight=400, stretch='normal', size='scalable')) = 10.05\n",
      "2025-06-11 10:19:46,242 - matplotlib.font_manager - DEBUG - findfont: score(FontEntry(fname='/System/Library/Fonts/Supplemental/NotoSansMiao-Regular.ttf', name='Noto Sans Miao', style='normal', variant='normal', weight=400, stretch='normal', size='scalable')) = 10.05\n",
      "2025-06-11 10:19:46,242 - matplotlib.font_manager - DEBUG - findfont: score(FontEntry(fname='/System/Library/AssetsV2/com_apple_MobileAsset_Font7/f0706a236683628e16427c6569e441423faaaa93.asset/AssetData/STXIHEI.ttf', name='STHeiti', style='normal', variant='normal', weight=300, stretch='normal', size='scalable')) = 10.145\n",
      "2025-06-11 10:19:46,243 - matplotlib.font_manager - DEBUG - findfont: score(FontEntry(fname='/Users/drago/Library/Fonts/Meslo LG L Italic for Powerline.ttf', name='Meslo LG L for Powerline', style='italic', variant='normal', weight=400, stretch='normal', size='scalable')) = 11.05\n",
      "2025-06-11 10:19:46,243 - matplotlib.font_manager - DEBUG - findfont: score(FontEntry(fname='/Library/Fonts/RODE Noto Sans Hindi R.ttf', name='RODE Noto Sans Hindi R', style='normal', variant='normal', weight=400, stretch='normal', size='scalable')) = 10.05\n",
      "2025-06-11 10:19:46,243 - matplotlib.font_manager - DEBUG - findfont: score(FontEntry(fname='/System/Library/Fonts/Supplemental/NotoSerifAhom-Regular.ttf', name='Noto Serif Ahom', style='normal', variant='normal', weight=400, stretch='normal', size='scalable')) = 10.05\n",
      "2025-06-11 10:19:46,243 - matplotlib.font_manager - DEBUG - findfont: score(FontEntry(fname='/System/Library/Fonts/ヒラギノ角ゴシック W5.ttc', name='Hiragino Sans', style='normal', variant='normal', weight=500, stretch='normal', size='scalable')) = 10.145\n",
      "2025-06-11 10:19:46,243 - matplotlib.font_manager - DEBUG - findfont: score(FontEntry(fname='/System/Library/Fonts/Supplemental/Oriya MN.ttc', name='Oriya MN', style='normal', variant='normal', weight=400, stretch='normal', size='scalable')) = 10.05\n",
      "2025-06-11 10:19:46,244 - matplotlib.font_manager - DEBUG - findfont: score(FontEntry(fname='/System/Library/Fonts/Supplemental/Seravek.ttc', name='Seravek', style='normal', variant='normal', weight=400, stretch='normal', size='scalable')) = 10.05\n",
      "2025-06-11 10:19:46,244 - matplotlib.font_manager - DEBUG - findfont: score(FontEntry(fname='/System/Library/Fonts/Supplemental/DevanagariMT.ttc', name='Devanagari MT', style='normal', variant='normal', weight=400, stretch='normal', size='scalable')) = 10.05\n",
      "2025-06-11 10:19:46,244 - matplotlib.font_manager - DEBUG - findfont: score(FontEntry(fname='/System/Library/AssetsV2/com_apple_MobileAsset_Font7/e5642792741fe8d1df03a8fa2a1306f55e9ae8f5.asset/AssetData/Hubballi-regular.otf', name='Hubballi', style='normal', variant='normal', weight=400, stretch='normal', size='scalable')) = 10.05\n",
      "2025-06-11 10:19:46,244 - matplotlib.font_manager - DEBUG - findfont: score(FontEntry(fname='/System/Library/Fonts/Supplemental/Comic Sans MS Bold.ttf', name='Comic Sans MS', style='normal', variant='normal', weight=700, stretch='normal', size='scalable')) = 10.335\n",
      "2025-06-11 10:19:46,244 - matplotlib.font_manager - DEBUG - findfont: score(FontEntry(fname='/System/Library/Fonts/Supplemental/NotoSansSharada-Regular.ttf', name='Noto Sans Sharada', style='normal', variant='normal', weight=400, stretch='normal', size='scalable')) = 10.05\n",
      "2025-06-11 10:19:46,244 - matplotlib.font_manager - DEBUG - findfont: score(FontEntry(fname='/System/Library/Fonts/GeezaPro.ttc', name='Geeza Pro', style='normal', variant='normal', weight=400, stretch='normal', size='scalable')) = 10.05\n",
      "2025-06-11 10:19:46,245 - matplotlib.font_manager - DEBUG - findfont: score(FontEntry(fname='/System/Library/Fonts/Supplemental/Bradley Hand Bold.ttf', name='Bradley Hand', style='normal', variant='normal', weight=700, stretch='normal', size='scalable')) = 10.335\n",
      "2025-06-11 10:19:46,245 - matplotlib.font_manager - DEBUG - findfont: score(FontEntry(fname='/System/Library/AssetsV2/com_apple_MobileAsset_Font7/3c0538e5098b7ae593a24c89e80fd5949e873ce1.asset/AssetData/GotuDevanagari-Regular.ttf', name='Gotu', style='normal', variant='normal', weight=400, stretch='normal', size='scalable')) = 10.05\n",
      "2025-06-11 10:19:46,245 - matplotlib.font_manager - DEBUG - findfont: score(FontEntry(fname='/System/Library/Fonts/Supplemental/PTSans.ttc', name='PT Sans', style='normal', variant='normal', weight=400, stretch='normal', size='scalable')) = 10.05\n",
      "2025-06-11 10:19:46,245 - matplotlib.font_manager - DEBUG - findfont: score(FontEntry(fname='/System/Library/AssetsV2/com_apple_MobileAsset_Font7/256f90b4f23b30e5356a8e7c2e239a8d53a48e8c.asset/AssetData/Maku-Devanagari.ttc', name='Maku', style='normal', variant='normal', weight=400, stretch='normal', size='scalable')) = 10.05\n",
      "2025-06-11 10:19:46,245 - matplotlib.font_manager - DEBUG - findfont: score(FontEntry(fname='/System/Library/Fonts/Supplemental/Arial Rounded Bold.ttf', name='Arial Rounded MT Bold', style='normal', variant='normal', weight=400, stretch='normal', size='scalable')) = 10.05\n",
      "2025-06-11 10:19:46,245 - matplotlib.font_manager - DEBUG - findfont: score(FontEntry(fname='/System/Library/AssetsV2/com_apple_MobileAsset_Font7/aa99d0b2bad7f797f38b49d46cde28fd4b58876e.asset/AssetData/Xingkai.ttc', name='Xingkai SC', style='normal', variant='normal', weight=700, stretch='normal', size='scalable')) = 10.335\n",
      "2025-06-11 10:19:46,246 - matplotlib.font_manager - DEBUG - findfont: score(FontEntry(fname='/System/Library/AssetsV2/com_apple_MobileAsset_Font7/7278ac2566252649b05c5a2b07c7d45be59f47c5.asset/AssetData/Libian.ttc', name='Libian SC', style='normal', variant='normal', weight=400, stretch='normal', size='scalable')) = 10.05\n",
      "2025-06-11 10:19:46,246 - matplotlib.font_manager - DEBUG - findfont: score(FontEntry(fname='/System/Library/AssetsV2/com_apple_MobileAsset_Font7/e71ea5469e5f2039223f22203ee8b9186524afd3.asset/AssetData/BMDoHyeon-Regular.otf', name='BM Dohyeon', style='normal', variant='normal', weight=400, stretch='normal', size='scalable')) = 10.05\n",
      "2025-06-11 10:19:46,246 - matplotlib.font_manager - DEBUG - findfont: score(FontEntry(fname='/System/Library/Fonts/Supplemental/NotoSansManichaean-Regular.ttf', name='Noto Sans Manichaean', style='normal', variant='normal', weight=400, stretch='normal', size='scalable')) = 10.05\n",
      "2025-06-11 10:19:46,246 - matplotlib.font_manager - DEBUG - findfont: score(FontEntry(fname='/Users/drago/Library/Fonts/SpaceMono-BoldItalic.ttf', name='Space Mono', style='italic', variant='normal', weight=700, stretch='normal', size='scalable')) = 11.335\n",
      "2025-06-11 10:19:46,246 - matplotlib.font_manager - DEBUG - findfont: score(FontEntry(fname='/System/Library/Fonts/Supplemental/NotoSansTagalog-Regular.ttf', name='Noto Sans Tagalog', style='normal', variant='normal', weight=400, stretch='normal', size='scalable')) = 10.05\n",
      "2025-06-11 10:19:46,247 - matplotlib.font_manager - DEBUG - findfont: score(FontEntry(fname='/Users/drago/Library/Fonts/DejaVu Sans Mono Bold Oblique for Powerline.ttf', name='DejaVu Sans Mono for Powerline', style='oblique', variant='normal', weight=700, stretch='normal', size='scalable')) = 11.335\n",
      "2025-06-11 10:19:46,247 - matplotlib.font_manager - DEBUG - findfont: score(FontEntry(fname='/System/Library/Fonts/Supplemental/Gurmukhi MN.ttc', name='Gurmukhi MN', style='normal', variant='normal', weight=400, stretch='normal', size='scalable')) = 10.05\n",
      "2025-06-11 10:19:46,247 - matplotlib.font_manager - DEBUG - findfont: score(FontEntry(fname='/System/Library/Fonts/SFCompactItalic.ttf', name='.SF Compact', style='italic', variant='normal', weight=1000, stretch='normal', size='scalable')) = 11.62\n",
      "2025-06-11 10:19:46,247 - matplotlib.font_manager - DEBUG - findfont: score(FontEntry(fname='/System/Library/Fonts/Supplemental/Arial Narrow Italic.ttf', name='Arial Narrow', style='italic', variant='normal', weight=400, stretch='condensed', size='scalable')) = 11.25\n",
      "2025-06-11 10:19:46,248 - matplotlib.font_manager - DEBUG - findfont: score(FontEntry(fname='/Users/drago/Library/Fonts/Meslo LG L Bold Italic for Powerline.ttf', name='Meslo LG L for Powerline', style='italic', variant='normal', weight=700, stretch='normal', size='scalable')) = 11.335\n",
      "2025-06-11 10:19:46,248 - matplotlib.font_manager - DEBUG - findfont: score(FontEntry(fname='/System/Library/AssetsV2/com_apple_MobileAsset_Font7/28f00a24ba19995bab7249993e6e35d11011074a.asset/AssetData/Kai.ttf', name='Kai', style='normal', variant='normal', weight=400, stretch='normal', size='scalable')) = 10.05\n",
      "2025-06-11 10:19:46,248 - matplotlib.font_manager - DEBUG - findfont: score(FontEntry(fname='/System/Library/AssetsV2/com_apple_MobileAsset_Font7/85a00d3ffd845112afa9bfd08f0684b4d2647734.asset/AssetData/AdelleSans.ttc', name='Adelle Sans Devanagari', style='normal', variant='normal', weight=400, stretch='normal', size='scalable')) = 10.05\n",
      "2025-06-11 10:19:46,248 - matplotlib.font_manager - DEBUG - findfont: score(FontEntry(fname='/System/Library/Fonts/ヒラギノ角ゴシック W3.ttc', name='Hiragino Sans', style='normal', variant='normal', weight=300, stretch='normal', size='scalable')) = 10.145\n",
      "2025-06-11 10:19:46,248 - matplotlib.font_manager - DEBUG - findfont: score(FontEntry(fname='/Users/drago/Library/Fonts/Inconsolata-dz for Powerline.otf', name='Inconsolata-dz for Powerline', style='normal', variant='normal', weight=500, stretch='normal', size='scalable')) = 10.145\n",
      "2025-06-11 10:19:46,248 - matplotlib.font_manager - DEBUG - findfont: score(FontEntry(fname='/System/Library/Fonts/SFArmenian.ttf', name='.SF Armenian', style='normal', variant='normal', weight=400, stretch='normal', size='scalable')) = 10.05\n",
      "2025-06-11 10:19:46,249 - matplotlib.font_manager - DEBUG - findfont: score(FontEntry(fname='/Users/drago/Library/Fonts/Source Code Pro Powerline BlackItalic.otf', name='Source Code Pro for Powerline', style='italic', variant='normal', weight=900, stretch='normal', size='scalable')) = 11.525\n",
      "2025-06-11 10:19:46,249 - matplotlib.font_manager - DEBUG - findfont: score(FontEntry(fname='/System/Library/AssetsV2/com_apple_MobileAsset_Font7/b934aea5f09dbd97182321d27b0e1bbb7e1abf9a.asset/AssetData/Baloo-Devanagari.ttc', name='Baloo 2', style='normal', variant='normal', weight=400, stretch='normal', size='scalable')) = 10.05\n",
      "2025-06-11 10:19:46,249 - matplotlib.font_manager - DEBUG - findfont: score(FontEntry(fname='/System/Library/Fonts/Supplemental/NotoSansLisu-Regular.ttf', name='Noto Sans Lisu', style='normal', variant='normal', weight=400, stretch='normal', size='scalable')) = 10.05\n",
      "2025-06-11 10:19:46,249 - matplotlib.font_manager - DEBUG - findfont: score(FontEntry(fname='/System/Library/Fonts/Supplemental/NotoSansPauCinHau-Regular.ttf', name='Noto Sans Pau Cin Hau', style='normal', variant='normal', weight=400, stretch='normal', size='scalable')) = 10.05\n",
      "2025-06-11 10:19:46,249 - matplotlib.font_manager - DEBUG - findfont: score(FontEntry(fname='/System/Library/Fonts/Supplemental/Lao Sangam MN.ttf', name='Lao Sangam MN', style='normal', variant='normal', weight=400, stretch='normal', size='scalable')) = 10.05\n",
      "2025-06-11 10:19:46,249 - matplotlib.font_manager - DEBUG - findfont: score(FontEntry(fname='/System/Library/AssetsV2/com_apple_MobileAsset_Font7/7ca27bc02dd7660f9dacd69df96d24639b96e080.asset/AssetData/Pilgiche.ttf', name='PilGi', style='normal', variant='normal', weight=400, stretch='normal', size='scalable')) = 10.05\n",
      "2025-06-11 10:19:46,250 - matplotlib.font_manager - DEBUG - findfont: score(FontEntry(fname='/System/Library/Fonts/Supplemental/Andale Mono.ttf', name='Andale Mono', style='normal', variant='normal', weight=400, stretch='normal', size='scalable')) = 10.05\n",
      "2025-06-11 10:19:46,250 - matplotlib.font_manager - DEBUG - findfont: score(FontEntry(fname='/System/Library/Fonts/Supplemental/STIXSizOneSymReg.otf', name='STIXSizeOneSym', style='normal', variant='normal', weight=400, stretch='normal', size='scalable')) = 10.05\n",
      "2025-06-11 10:19:46,250 - matplotlib.font_manager - DEBUG - findfont: score(FontEntry(fname='/Users/drago/Library/Fonts/Source Code Pro Powerline BoldItalic.otf', name='Source Code Pro for Powerline', style='italic', variant='normal', weight=700, stretch='normal', size='scalable')) = 11.335\n",
      "2025-06-11 10:19:46,250 - matplotlib.font_manager - DEBUG - findfont: score(FontEntry(fname='/System/Library/Fonts/Supplemental/NotoSansBassaVah-Regular.ttf', name='Noto Sans Bassa Vah', style='normal', variant='normal', weight=400, stretch='normal', size='scalable')) = 10.05\n",
      "2025-06-11 10:19:46,250 - matplotlib.font_manager - DEBUG - findfont: score(FontEntry(fname='/Users/drago/Library/Fonts/Source Code Pro Black for Powerline.otf', name='Source Code Pro for Powerline', style='normal', variant='normal', weight=900, stretch='normal', size='scalable')) = 10.525\n",
      "2025-06-11 10:19:46,250 - matplotlib.font_manager - DEBUG - findfont: score(FontEntry(fname='/System/Library/Fonts/Kohinoor.ttc', name='Kohinoor Devanagari', style='normal', variant='normal', weight=400, stretch='normal', size='scalable')) = 10.05\n",
      "2025-06-11 10:19:46,251 - matplotlib.font_manager - DEBUG - findfont: score(FontEntry(fname='/System/Library/Fonts/SFNSMonoItalic.ttf', name='.SF NS Mono', style='italic', variant='normal', weight=295, stretch='normal', size='scalable')) = 11.14975\n",
      "2025-06-11 10:19:46,251 - matplotlib.font_manager - DEBUG - findfont: score(FontEntry(fname='/System/Library/AssetsV2/com_apple_MobileAsset_Font7/e86431dbd21a5a9b2a71ae1224cc7698ef086c05.asset/AssetData/PadyakkeExpandedOne-regular.otf', name='Padyakke Expanded One', style='normal', variant='normal', weight=400, stretch='expanded', size='scalable')) = 10.25\n",
      "2025-06-11 10:19:46,251 - matplotlib.font_manager - DEBUG - findfont: score(FontEntry(fname='/System/Library/Fonts/Supplemental/NotoSansEgyptianHieroglyphs-Regular.ttf', name='Noto Sans Egyptian Hieroglyphs', style='normal', variant='normal', weight=400, stretch='normal', size='scalable')) = 10.05\n",
      "2025-06-11 10:19:46,251 - matplotlib.font_manager - DEBUG - findfont: score(FontEntry(fname='/System/Library/Fonts/Supplemental/Verdana Italic.ttf', name='Verdana', style='italic', variant='normal', weight=400, stretch='normal', size='scalable')) = 11.05\n",
      "2025-06-11 10:19:46,251 - matplotlib.font_manager - DEBUG - findfont: score(FontEntry(fname='/System/Library/AssetsV2/com_apple_MobileAsset_Font7/4cec0fab93a88d2448fed090966ef489adb6cfcc.asset/AssetData/Baijam.ttc', name='Bai Jamjuree', style='normal', variant='normal', weight=400, stretch='normal', size='scalable')) = 10.05\n",
      "2025-06-11 10:19:46,251 - matplotlib.font_manager - DEBUG - findfont: score(FontEntry(fname='/System/Library/AssetsV2/com_apple_MobileAsset_Font7/2183b8adbe88829e51570bd6714dfbd1226aed5e.asset/AssetData/SamaTamil.ttc', name='Sama Tamil', style='normal', variant='normal', weight=400, stretch='normal', size='scalable')) = 10.05\n",
      "2025-06-11 10:19:46,252 - matplotlib.font_manager - DEBUG - findfont: score(FontEntry(fname='/System/Library/AssetsV2/com_apple_MobileAsset_Font7/5d7a46ae13682290c4ea481f6deb24723758c0b0.asset/AssetData/TiroBangla.ttc', name='Tiro Bangla', style='normal', variant='normal', weight=400, stretch='normal', size='scalable')) = 10.05\n",
      "2025-06-11 10:19:46,252 - matplotlib.font_manager - DEBUG - findfont: score(FontEntry(fname='/System/Library/Fonts/Supplemental/NotoSansNewa-Regular.ttf', name='Noto Sans Newa', style='normal', variant='normal', weight=400, stretch='normal', size='scalable')) = 10.05\n",
      "2025-06-11 10:19:46,252 - matplotlib.font_manager - DEBUG - findfont: score(FontEntry(fname='/System/Library/Fonts/Supplemental/Georgia Bold Italic.ttf', name='Georgia', style='italic', variant='normal', weight=700, stretch='normal', size='scalable')) = 11.335\n",
      "2025-06-11 10:19:46,252 - matplotlib.font_manager - DEBUG - findfont: score(FontEntry(fname='/System/Library/Fonts/Times.ttc', name='Times', style='normal', variant='normal', weight=400, stretch='normal', size='scalable')) = 10.05\n",
      "2025-06-11 10:19:46,252 - matplotlib.font_manager - DEBUG - findfont: score(FontEntry(fname='/System/Library/Fonts/Supplemental/NotoSansMongolian-Regular.ttf', name='Noto Sans Mongolian', style='normal', variant='normal', weight=400, stretch='normal', size='scalable')) = 10.05\n",
      "2025-06-11 10:19:46,253 - matplotlib.font_manager - DEBUG - findfont: score(FontEntry(fname='/System/Library/Fonts/Supplemental/NotoSerifNyiakengPuachueHmong-Regular.ttf', name='Noto Serif Hmong Nyiakeng', style='normal', variant='normal', weight=400, stretch='normal', size='scalable')) = 10.05\n",
      "2025-06-11 10:19:46,253 - matplotlib.font_manager - DEBUG - findfont: score(FontEntry(fname='/System/Library/Fonts/Supplemental/STIXGeneralBol.otf', name='STIXGeneral', style='normal', variant='normal', weight=700, stretch='normal', size='scalable')) = 10.335\n",
      "2025-06-11 10:19:46,253 - matplotlib.font_manager - DEBUG - findfont: score(FontEntry(fname='/Users/drago/Library/Fonts/FuraMono-Regular Powerline.otf', name='Fira Mono for Powerline', style='normal', variant='normal', weight=400, stretch='normal', size='scalable')) = 10.05\n",
      "2025-06-11 10:19:46,253 - matplotlib.font_manager - DEBUG - findfont: score(FontEntry(fname='/System/Library/Fonts/Supplemental/NotoSansPalmyrene-Regular.ttf', name='Noto Sans Palmyrene', style='normal', variant='normal', weight=400, stretch='normal', size='scalable')) = 10.05\n",
      "2025-06-11 10:19:46,253 - matplotlib.font_manager - DEBUG - findfont: score(FontEntry(fname='/Users/drago/Library/Fonts/Tinos Italic for Powerline.ttf', name='Tinos for Powerline', style='italic', variant='normal', weight=400, stretch='normal', size='scalable')) = 11.05\n",
      "2025-06-11 10:19:46,253 - matplotlib.font_manager - DEBUG - findfont: score(FontEntry(fname='/System/Library/AssetsV2/com_apple_MobileAsset_Font7/9bcdfd464af84ab30592d781f4a82f44f548239c.asset/AssetData/BMYeongSung-Regular.otf', name='BM Yeonsung', style='normal', variant='normal', weight=400, stretch='normal', size='scalable')) = 10.05\n",
      "2025-06-11 10:19:46,253 - matplotlib.font_manager - DEBUG - findfont: score(FontEntry(fname='/System/Library/Fonts/ZapfDingbats.ttf', name='Zapf Dingbats', style='normal', variant='normal', weight=400, stretch='normal', size='scalable')) = 10.05\n",
      "2025-06-11 10:19:46,254 - matplotlib.font_manager - DEBUG - findfont: score(FontEntry(fname='/System/Library/Fonts/Supplemental/Muna.ttc', name='Muna', style='normal', variant='normal', weight=400, stretch='normal', size='scalable')) = 10.05\n",
      "2025-06-11 10:19:46,254 - matplotlib.font_manager - DEBUG - findfont: score(FontEntry(fname='/System/Library/AssetsV2/com_apple_MobileAsset_Font7/0b802c2b87c037f38d2d5b38c326408e2823a00c.asset/AssetData/FoundersGrotesk.ttc', name='Founders Grotesk', style='normal', variant='normal', weight=400, stretch='normal', size='scalable')) = 10.05\n",
      "2025-06-11 10:19:46,254 - matplotlib.font_manager - DEBUG - findfont: score(FontEntry(fname='/System/Library/Fonts/Supplemental/Chalkboard.ttc', name='Chalkboard', style='normal', variant='normal', weight=400, stretch='normal', size='scalable')) = 10.05\n",
      "2025-06-11 10:19:46,254 - matplotlib.font_manager - DEBUG - findfont: score(FontEntry(fname='/System/Library/Fonts/Supplemental/Nadeem.ttc', name='Nadeem', style='normal', variant='normal', weight=400, stretch='normal', size='scalable')) = 10.05\n",
      "2025-06-11 10:19:46,254 - matplotlib.font_manager - DEBUG - findfont: score(FontEntry(fname='/Users/drago/Library/Fonts/Source Code Pro Powerline SemiboldItalic.otf', name='Source Code Pro for Powerline', style='italic', variant='normal', weight=600, stretch='normal', size='scalable')) = 11.24\n",
      "2025-06-11 10:19:46,255 - matplotlib.font_manager - DEBUG - findfont: score(FontEntry(fname='/System/Library/Fonts/Supplemental/STIXGeneral.otf', name='STIXGeneral', style='normal', variant='normal', weight=400, stretch='normal', size='scalable')) = 10.05\n",
      "2025-06-11 10:19:46,255 - matplotlib.font_manager - DEBUG - findfont: score(FontEntry(fname='/Users/drago/Library/Fonts/Droid Sans Mono for Powerline.otf', name='Droid Sans Mono for Powerline', style='normal', variant='normal', weight=400, stretch='normal', size='scalable')) = 10.05\n",
      "2025-06-11 10:19:46,255 - matplotlib.font_manager - DEBUG - findfont: score(FontEntry(fname='/System/Library/Fonts/Supplemental/NotoSansNKo-Regular.ttf', name='Noto Sans NKo', style='normal', variant='normal', weight=400, stretch='normal', size='scalable')) = 10.05\n",
      "2025-06-11 10:19:46,255 - matplotlib.font_manager - DEBUG - findfont: score(FontEntry(fname='/Users/drago/Library/Fonts/DejaVu Sans Mono for Powerline.ttf', name='DejaVu Sans Mono for Powerline', style='normal', variant='normal', weight=400, stretch='normal', size='scalable')) = 10.05\n",
      "2025-06-11 10:19:46,255 - matplotlib.font_manager - DEBUG - findfont: score(FontEntry(fname='/System/Library/Fonts/Supplemental/NotoSansModi-Regular.ttf', name='Noto Sans Modi', style='normal', variant='normal', weight=400, stretch='normal', size='scalable')) = 10.05\n",
      "2025-06-11 10:19:46,255 - matplotlib.font_manager - DEBUG - findfont: score(FontEntry(fname='/System/Library/Fonts/Supplemental/STIXGeneralItalic.otf', name='STIXGeneral', style='italic', variant='normal', weight=400, stretch='normal', size='scalable')) = 11.05\n",
      "2025-06-11 10:19:46,256 - matplotlib.font_manager - DEBUG - findfont: score(FontEntry(fname='/System/Library/AssetsV2/com_apple_MobileAsset_Font7/2ae839cbaa0ff60fe6a1d8921a77c81adcec0646.asset/AssetData/AppleLiSung-Light.ttf', name='Apple LiSung', style='normal', variant='normal', weight=400, stretch='normal', size='scalable')) = 10.05\n",
      "2025-06-11 10:19:46,256 - matplotlib.font_manager - DEBUG - findfont: score(FontEntry(fname='/System/Library/Fonts/Supplemental/STIXNonUniBolIta.otf', name='STIXNonUnicode', style='italic', variant='normal', weight=700, stretch='normal', size='scalable')) = 11.335\n",
      "2025-06-11 10:19:46,256 - matplotlib.font_manager - DEBUG - findfont: score(FontEntry(fname='/System/Library/Fonts/Supplemental/NotoSansTaiLe-Regular.ttf', name='Noto Sans Tai Le', style='normal', variant='normal', weight=400, stretch='normal', size='scalable')) = 10.05\n",
      "2025-06-11 10:19:46,256 - matplotlib.font_manager - DEBUG - findfont: score(FontEntry(fname='/System/Library/Fonts/Supplemental/Comic Sans MS.ttf', name='Comic Sans MS', style='normal', variant='normal', weight=400, stretch='normal', size='scalable')) = 10.05\n",
      "2025-06-11 10:19:46,256 - matplotlib.font_manager - DEBUG - findfont: score(FontEntry(fname='/System/Library/Fonts/Supplemental/NotoSansSamaritan-Regular.ttf', name='Noto Sans Samaritan', style='normal', variant='normal', weight=400, stretch='normal', size='scalable')) = 10.05\n",
      "2025-06-11 10:19:46,256 - matplotlib.font_manager - DEBUG - findfont: score(FontEntry(fname='/System/Library/AssetsV2/com_apple_MobileAsset_Font7/bad9b4bf17cf1669dde54184ba4431c22dcad27b.asset/AssetData/NanumGothic.ttc', name='Nanum Gothic', style='normal', variant='normal', weight=400, stretch='normal', size='scalable')) = 10.05\n",
      "2025-06-11 10:19:46,257 - matplotlib.font_manager - DEBUG - findfont: score(FontEntry(fname='/Users/drago/Library/Fonts/SpaceMono-Bold.ttf', name='Space Mono', style='normal', variant='normal', weight=700, stretch='normal', size='scalable')) = 10.335\n",
      "2025-06-11 10:19:46,257 - matplotlib.font_manager - DEBUG - findfont: score(FontEntry(fname='/System/Library/AssetsV2/com_apple_MobileAsset_Font7/18189590ed3a5f46cef20ed4d1cec2611dca13ff.asset/AssetData/WawaSC-Regular.otf', name='Wawati SC', style='normal', variant='normal', weight=400, stretch='normal', size='scalable')) = 10.05\n",
      "2025-06-11 10:19:46,257 - matplotlib.font_manager - DEBUG - findfont: score(FontEntry(fname='/System/Library/Fonts/Supplemental/PTSerif.ttc', name='PT Serif', style='normal', variant='normal', weight=400, stretch='normal', size='scalable')) = 10.05\n",
      "2025-06-11 10:19:46,257 - matplotlib.font_manager - DEBUG - findfont: score(FontEntry(fname='/Users/drago/Library/Fonts/Ubuntu Mono derivative Powerline Bold.ttf', name='Ubuntu Mono derivative Powerline', style='normal', variant='normal', weight=700, stretch='normal', size='scalable')) = 10.335\n",
      "2025-06-11 10:19:46,257 - matplotlib.font_manager - DEBUG - findfont: score(FontEntry(fname='/System/Library/Fonts/Supplemental/Arial Black.ttf', name='Arial Black', style='normal', variant='normal', weight=900, stretch='normal', size='scalable')) = 10.525\n",
      "2025-06-11 10:19:46,257 - matplotlib.font_manager - DEBUG - findfont: score(FontEntry(fname='/System/Library/Fonts/SFCamera.ttf', name='.SF Camera', style='normal', variant='normal', weight=400, stretch='normal', size='scalable')) = 10.05\n",
      "2025-06-11 10:19:46,258 - matplotlib.font_manager - DEBUG - findfont: score(FontEntry(fname='/Users/drago/Library/Fonts/Monofur Italic for Powerline.ttf', name='monofur for Powerline', style='italic', variant='normal', weight=400, stretch='normal', size='scalable')) = 11.05\n",
      "2025-06-11 10:19:46,258 - matplotlib.font_manager - DEBUG - findfont: score(FontEntry(fname='/System/Library/AssetsV2/com_apple_MobileAsset_Font7/34fead973f6b219177a77839ad8f341551fc495f.asset/AssetData/Niramit.ttc', name='Niramit', style='normal', variant='normal', weight=400, stretch='normal', size='scalable')) = 10.05\n",
      "2025-06-11 10:19:46,259 - matplotlib.font_manager - DEBUG - findfont: score(FontEntry(fname='/Users/drago/Library/Fonts/Ubuntu Mono derivative Powerline Bold Italic.ttf', name='Ubuntu Mono derivative Powerline', style='italic', variant='normal', weight=700, stretch='normal', size='scalable')) = 11.335\n",
      "2025-06-11 10:19:46,259 - matplotlib.font_manager - DEBUG - findfont: score(FontEntry(fname='/System/Library/Fonts/Supplemental/NotoSansMasaramGondi-Regular.otf', name='Noto Sans Masaram Gondi', style='normal', variant='normal', weight=400, stretch='normal', size='scalable')) = 10.05\n",
      "2025-06-11 10:19:46,259 - matplotlib.font_manager - DEBUG - findfont: score(FontEntry(fname='/System/Library/Fonts/Supplemental/Apple Chancery.ttf', name='Apple Chancery', style='normal', variant='normal', weight=0, stretch='normal', size='scalable')) = 10.43\n",
      "2025-06-11 10:19:46,259 - matplotlib.font_manager - DEBUG - findfont: score(FontEntry(fname='/System/Library/Fonts/Supplemental/DecoTypeNaskh.ttc', name='DecoType Naskh', style='normal', variant='normal', weight=400, stretch='normal', size='scalable')) = 10.05\n",
      "2025-06-11 10:19:46,260 - matplotlib.font_manager - DEBUG - findfont: score(FontEntry(fname='/System/Library/Fonts/Supplemental/NotoSansPhoenician-Regular.ttf', name='Noto Sans Phoenician', style='normal', variant='normal', weight=400, stretch='normal', size='scalable')) = 10.05\n",
      "2025-06-11 10:19:46,260 - matplotlib.font_manager - DEBUG - findfont: score(FontEntry(fname='/Users/drago/Library/Fonts/Meslo LG S DZ Italic for Powerline.ttf', name='Meslo LG S DZ for Powerline', style='italic', variant='normal', weight=400, stretch='normal', size='scalable')) = 11.05\n",
      "2025-06-11 10:19:46,260 - matplotlib.font_manager - DEBUG - findfont: score(FontEntry(fname='/System/Library/Fonts/Supplemental/Trebuchet MS Bold.ttf', name='Trebuchet MS', style='normal', variant='normal', weight=700, stretch='normal', size='scalable')) = 10.335\n",
      "2025-06-11 10:19:46,260 - matplotlib.font_manager - DEBUG - findfont: score(FontEntry(fname='/System/Library/Fonts/Palatino.ttc', name='Palatino', style='normal', variant='normal', weight=400, stretch='normal', size='scalable')) = 10.05\n",
      "2025-06-11 10:19:46,260 - matplotlib.font_manager - DEBUG - findfont: score(FontEntry(fname='/System/Library/Fonts/Supplemental/Baghdad.ttc', name='Baghdad', style='normal', variant='normal', weight=400, stretch='normal', size='scalable')) = 10.05\n",
      "2025-06-11 10:19:46,260 - matplotlib.font_manager - DEBUG - findfont: score(FontEntry(fname='/Users/drago/Library/Fonts/Source Code Pro Powerline LightItalic.otf', name='Source Code Pro for Powerline', style='italic', variant='normal', weight=300, stretch='normal', size='scalable')) = 11.145\n",
      "2025-06-11 10:19:46,261 - matplotlib.font_manager - DEBUG - findfont: score(FontEntry(fname='/Users/drago/Library/Fonts/Source Code Pro Powerline ExtraLightItalic.otf', name='Source Code Pro for Powerline', style='italic', variant='normal', weight=200, stretch='normal', size='scalable')) = 11.24\n",
      "2025-06-11 10:19:46,261 - matplotlib.font_manager - DEBUG - findfont: score(FontEntry(fname='/System/Library/AssetsV2/com_apple_MobileAsset_Font7/8dc7805506cc9f233dcc19aabf593196842a47ae.asset/AssetData/Hannotate.ttc', name='Hannotate SC', style='normal', variant='normal', weight=400, stretch='normal', size='scalable')) = 10.05\n",
      "2025-06-11 10:19:46,261 - matplotlib.font_manager - DEBUG - findfont: score(FontEntry(fname='/System/Library/AssetsV2/com_apple_MobileAsset_Font7/f9a4c1730c4f26e42090255f39b31690a7c242a6.asset/AssetData/BalooBhainaOdia.ttc', name='Baloo Bhaina 2', style='normal', variant='normal', weight=400, stretch='normal', size='scalable')) = 10.05\n",
      "2025-06-11 10:19:46,261 - matplotlib.font_manager - DEBUG - findfont: score(FontEntry(fname='/System/Library/AssetsV2/com_apple_MobileAsset_Font7/ad8c3bb76851adc11dc4772c1a7a00caf83e3037.asset/AssetData/Ornanong.ttc', name='PSL Ornanong Pro', style='normal', variant='normal', weight=400, stretch='normal', size='scalable')) = 10.05\n",
      "2025-06-11 10:19:46,262 - matplotlib.font_manager - DEBUG - findfont: score(FontEntry(fname='/System/Library/AssetsV2/com_apple_MobileAsset_Font7/e90b2e6be89a61aa1407328b3a8563c16af8c178.asset/AssetData/Graphik.ttc', name='Graphik', style='normal', variant='normal', weight=400, stretch='normal', size='scalable')) = 10.05\n",
      "2025-06-11 10:19:46,262 - matplotlib.font_manager - DEBUG - findfont: score(FontEntry(fname='/System/Library/Fonts/Supplemental/Farisi.ttf', name='Farisi', style='normal', variant='normal', weight=400, stretch='normal', size='scalable')) = 10.05\n",
      "2025-06-11 10:19:46,262 - matplotlib.font_manager - DEBUG - findfont: score(FontEntry(fname='/System/Library/Fonts/Supplemental/Luminari.ttf', name='Luminari', style='normal', variant='normal', weight=400, stretch='normal', size='scalable')) = 10.05\n",
      "2025-06-11 10:19:46,263 - matplotlib.font_manager - DEBUG - findfont: score(FontEntry(fname='/System/Library/Fonts/SFGeorgianRounded.ttf', name='.SF Georgian Rounded', style='normal', variant='normal', weight=400, stretch='normal', size='scalable')) = 10.05\n",
      "2025-06-11 10:19:46,263 - matplotlib.font_manager - DEBUG - findfont: score(FontEntry(fname='/System/Library/Fonts/Supplemental/Khmer Sangam MN.ttf', name='Khmer Sangam MN', style='normal', variant='normal', weight=400, stretch='normal', size='scalable')) = 10.05\n",
      "2025-06-11 10:19:46,263 - matplotlib.font_manager - DEBUG - findfont: score(FontEntry(fname='/System/Library/Fonts/Supplemental/NotoSansSylotiNagri-Regular.ttf', name='Noto Sans Syloti Nagri', style='normal', variant='normal', weight=400, stretch='normal', size='scalable')) = 10.05\n",
      "2025-06-11 10:19:46,263 - matplotlib.font_manager - DEBUG - findfont: score(FontEntry(fname='/System/Library/Fonts/SFArabic.ttf', name='.SF Arabic', style='normal', variant='normal', weight=400, stretch='normal', size='scalable')) = 10.05\n",
      "2025-06-11 10:19:46,264 - matplotlib.font_manager - DEBUG - findfont: score(FontEntry(fname='/System/Library/Fonts/Supplemental/Iowan Old Style.ttc', name='Iowan Old Style', style='normal', variant='normal', weight=400, stretch='normal', size='scalable')) = 10.05\n",
      "2025-06-11 10:19:46,264 - matplotlib.font_manager - DEBUG - findfont: score(FontEntry(fname='/System/Library/AssetsV2/com_apple_MobileAsset_Font7/4c178a7a7f65f6487f4b90071ab776126ef1861a.asset/AssetData/Mukta-Devanagari.ttc', name='Mukta', style='normal', variant='normal', weight=400, stretch='normal', size='scalable')) = 10.05\n",
      "2025-06-11 10:19:46,264 - matplotlib.font_manager - DEBUG - findfont: score(FontEntry(fname='/System/Library/Fonts/Supplemental/NotoSansCaucasianAlbanian-Regular.ttf', name='Noto Sans Caucasian Albanian', style='normal', variant='normal', weight=400, stretch='normal', size='scalable')) = 10.05\n",
      "2025-06-11 10:19:46,264 - matplotlib.font_manager - DEBUG - findfont: score(FontEntry(fname='/System/Library/Fonts/Apple Braille Pinpoint 8 Dot.ttf', name='Apple Braille', style='normal', variant='normal', weight=400, stretch='normal', size='scalable')) = 10.05\n",
      "2025-06-11 10:19:46,264 - matplotlib.font_manager - DEBUG - findfont: score(FontEntry(fname='/System/Library/Fonts/LucidaGrande.ttc', name='Lucida Grande', style='normal', variant='normal', weight=500, stretch='normal', size='scalable')) = 10.145\n",
      "2025-06-11 10:19:46,264 - matplotlib.font_manager - DEBUG - findfont: score(FontEntry(fname='/System/Library/Fonts/Supplemental/STIXIntUpReg.otf', name='STIXIntegralsUp', style='normal', variant='normal', weight=400, stretch='normal', size='scalable')) = 10.05\n",
      "2025-06-11 10:19:46,265 - matplotlib.font_manager - DEBUG - findfont: score(FontEntry(fname='/Users/drago/Library/Fonts/Meslo LG M Bold Italic for Powerline.ttf', name='Meslo LG M for Powerline', style='italic', variant='normal', weight=700, stretch='normal', size='scalable')) = 11.335\n",
      "2025-06-11 10:19:46,265 - matplotlib.font_manager - DEBUG - findfont: score(FontEntry(fname='/System/Library/Fonts/Hiragino Sans GB.ttc', name='Hiragino Sans GB', style='normal', variant='normal', weight=300, stretch='normal', size='scalable')) = 10.145\n",
      "2025-06-11 10:19:46,265 - matplotlib.font_manager - DEBUG - findfont: score(FontEntry(fname='/System/Library/Fonts/Supplemental/Al Tarikh.ttc', name='Al Tarikh', style='normal', variant='normal', weight=400, stretch='normal', size='scalable')) = 10.05\n",
      "2025-06-11 10:19:46,265 - matplotlib.font_manager - DEBUG - findfont: score(FontEntry(fname='/System/Library/Fonts/Supplemental/Times New Roman.ttf', name='Times New Roman', style='normal', variant='normal', weight=400, stretch='normal', size='scalable')) = 10.05\n",
      "2025-06-11 10:19:46,266 - matplotlib.font_manager - DEBUG - findfont: score(FontEntry(fname='/Users/drago/Library/Fonts/Roboto Mono for Powerline.ttf', name='Roboto Mono for Powerline', style='normal', variant='normal', weight=400, stretch='normal', size='scalable')) = 10.05\n",
      "2025-06-11 10:19:46,266 - matplotlib.font_manager - DEBUG - findfont: score(FontEntry(fname='/System/Library/Fonts/ヒラギノ角ゴシック W0.ttc', name='Hiragino Sans', style='normal', variant='normal', weight=100, stretch='normal', size='scalable')) = 10.335\n",
      "2025-06-11 10:19:46,266 - matplotlib.font_manager - DEBUG - findfont: score(FontEntry(fname='/System/Library/Fonts/Supplemental/NotoSerifBalinese-Regular.ttf', name='Noto Serif Balinese', style='normal', variant='normal', weight=400, stretch='normal', size='scalable')) = 10.05\n",
      "2025-06-11 10:19:46,266 - matplotlib.font_manager - DEBUG - findfont: score(FontEntry(fname='/System/Library/Fonts/Supplemental/Bodoni 72.ttc', name='Bodoni 72', style='normal', variant='normal', weight=400, stretch='normal', size='scalable')) = 10.05\n",
      "2025-06-11 10:19:46,266 - matplotlib.font_manager - DEBUG - findfont: score(FontEntry(fname='/System/Library/Fonts/Supplemental/Bangla Sangam MN.ttc', name='Bangla Sangam MN', style='normal', variant='normal', weight=400, stretch='normal', size='scalable')) = 10.05\n",
      "2025-06-11 10:19:46,266 - matplotlib.font_manager - DEBUG - findfont: score(FontEntry(fname='/System/Library/Fonts/Supplemental/Tamil MN.ttc', name='Tamil MN', style='normal', variant='normal', weight=400, stretch='normal', size='scalable')) = 10.05\n",
      "2025-06-11 10:19:46,266 - matplotlib.font_manager - DEBUG - findfont: score(FontEntry(fname='/System/Library/Fonts/Supplemental/NotoSansInscriptionalPahlavi-Regular.ttf', name='Noto Sans Inscriptional Pahlavi', style='normal', variant='normal', weight=400, stretch='normal', size='scalable')) = 10.05\n",
      "2025-06-11 10:19:46,266 - matplotlib.font_manager - DEBUG - findfont: score(FontEntry(fname='/Users/drago/Library/Fonts/Tinos for Powerline.ttf', name='Tinos for Powerline', style='normal', variant='normal', weight=400, stretch='normal', size='scalable')) = 10.05\n",
      "2025-06-11 10:19:46,267 - matplotlib.font_manager - DEBUG - findfont: score(FontEntry(fname='/System/Library/AssetsV2/com_apple_MobileAsset_Font7/bcc10b55c3b7418fc5920165ff7ae57b098762f0.asset/AssetData/OctoberCondensedDevanagari.ttc', name='October Condensed Devanagari', style='normal', variant='normal', weight=400, stretch='condensed', size='scalable')) = 10.25\n",
      "2025-06-11 10:19:46,267 - matplotlib.font_manager - DEBUG - findfont: score(FontEntry(fname='/Users/drago/Library/Fonts/Meslo LG M DZ Bold for Powerline.ttf', name='Meslo LG M DZ for Powerline', style='normal', variant='normal', weight=700, stretch='normal', size='scalable')) = 10.335\n",
      "2025-06-11 10:19:46,267 - matplotlib.font_manager - DEBUG - findfont: score(FontEntry(fname='/System/Library/Fonts/Supplemental/NotoSansSundanese-Regular.ttf', name='Noto Sans Sundanese', style='normal', variant='normal', weight=400, stretch='normal', size='scalable')) = 10.05\n",
      "2025-06-11 10:19:46,267 - matplotlib.font_manager - DEBUG - findfont: score(FontEntry(fname='/System/Library/Fonts/Supplemental/Courier New Bold.ttf', name='Courier New', style='normal', variant='normal', weight=700, stretch='normal', size='scalable')) = 10.335\n",
      "2025-06-11 10:19:46,268 - matplotlib.font_manager - DEBUG - findfont: score(FontEntry(fname='/System/Library/Fonts/Supplemental/Galvji.ttc', name='Galvji', style='normal', variant='normal', weight=400, stretch='normal', size='scalable')) = 10.05\n",
      "2025-06-11 10:19:46,268 - matplotlib.font_manager - DEBUG - findfont: score(FontEntry(fname='/System/Library/AssetsV2/com_apple_MobileAsset_Font7/e28431125242b9a298de3296370abdab4a7e8666.asset/AssetData/YuppyTC-Regular.otf', name='Yuppy TC', style='normal', variant='normal', weight=500, stretch='normal', size='scalable')) = 10.145\n",
      "2025-06-11 10:19:46,268 - matplotlib.font_manager - DEBUG - findfont: score(FontEntry(fname='/System/Library/Fonts/Supplemental/Silom.ttf', name='Silom', style='normal', variant='normal', weight=400, stretch='normal', size='scalable')) = 10.05\n",
      "2025-06-11 10:19:46,268 - matplotlib.font_manager - DEBUG - findfont: score(FontEntry(fname='/Users/drago/Library/Fonts/Meslo LG M DZ Regular for Powerline.ttf', name='Meslo LG M DZ for Powerline', style='normal', variant='normal', weight=400, stretch='normal', size='scalable')) = 10.05\n",
      "2025-06-11 10:19:46,268 - matplotlib.font_manager - DEBUG - findfont: score(FontEntry(fname='/Library/Fonts/RODE Noto Sans CJK SC B.otf', name='RODE Noto Sans CJK SC B', style='normal', variant='normal', weight=700, stretch='normal', size='scalable')) = 10.335\n",
      "2025-06-11 10:19:46,268 - matplotlib.font_manager - DEBUG - findfont: score(FontEntry(fname='/System/Library/AssetsV2/com_apple_MobileAsset_Font7/61787c319c1b3c6b58cf3b7be6a78ab8f09610b0.asset/AssetData/LavaDevanagari.ttc', name='Lava Devanagari', style='normal', variant='normal', weight=400, stretch='normal', size='scalable')) = 10.05\n",
      "2025-06-11 10:19:46,269 - matplotlib.font_manager - DEBUG - findfont: score(FontEntry(fname='/System/Library/Fonts/Supplemental/NotoSansKayahLi-Regular.ttf', name='Noto Sans Kayah Li', style='normal', variant='normal', weight=400, stretch='normal', size='scalable')) = 10.05\n",
      "2025-06-11 10:19:46,269 - matplotlib.font_manager - DEBUG - findfont: score(FontEntry(fname='/System/Library/AssetsV2/com_apple_MobileAsset_Font7/7722fac06d2ccff23ed22b9ab921460b835e3e8c.asset/AssetData/K2D.ttc', name='K2D', style='normal', variant='normal', weight=400, stretch='normal', size='scalable')) = 10.05\n",
      "2025-06-11 10:19:46,269 - matplotlib.font_manager - DEBUG - findfont: score(FontEntry(fname='/System/Library/Fonts/Supplemental/Athelas.ttc', name='Athelas', style='normal', variant='normal', weight=400, stretch='normal', size='scalable')) = 10.05\n",
      "2025-06-11 10:19:46,269 - matplotlib.font_manager - DEBUG - findfont: score(FontEntry(fname='/Users/drago/Library/Fonts/Source Code Pro Powerline MediumItalic.otf', name='Source Code Pro for Powerline', style='italic', variant='normal', weight=500, stretch='normal', size='scalable')) = 11.145\n",
      "2025-06-11 10:19:46,269 - matplotlib.font_manager - DEBUG - findfont: score(FontEntry(fname='/Users/drago/Library/Fonts/Source Code Pro Bold for Powerline.otf', name='Source Code Pro for Powerline', style='normal', variant='normal', weight=700, stretch='normal', size='scalable')) = 10.335\n",
      "2025-06-11 10:19:46,269 - matplotlib.font_manager - DEBUG - findfont: score(FontEntry(fname='/System/Library/Fonts/Supplemental/Chalkduster.ttf', name='Chalkduster', style='normal', variant='normal', weight=400, stretch='normal', size='scalable')) = 10.05\n",
      "2025-06-11 10:19:46,270 - matplotlib.font_manager - DEBUG - findfont: score(FontEntry(fname='/System/Library/Fonts/Keyboard.ttf', name='.Keyboard', style='normal', variant='normal', weight=100, stretch='normal', size='scalable')) = 10.335\n",
      "2025-06-11 10:19:46,270 - matplotlib.font_manager - DEBUG - findfont: score(FontEntry(fname='/System/Library/AssetsV2/com_apple_MobileAsset_Font7/f879347736afb6e4e0880bcede9df92492c0f040.asset/AssetData/Gungseouche.ttf', name='GungSeo', style='normal', variant='normal', weight=400, stretch='normal', size='scalable')) = 10.05\n",
      "2025-06-11 10:19:46,270 - matplotlib.font_manager - DEBUG - findfont: score(FontEntry(fname='/Users/drago/Library/Fonts/3270Narrow.ttf', name='IBM 3270 Narrow', style='normal', variant='normal', weight=500, stretch='condensed', size='scalable')) = 10.344999999999999\n",
      "2025-06-11 10:19:46,270 - matplotlib.font_manager - DEBUG - findfont: score(FontEntry(fname='/System/Library/AssetsV2/com_apple_MobileAsset_Font7/3bb2b094c32bc9d099cf35991196533643e07a1b.asset/AssetData/Kavivanar-regular.ttf', name='Kavivanar', style='normal', variant='normal', weight=400, stretch='normal', size='scalable')) = 10.05\n",
      "2025-06-11 10:19:46,270 - matplotlib.font_manager - DEBUG - findfont: score(FontEntry(fname='/System/Library/Fonts/Supplemental/STIXSizFourSymReg.otf', name='STIXSizeFourSym', style='normal', variant='normal', weight=400, stretch='normal', size='scalable')) = 10.05\n",
      "2025-06-11 10:19:46,271 - matplotlib.font_manager - DEBUG - findfont: score(FontEntry(fname='/System/Library/AssetsV2/com_apple_MobileAsset_Font7/7d11a843ce6ea814272f146b6a905de9d0b35dab.asset/AssetData/Produkt.ttc', name='Produkt', style='normal', variant='normal', weight=400, stretch='normal', size='scalable')) = 10.05\n",
      "2025-06-11 10:19:46,271 - matplotlib.font_manager - DEBUG - findfont: score(FontEntry(fname='/System/Library/Fonts/Supplemental/NotoSansOldPersian-Regular.ttf', name='Noto Sans Old Persian', style='normal', variant='normal', weight=400, stretch='normal', size='scalable')) = 10.05\n",
      "2025-06-11 10:19:46,271 - matplotlib.font_manager - DEBUG - findfont: score(FontEntry(fname='/System/Library/AssetsV2/com_apple_MobileAsset_Font7/c39bb000ee8346030de447218a19e8a37c901b3c.asset/AssetData/TiroMarathi.ttc', name='Tiro Devanagari Marathi', style='normal', variant='normal', weight=400, stretch='normal', size='scalable')) = 10.05\n",
      "2025-06-11 10:19:46,271 - matplotlib.font_manager - DEBUG - findfont: score(FontEntry(fname='/Users/drago/Library/Fonts/Roboto Mono Light Italic for Powerline.ttf', name='Roboto Mono Light for Powerline', style='italic', variant='normal', weight=300, stretch='normal', size='scalable')) = 11.145\n",
      "2025-06-11 10:19:46,272 - matplotlib.font_manager - DEBUG - findfont: score(FontEntry(fname='/System/Library/AssetsV2/com_apple_MobileAsset_Font7/7cc6c684c40b997bfac55b2647ca929ca521792d.asset/AssetData/MuktaMalar-Tamil.ttc', name='Mukta Malar', style='normal', variant='normal', weight=700, stretch='normal', size='scalable')) = 10.335\n",
      "2025-06-11 10:19:46,272 - matplotlib.font_manager - DEBUG - findfont: score(FontEntry(fname='/System/Library/AssetsV2/com_apple_MobileAsset_Font7/8739f5cf483d3b2f04cbb451d310b68f0cf880d0.asset/AssetData/ToppanBunkyuMinchoPr6N-Regular.otf', name='Toppan Bunkyu Mincho', style='normal', variant='normal', weight=400, stretch='normal', size='scalable')) = 10.05\n",
      "2025-06-11 10:19:46,272 - matplotlib.font_manager - DEBUG - findfont: score(FontEntry(fname='/System/Library/Fonts/Supplemental/STIXNonUniBol.otf', name='STIXNonUnicode', style='normal', variant='normal', weight=700, stretch='normal', size='scalable')) = 10.335\n",
      "2025-06-11 10:19:46,272 - matplotlib.font_manager - DEBUG - findfont: Matching sans\\-serif:style=normal:variant=normal:weight=normal:stretch=normal:size=10.0 to Arial ('/System/Library/Fonts/Supplemental/Arial.ttf') with score of 0.050000.\n"
     ]
    },
    {
     "data": {
      "text/plain": [
       "<Axes: xlabel='Metric', ylabel='Score'>"
      ]
     },
     "execution_count": 99,
     "metadata": {},
     "output_type": "execute_result"
    },
    {
     "data": {
      "text/plain": [
       "<Figure size 640x480 with 1 Axes>"
      ],
      "image/png": "[encoded data removed]"
     },
     "metadata": {},
     "output_type": "display_data"
    }
   ],
   "execution_count": 99
  },
  {
   "metadata": {},
   "cell_type": "markdown",
   "source": [
    "Including the semantic context from ontologies yielded almost a 3 fold increase over the version where we only passed the named entities as context achieving an F1-score of 0.44 (precision = 0.33, recall = 0.67).\n",
    "\n",
    "The extracted relationships show a marked improvement in both accuracy and semantic coherence:\n",
    "```\n",
    "Hepatocyte nuclear factor-6 -> association -> genetic variability\n",
    "Hepatocyte nuclear factor-6 -> association -> Type II diabetes\n",
    "Hepatocyte nuclear factor-6 -> association -> maturity-onset diabetes of the young\n",
    "Hepatocyte nuclear factor-6 -> association -> late-onset Type II diabetes\n",
    "Hepatocyte nuclear factor-6 -> association -> estimates of insulin secretion\n",
    "Hepatocyte nuclear factor-6 -> is a biomarker for -> Type II diabetes\n",
    "```\n",
    "The model identifies correctly the central role of Hepatocyte nuclear factor-6 from the paper and appropriately uses domain-appropriate predicates like \"association\" and \"is a biomarker for.\" However, the system still missed some key relationships present in the text, particularly `('glucose', 'Positive_Correlation', 'insulin')` and `('glucose', 'Association', 'type II diabetes')`. This phenomenon is captured by the relatively low precision (0.33) suggesting that some relationships are over inferred or extracted incorrectly.\n",
    "\n",
    "# Future improvements\n",
    "\n",
    "Currently, we're only providing the ontological context as raw text through an isa relationship but the llm is not able to process these relationships optimally as shown from the low precision however if we have:\n",
    "1. **Embedding-Based Context Integration**: Pre-compute embeddings for ontological terms and their relationships, then use similarity search to dynamically select the most relevant ontological term and relationships for each abstract. We can also prioritise ontological terms and relationships based on what is more likely to improve the extracted information.\n",
    "2. **Hierarchical Embedding Structures**: Use an embedding space that preserve parent-child relationships, ensuring that semantically related terms cluster appropriately in the vector space\n",
    "3. **Multi Modal Model Fusion**: Build a model that fuses the structured graph relationships to the llm embedding\n"
   ],
   "id": "835a0857f7aedc85"
  },
  {
   "metadata": {},
   "cell_type": "code",
   "outputs": [],
   "execution_count": null,
   "source": "",
   "id": "4ff85b4a4be84d93"
  }
 ],
 "metadata": {
  "kernelspec": {
   "display_name": "Python 3",
   "language": "python",
   "name": "python3"
  },
  "language_info": {
   "codemirror_mode": {
    "name": "ipython",
    "version": 2
   },
   "file_extension": ".py",
   "mimetype": "text/x-python",
   "name": "python",
   "nbconvert_exporter": "python",
   "pygments_lexer": "ipython2",
   "version": "2.7.6"
  }
 },
 "nbformat": 4,
 "nbformat_minor": 5
}
