{
 "cells": [
  {
   "cell_type": "code",
   "id": "initial_id",
   "metadata": {
    "collapsed": true,
    "ExecuteTime": {
     "end_time": "2025-06-04T18:27:43.380066Z",
     "start_time": "2025-06-04T18:27:42.927456Z"
    }
   },
   "source": "from knowledge_engine.ontology_manager import OntologyManager",
   "outputs": [
    {
     "name": "stdout",
     "output_type": "stream",
     "text": [
      "Could not load one or more modules  No module named 'geniatagger'\n"
     ]
    }
   ],
   "execution_count": 1
  },
  {
   "metadata": {
    "ExecuteTime": {
     "end_time": "2025-06-04T18:28:37.051639Z",
     "start_time": "2025-06-04T18:28:25.232971Z"
    }
   },
   "cell_type": "code",
   "source": "om = OntologyManager()",
   "id": "a6770a806e7a7c33",
   "outputs": [
    {
     "name": "stdout",
     "output_type": "stream",
     "text": [
      "Loading mondo...\n",
      "✅ mondo: 56695 terms\n",
      "Loading hp...\n",
      "2025-06-04 20:28:29,446 - chardet.charsetprober - DEBUG - EUC-TW Taiwan prober hit error at byte 989\n",
      "2025-06-04 20:28:29,460 - chardet.charsetprober - DEBUG - utf-8  confidence = 0.505\n",
      "2025-06-04 20:28:29,460 - chardet.charsetprober - DEBUG - SHIFT_JIS Japanese confidence = 0.01\n",
      "2025-06-04 20:28:29,460 - chardet.charsetprober - DEBUG - EUC-JP Japanese confidence = 0.01\n",
      "2025-06-04 20:28:29,460 - chardet.charsetprober - DEBUG - GB2312 Chinese confidence = 0.01\n",
      "2025-06-04 20:28:29,460 - chardet.charsetprober - DEBUG - EUC-KR Korean confidence = 0.01\n",
      "2025-06-04 20:28:29,461 - chardet.charsetprober - DEBUG - CP949 Korean confidence = 0.01\n",
      "2025-06-04 20:28:29,461 - chardet.charsetprober - DEBUG - Big5 Chinese confidence = 0.01\n",
      "2025-06-04 20:28:29,461 - chardet.charsetprober - DEBUG - EUC-TW not active\n",
      "2025-06-04 20:28:29,461 - chardet.charsetprober - DEBUG - Johab Korean confidence = 0.01\n",
      "2025-06-04 20:28:29,461 - chardet.charsetprober - DEBUG - windows-1251 Russian confidence = 0.01\n",
      "2025-06-04 20:28:29,462 - chardet.charsetprober - DEBUG - KOI8-R Russian confidence = 0.01\n",
      "2025-06-04 20:28:29,462 - chardet.charsetprober - DEBUG - ISO-8859-5 Russian confidence = 0.0\n",
      "2025-06-04 20:28:29,462 - chardet.charsetprober - DEBUG - MacCyrillic Russian confidence = 0.01\n",
      "2025-06-04 20:28:29,462 - chardet.charsetprober - DEBUG - IBM866 Russian confidence = 0.01\n",
      "2025-06-04 20:28:29,462 - chardet.charsetprober - DEBUG - IBM855 Russian confidence = 0.01\n",
      "2025-06-04 20:28:29,462 - chardet.charsetprober - DEBUG - ISO-8859-7 Greek confidence = 0.0\n",
      "2025-06-04 20:28:29,463 - chardet.charsetprober - DEBUG - windows-1253 Greek confidence = 0.01\n",
      "2025-06-04 20:28:29,463 - chardet.charsetprober - DEBUG - ISO-8859-5 Bulgarian confidence = 0.0\n",
      "2025-06-04 20:28:29,463 - chardet.charsetprober - DEBUG - windows-1251 Bulgarian confidence = 0.01\n",
      "2025-06-04 20:28:29,463 - chardet.charsetprober - DEBUG - TIS-620 Thai confidence = 0.30841818174528296\n",
      "2025-06-04 20:28:29,463 - chardet.charsetprober - DEBUG - ISO-8859-9 Turkish confidence = 0.5675051308463018\n",
      "2025-06-04 20:28:29,464 - chardet.charsetprober - DEBUG - windows-1255 Hebrew confidence = 0.0\n",
      "2025-06-04 20:28:29,464 - chardet.charsetprober - DEBUG - windows-1255 Hebrew confidence = 0.10888457480138002\n",
      "2025-06-04 20:28:29,464 - chardet.charsetprober - DEBUG - windows-1255 Hebrew confidence = 0.10888457480138002\n",
      "✅ hp: 19653 terms\n",
      "Loading chebi...\n",
      "❌ Failed to load chebi: expected EOL or QuotedString (chebi.obo, line 3209414)\n",
      "Loading go...\n",
      "✅ go: 48041 terms\n",
      "Loading cl...\n",
      "❌ Failed to load cl: expected EOL, QuotedString, RFC3987_IriPctEncoded, or RFC3987_IriUCSChar (cl.obo, line 181636)\n",
      "Loading uberon...\n",
      "❌ Failed to load uberon: expected EOL, QuotedString, RFC3987_IriPctEncoded, or RFC3987_IriUCSChar (uberon.obo, line 166503)\n",
      "Loading doid...\n",
      "✅ doid: 14387 terms\n"
     ]
    }
   ],
   "execution_count": 3
  },
  {
   "metadata": {
    "ExecuteTime": {
     "end_time": "2025-06-05T06:03:29.726823Z",
     "start_time": "2025-06-05T06:03:29.386910Z"
    }
   },
   "cell_type": "code",
   "source": "res = om.search_ontology('Mellitus', 'mondo', 20)",
   "id": "424e7eb7dcb7772b",
   "outputs": [],
   "execution_count": 7
  },
  {
   "metadata": {
    "ExecuteTime": {
     "end_time": "2025-06-05T06:03:32.553911Z",
     "start_time": "2025-06-05T06:03:32.547737Z"
    }
   },
   "cell_type": "code",
   "source": "res[0]",
   "id": "48acf307dad912e5",
   "outputs": [
    {
     "data": {
      "text/plain": [
       "OntologyMatch(entity_text='Mellitus', ontology_id='HP:0000819', canonical_name='Diabetes mellitus', biolink_type='Disease', confidence=0.8, synonyms=[], definition=None, parents=['Abnormality of the endocrine system', 'Glucose intolerance'], children=[])"
      ]
     },
     "execution_count": 8,
     "metadata": {},
     "output_type": "execute_result"
    }
   ],
   "execution_count": 8
  },
  {
   "metadata": {
    "ExecuteTime": {
     "end_time": "2025-06-05T06:05:52.019766Z",
     "start_time": "2025-06-05T06:05:51.240396Z"
    }
   },
   "cell_type": "code",
   "source": "om.validate_and_enrich_entity(res[0].canonical_name)",
   "id": "a8040d12e155331b",
   "outputs": [
    {
     "data": {
      "text/plain": [
       "[OntologyMatch(entity_text='Diabetes mellitus', ontology_id='HP:0000819', canonical_name='Diabetes mellitus', biolink_type='Disease', confidence=1.0, synonyms=[], definition=None, parents=['Abnormality of the endocrine system', 'Glucose intolerance'], children=[]),\n",
       " OntologyMatch(entity_text='Diabetes mellitus', ontology_id='MONDO:0005015', canonical_name='diabetes mellitus', biolink_type='Disease', confidence=1.0, synonyms=['diabetes', 'diabetes mellitus', 'DM', 'diabetes mellitus (disease)'], definition='A metabolic disorder characterized by abnormally high blood sugar levels due to diminished production of insulin or insulin resistance/desensitization.', parents=['endocrine pancreas disorder', 'glucose metabolism disease'], children=['type 1 diabetes mellitus', 'type 2 diabetes mellitus', 'gestational diabetes', 'maternally-inherited diabetes and deafness', 'diabetic ketoacidosis', 'monogenic diabetes']),\n",
       " OntologyMatch(entity_text='Diabetes mellitus', ontology_id='HP:0000819', canonical_name='Diabetes mellitus', biolink_type='PhenotypicFeature', confidence=1.0, synonyms=[], definition='A group of abnormalities characterized by hyperglycemia and glucose intolerance.', parents=['Abnormality of the endocrine system', 'Glucose intolerance'], children=['Insulin-resistant diabetes mellitus', 'Diabetic ketoacidosis', 'Maturity-onset diabetes of the young', 'Type II diabetes mellitus', 'Type I diabetes mellitus']),\n",
       " OntologyMatch(entity_text='Diabetes mellitus', ontology_id='DOID:9351', canonical_name='diabetes mellitus', biolink_type='Disease', confidence=1.0, synonyms=['diabetes'], definition='A glucose metabolism disease that is characterized by chronic hyperglycaemia with disturbances of carbohydrate, fat and protein metabolism resulting from defects in insulin secretion, insulin action, or both.', parents=['glucose metabolism disease'], children=['maturity-onset diabetes of the young', 'gestational diabetes', 'neonatal diabetes mellitus', 'type 2 diabetes mellitus', 'type 1 diabetes mellitus']),\n",
       " OntologyMatch(entity_text='Diabetes mellitus', ontology_id='MONDO:0001344', canonical_name='obsolete neonatal diabetes mellitus', biolink_type='Disease', confidence=0.8, synonyms=[], definition=None, parents=[], children=[])]"
      ]
     },
     "execution_count": 11,
     "metadata": {},
     "output_type": "execute_result"
    }
   ],
   "execution_count": 11
  },
  {
   "metadata": {},
   "cell_type": "code",
   "outputs": [],
   "execution_count": null,
   "source": "",
   "id": "5a49c4ec1a9d4544"
  }
 ],
 "metadata": {
  "kernelspec": {
   "display_name": "Python 3",
   "language": "python",
   "name": "python3"
  },
  "language_info": {
   "codemirror_mode": {
    "name": "ipython",
    "version": 2
   },
   "file_extension": ".py",
   "mimetype": "text/x-python",
   "name": "python",
   "nbconvert_exporter": "python",
   "pygments_lexer": "ipython2",
   "version": "2.7.6"
  }
 },
 "nbformat": 4,
 "nbformat_minor": 5
}
