{
 "cells": [
  {
   "cell_type": "code",
   "id": "initial_id",
   "metadata": {
    "collapsed": true,
    "ExecuteTime": {
     "end_time": "2025-08-21T14:51:59.115937Z",
     "start_time": "2025-08-21T14:51:58.699256Z"
    }
   },
   "source": [
    "import pandas as pd\n",
    "from bioc import biocxml\n",
    "\n",
    "from knowledge_engine.models.ontology_match import OntologyMatch\n",
    "from knowledge_engine.models.stored_relationship import StoredRelationship\n",
    "from notebooks.processing_utils import parse_document\n",
    "from typing import Dict\n",
    "\n",
    "with open('../data/BioRED/Train.BioC.XML', 'r') as bio_red_file:\n",
    "    collection = biocxml.load(bio_red_file)"
   ],
   "outputs": [],
   "execution_count": 1
  },
  {
   "metadata": {
    "ExecuteTime": {
     "end_time": "2025-08-21T14:52:46.733560Z",
     "start_time": "2025-08-21T14:52:46.705186Z"
    }
   },
   "cell_type": "code",
   "source": "processed_dataset = pd.DataFrame([parse_document(doc) for doc in collection.documents])",
   "id": "d4f06a7116842458",
   "outputs": [],
   "execution_count": 2
  },
  {
   "metadata": {
    "ExecuteTime": {
     "end_time": "2025-08-21T14:53:14.032285Z",
     "start_time": "2025-08-21T14:53:14.028698Z"
    }
   },
   "cell_type": "code",
   "source": "processed_dataset.loc[0, 'relations']",
   "id": "81215a089673192f",
   "outputs": [
    {
     "data": {
      "text/plain": [
       "[StoredRelationship(subject=StoredEntity(text='Hepatocyte nuclear factor-6', canonical_name='Hepatocyte nuclear factor-6', ontology_id=None, biolink_type='GeneOrGeneProduct', confidence=1.0), predicate='Association', object=StoredEntity(text='type II diabetes', canonical_name='type II diabetes', ontology_id=None, biolink_type='DiseaseOrPhenotypicFeature', confidence=1.0), confidence=1, evidence=''),\n",
       " StoredRelationship(subject=StoredEntity(text='glucose', canonical_name='glucose', ontology_id=None, biolink_type='ChemicalEntity', confidence=1.0), predicate='Positive_Correlation', object=StoredEntity(text='insulin', canonical_name='insulin', ontology_id=None, biolink_type='GeneOrGeneProduct', confidence=1.0), confidence=1, evidence=''),\n",
       " StoredRelationship(subject=StoredEntity(text='glucose', canonical_name='glucose', ontology_id=None, biolink_type='ChemicalEntity', confidence=1.0), predicate='Association', object=StoredEntity(text='type II diabetes', canonical_name='type II diabetes', ontology_id=None, biolink_type='DiseaseOrPhenotypicFeature', confidence=1.0), confidence=1, evidence='')]"
      ]
     },
     "execution_count": 5,
     "metadata": {},
     "output_type": "execute_result"
    }
   ],
   "execution_count": 5
  },
  {
   "metadata": {
    "ExecuteTime": {
     "end_time": "2025-08-21T15:00:14.927935Z",
     "start_time": "2025-08-21T14:59:51.296445Z"
    }
   },
   "cell_type": "code",
   "source": [
    "from pathlib import Path\n",
    "from knowledge_engine import ontology_manager\n",
    "\n",
    "from deeponto.onto import Ontology\n",
    "\n",
    "ontologies = {\n",
    "    \"omim\": Ontology('./data/omim-ordo/omim.owl'),\n",
    "    \"ordo\": Ontology('./data/omim-ordo/ordo.owl')\n",
    "}\n"
   ],
   "id": "5b59fde379ccf6f7",
   "outputs": [
    {
     "name": "stdout",
     "output_type": "stream",
     "text": [
      "Please enter the maximum memory located to JVM [8g]:\n",
      "2025-08-21 17:00:08,482 - deeponto - INFO - 1024M maximum memory allocated to JVM.\n",
      "2025-08-21 17:00:08,482 - deeponto - INFO - JVM started successfully.\n"
     ]
    },
    {
     "name": "stderr",
     "output_type": "stream",
     "text": [
      "WARNING: A restricted method in java.lang.System has been called\n",
      "WARNING: java.lang.System::load has been called by org.jpype.JPypeContext in an unnamed module (file:/opt/homebrew/Caskroom/mambaforge/base/envs/ontosemantics/lib/python3.12/site-packages/org.jpype.jar)\n",
      "WARNING: Use --enable-native-access=ALL-UNNAMED to avoid a warning for callers in this module\n",
      "WARNING: Restricted methods will be blocked in a future release unless native access is enabled\n",
      "\n",
      "WARNING: A terminally deprecated method in sun.misc.Unsafe has been called\n",
      "WARNING: sun.misc.Unsafe::objectFieldOffset has been called by com.github.benmanes.caffeine.cache.UnsafeAccess (file:/opt/homebrew/Caskroom/mambaforge/base/envs/ontosemantics/lib/python3.12/site-packages/deeponto/lib/caffeine-2.8.6.jar)\n",
      "WARNING: Please consider reporting this to the maintainers of class com.github.benmanes.caffeine.cache.UnsafeAccess\n",
      "WARNING: sun.misc.Unsafe::objectFieldOffset will be removed in a future release\n"
     ]
    }
   ],
   "execution_count": 9
  },
  {
   "metadata": {},
   "cell_type": "code",
   "outputs": [],
   "execution_count": null,
   "source": "",
   "id": "7c97b6def1c8b4ff"
  },
  {
   "metadata": {
    "ExecuteTime": {
     "end_time": "2025-08-21T15:50:13.213480Z",
     "start_time": "2025-08-21T15:50:13.065451Z"
    }
   },
   "cell_type": "code",
   "source": [
    "from importlib import reload\n",
    "import ontology_utils\n",
    "reload(ontology_utils)\n",
    "\n",
    "def search_ontology(lookup: str, ontologies: dict[str, Ontology]):\n",
    "    lookup = lookup.lower()\n",
    "    for ontology in ontologies.keys():\n",
    "        for iri, term in ontologies['omim'].owl_classes.items():\n",
    "            annotations = ontologies['omim'].get_annotations(term)\n",
    "            if lookup in annotations:\n",
    "                yield ontology, iri, annotations, ontology_utils.get_all_relationships_for_entity(term, ontologies[ontology])\n",
    "\n",
    "next(search_ontology('aarskog syndrome, autosomal dominant', ontologies))"
   ],
   "id": "e0c8a1312f55189f",
   "outputs": [
    {
     "name": "stdout",
     "output_type": "stream",
     "text": [
      "Error getting annotation relationships: 'Cannot retrieve unknown IRI: http://www.w3.org/2000/01/rdf-schema#comment.'\n"
     ]
    },
    {
     "data": {
      "text/plain": [
       "('omim',\n",
       " 'http://omim.org/entry/100050',\n",
       " ['aarskog syndrome, autosomal dominant'],\n",
       " {'hierarchical': [],\n",
       "  'outgoing': [],\n",
       "  'incoming': [],\n",
       "  'annotations': [],\n",
       "  'equivalences': []})"
      ]
     },
     "execution_count": 43,
     "metadata": {},
     "output_type": "execute_result"
    }
   ],
   "execution_count": 43
  },
  {
   "metadata": {
    "ExecuteTime": {
     "end_time": "2025-08-21T17:10:40.459431Z",
     "start_time": "2025-08-21T17:10:40.268343Z"
    }
   },
   "cell_type": "code",
   "source": [
    "with open('../data/BioRED/Train.BioC.XML', 'r') as bio_red_file:\n",
    "    collection = biocxml.load(bio_red_file)"
   ],
   "id": "4df25e4b8726d2b0",
   "outputs": [],
   "execution_count": 46
  },
  {
   "metadata": {
    "ExecuteTime": {
     "end_time": "2025-08-21T17:11:12.604417Z",
     "start_time": "2025-08-21T17:11:12.600016Z"
    }
   },
   "cell_type": "code",
   "source": "processed_dataset.loc[0, 'relations'][0]",
   "id": "60ed697060834e89",
   "outputs": [
    {
     "data": {
      "text/plain": [
       "StoredRelationship(subject=StoredEntity(text='Hepatocyte nuclear factor-6', canonical_name='Hepatocyte nuclear factor-6', ontology_id=None, biolink_type='GeneOrGeneProduct', confidence=1.0), predicate='Association', object=StoredEntity(text='type II diabetes', canonical_name='type II diabetes', ontology_id=None, biolink_type='DiseaseOrPhenotypicFeature', confidence=1.0), confidence=1, evidence='')"
      ]
     },
     "execution_count": 50,
     "metadata": {},
     "output_type": "execute_result"
    }
   ],
   "execution_count": 50
  },
  {
   "metadata": {
    "ExecuteTime": {
     "end_time": "2025-08-21T17:14:08.324200Z",
     "start_time": "2025-08-21T17:14:08.319045Z"
    }
   },
   "cell_type": "code",
   "source": "from neo4j import GraphDatabase",
   "id": "8bf2944992fff453",
   "outputs": [],
   "execution_count": 53
  },
  {
   "metadata": {
    "ExecuteTime": {
     "end_time": "2025-08-21T17:14:40.001250Z",
     "start_time": "2025-08-21T17:14:39.995280Z"
    }
   },
   "cell_type": "code",
   "source": "gd = GraphDatabase()",
   "id": "1666f7de3aae5310",
   "outputs": [],
   "execution_count": 54
  },
  {
   "metadata": {
    "ExecuteTime": {
     "end_time": "2025-08-22T06:47:52.662528Z",
     "start_time": "2025-08-22T06:47:52.616399Z"
    }
   },
   "cell_type": "code",
   "source": "from processing_utils import Neo4jBiolinkLoader, load_multiple_documents",
   "id": "26ea0967bb64b2c3",
   "outputs": [],
   "execution_count": 55
  },
  {
   "metadata": {},
   "cell_type": "code",
   "outputs": [],
   "execution_count": null,
   "source": [
    "neo4j_config = {\n",
    "        'neo4j_uri': 'bolt://localhost:7687',\n",
    "        'neo4j_user': 'neo4j',\n",
    "        'neo4j_password': 'test12345'\n",
    "    }\n",
    "\n",
    "# Or load multiple documents\n",
    "document_batches = [\n",
    "        row[1] for row in processed_dataset.iterrows()\n",
    "        # Add more document batches...\n",
    "]\n",
    "\n",
    "load_multiple_documents(document_batches, **neo4j_config)"
   ],
   "id": "b62c6ed68f9a8ba6"
  }
 ],
 "metadata": {
  "kernelspec": {
   "display_name": "Python 3",
   "language": "python",
   "name": "python3"
  },
  "language_info": {
   "codemirror_mode": {
    "name": "ipython",
    "version": 2
   },
   "file_extension": ".py",
   "mimetype": "text/x-python",
   "name": "python",
   "nbconvert_exporter": "python",
   "pygments_lexer": "ipython2",
   "version": "2.7.6"
  }
 },
 "nbformat": 4,
 "nbformat_minor": 5
}
