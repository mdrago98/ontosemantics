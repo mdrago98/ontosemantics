{
 "cells": [
  {
   "cell_type": "code",
   "id": "initial_id",
   "metadata": {
    "collapsed": true,
    "ExecuteTime": {
     "end_time": "2025-10-11T15:17:35.017792Z",
     "start_time": "2025-10-11T15:17:35.016126Z"
    }
   },
   "source": [
    "from json import JSONDecodeError\n",
    "\n",
    "import pandas as pd\n",
    "from IPython.core.debugger import prompt"
   ],
   "outputs": [],
   "execution_count": 1
  },
  {
   "metadata": {
    "ExecuteTime": {
     "end_time": "2025-10-11T15:17:37.628644Z",
     "start_time": "2025-10-11T15:17:35.022251Z"
    }
   },
   "cell_type": "code",
   "source": [
    "from transformers import AutoTokenizer, AutoModel\n",
    "import torch"
   ],
   "id": "3964b95162af4151",
   "outputs": [],
   "execution_count": 2
  },
  {
   "metadata": {
    "ExecuteTime": {
     "end_time": "2025-10-11T15:17:38.926715Z",
     "start_time": "2025-10-11T15:17:37.632601Z"
    }
   },
   "cell_type": "code",
   "source": [
    "tokenizer = AutoTokenizer.from_pretrained(\"sentence-transformers/all-MiniLM-L6-v2\")\n",
    "model = AutoModel.from_pretrained(\"sentence-transformers/all-MiniLM-L6-v2\", torch_dtype=torch.float32)\n",
    "\n",
    "# Tokenize sentences\n",
    "# inputs = tokenizer(sentences, padding=True, truncation=True, return_tensors='pt')"
   ],
   "id": "97d8efc0e64f64a5",
   "outputs": [],
   "execution_count": 3
  },
  {
   "metadata": {
    "ExecuteTime": {
     "end_time": "2025-10-11T15:17:41.274039Z",
     "start_time": "2025-10-11T15:17:38.931661Z"
    }
   },
   "cell_type": "code",
   "source": [
    "import os\n",
    "os.environ.setdefault(\"PYTORCH_ENABLE_MPS_FALLBACK\", \"1\")  # allow CPU fallback for missing MPS ops\n",
    "\n",
    "import torch\n",
    "import numpy as np\n",
    "from transformers import AutoTokenizer, AutoModel\n",
    "\n",
    "device = torch.device(\"mps\" if torch.backends.mps.is_available() else \"cpu\")\n",
    "\n",
    "model.to(device)\n",
    "model.eval()\n",
    "\n",
    "@torch.no_grad()\n",
    "def meanpooling(model_output, attention_mask):\n",
    "    # model_output[0] -> last hidden states [B, L, H]\n",
    "    token_embs = model_output[0]\n",
    "    mask = attention_mask.unsqueeze(-1).type_as(token_embs)  # [B, L, 1] on same device + dtype\n",
    "    summed = (token_embs * mask).sum(dim=1)                 # [B, H]\n",
    "    counts = mask.sum(dim=1).clamp(min=1e-9)                # [B, 1]\n",
    "    return summed / counts\n",
    "\n",
    "def embed(texts):\n",
    "    \"\"\"\n",
    "    texts: str or List[str]\n",
    "    returns: np.ndarray [B, d] float32\n",
    "    \"\"\"\n",
    "    if isinstance(texts, str):\n",
    "        texts = [texts]\n",
    "    enc = tokenizer(texts, padding=True, truncation=True, return_tensors='pt')\n",
    "    # move inputs to MPS\n",
    "    enc = {k: v.to(device) for k, v in enc.items()}\n",
    "    # forward in fp32 (no autocast on MPS)\n",
    "    outputs = model(**enc)\n",
    "    embs = meanpooling(outputs, enc['attention_mask'])      # torch [B, d] on MPS\n",
    "    # IMPORTANT: materialize on CPU + contiguous before numpy\n",
    "    return embs.detach().to('cpu').contiguous().numpy().astype(np.float32)\n",
    "\n",
    "embed('EGFR inhibition reduces tumor growth in glioblastoma; however, resistance via PTEN loss emerges').shape"
   ],
   "id": "fa49228380c26d",
   "outputs": [
    {
     "data": {
      "text/plain": [
       "(1, 384)"
      ]
     },
     "execution_count": 4,
     "metadata": {},
     "output_type": "execute_result"
    }
   ],
   "execution_count": 4
  },
  {
   "metadata": {
    "ExecuteTime": {
     "end_time": "2025-10-11T15:17:54.509584Z",
     "start_time": "2025-10-11T15:17:45.205323Z"
    }
   },
   "cell_type": "code",
   "source": [
    "from pathlib import Path\n",
    "from knowledge_engine.ontology_manager import OntologyManager\n",
    "\n",
    "om = OntologyManager(use_owlready=False, use_pronto=True, ontology_dir=Path('../data/ontologies'))\n",
    "\n",
    "\n",
    "om.register_embedder(embed)\n"
   ],
   "id": "7558053743ab5027",
   "outputs": [
    {
     "name": "stdout",
     "output_type": "stream",
     "text": [
      "Loading ontologies...\n",
      "Loading mondo with pronto...\n"
     ]
    },
    {
     "name": "stderr",
     "output_type": "stream",
     "text": [
      "/Users/drago/PycharmProjects/bioengine/bioengine/knowledge_engine/ontology_manager.py:143: UnicodeWarning: unsound encoding, assuming utf-8 (99% confidence)\n",
      "  self.pronto_ontologies[onto_name] = pronto.Ontology(str(obo_file))\n",
      "huggingface/tokenizers: The current process just got forked, after parallelism has already been used. Disabling parallelism to avoid deadlocks...\n",
      "To disable this warning, you can either:\n",
      "\t- Avoid using `tokenizers` before the fork if possible\n",
      "\t- Explicitly set the environment variable TOKENIZERS_PARALLELISM=(true | false)\n"
     ]
    },
    {
     "name": "stdout",
     "output_type": "stream",
     "text": [
      "✅ mondo: 56695 terms\n",
      "Loading hp with pronto...\n",
      "2025-10-11 17:17:48,386 - chardet.charsetprober - DEBUG - EUC-TW Taiwan prober hit error at byte 989\n",
      "2025-10-11 17:17:48,399 - chardet.charsetprober - DEBUG - utf-8  confidence = 0.505\n",
      "2025-10-11 17:17:48,400 - chardet.charsetprober - DEBUG - SHIFT_JIS Japanese confidence = 0.01\n",
      "2025-10-11 17:17:48,400 - chardet.charsetprober - DEBUG - EUC-JP Japanese confidence = 0.01\n",
      "2025-10-11 17:17:48,400 - chardet.charsetprober - DEBUG - GB2312 Chinese confidence = 0.01\n",
      "2025-10-11 17:17:48,400 - chardet.charsetprober - DEBUG - EUC-KR Korean confidence = 0.01\n",
      "2025-10-11 17:17:48,401 - chardet.charsetprober - DEBUG - CP949 Korean confidence = 0.01\n",
      "2025-10-11 17:17:48,401 - chardet.charsetprober - DEBUG - Big5 Chinese confidence = 0.01\n",
      "2025-10-11 17:17:48,401 - chardet.charsetprober - DEBUG - EUC-TW not active\n",
      "2025-10-11 17:17:48,401 - chardet.charsetprober - DEBUG - Johab Korean confidence = 0.01\n",
      "2025-10-11 17:17:48,402 - chardet.charsetprober - DEBUG - windows-1251 Russian confidence = 0.01\n",
      "2025-10-11 17:17:48,402 - chardet.charsetprober - DEBUG - KOI8-R Russian confidence = 0.01\n",
      "2025-10-11 17:17:48,402 - chardet.charsetprober - DEBUG - ISO-8859-5 Russian confidence = 0.0\n",
      "2025-10-11 17:17:48,402 - chardet.charsetprober - DEBUG - MacCyrillic Russian confidence = 0.01\n",
      "2025-10-11 17:17:48,403 - chardet.charsetprober - DEBUG - IBM866 Russian confidence = 0.01\n",
      "2025-10-11 17:17:48,403 - chardet.charsetprober - DEBUG - IBM855 Russian confidence = 0.01\n",
      "2025-10-11 17:17:48,404 - chardet.charsetprober - DEBUG - ISO-8859-7 Greek confidence = 0.0\n",
      "2025-10-11 17:17:48,404 - chardet.charsetprober - DEBUG - windows-1253 Greek confidence = 0.01\n",
      "2025-10-11 17:17:48,404 - chardet.charsetprober - DEBUG - ISO-8859-5 Bulgarian confidence = 0.0\n",
      "2025-10-11 17:17:48,404 - chardet.charsetprober - DEBUG - windows-1251 Bulgarian confidence = 0.01\n",
      "2025-10-11 17:17:48,405 - chardet.charsetprober - DEBUG - TIS-620 Thai confidence = 0.30841818174528296\n",
      "2025-10-11 17:17:48,405 - chardet.charsetprober - DEBUG - ISO-8859-9 Turkish confidence = 0.5675051308463018\n",
      "2025-10-11 17:17:48,405 - chardet.charsetprober - DEBUG - windows-1255 Hebrew confidence = 0.0\n",
      "2025-10-11 17:17:48,405 - chardet.charsetprober - DEBUG - windows-1255 Hebrew confidence = 0.10888457480138002\n",
      "2025-10-11 17:17:48,406 - chardet.charsetprober - DEBUG - windows-1255 Hebrew confidence = 0.10888457480138002\n"
     ]
    },
    {
     "name": "stderr",
     "output_type": "stream",
     "text": [
      "/Users/drago/PycharmProjects/bioengine/bioengine/knowledge_engine/ontology_manager.py:143: UnicodeWarning: unsound encoding, assuming ISO-8859-1 (73% confidence)\n",
      "  self.pronto_ontologies[onto_name] = pronto.Ontology(str(obo_file))\n"
     ]
    },
    {
     "name": "stdout",
     "output_type": "stream",
     "text": [
      "✅ hp: 19653 terms\n",
      "Loading go with pronto...\n",
      "✅ go: 48106 terms\n",
      "Loading cl with pronto...\n",
      "❌ Failed to load cl with pronto: expected EOL, QuotedString, RFC3987_IriPctEncoded, or RFC3987_IriUCSChar (cl.obo, line 181636)\n",
      "Loading uberon with pronto...\n"
     ]
    },
    {
     "name": "stderr",
     "output_type": "stream",
     "text": [
      "/opt/homebrew/Caskroom/mambaforge/base/envs/ontosemantics/lib/python3.12/site-packages/pronto/parsers/_fastobo.py:49: NotImplementedWarning: cannot process `treat-xrefs-as-equivalent: AEO` macro\n",
      "  process_clause_header(clause, metadata, self.ont)\n",
      "/opt/homebrew/Caskroom/mambaforge/base/envs/ontosemantics/lib/python3.12/site-packages/pronto/parsers/_fastobo.py:49: NotImplementedWarning: cannot process `treat-xrefs-as-equivalent: BILA` macro\n",
      "  process_clause_header(clause, metadata, self.ont)\n",
      "/opt/homebrew/Caskroom/mambaforge/base/envs/ontosemantics/lib/python3.12/site-packages/pronto/parsers/_fastobo.py:49: NotImplementedWarning: cannot process `treat-xrefs-as-equivalent: BSPO` macro\n",
      "  process_clause_header(clause, metadata, self.ont)\n",
      "/opt/homebrew/Caskroom/mambaforge/base/envs/ontosemantics/lib/python3.12/site-packages/pronto/parsers/_fastobo.py:49: NotImplementedWarning: cannot process `treat-xrefs-as-equivalent: CARO` macro\n",
      "  process_clause_header(clause, metadata, self.ont)\n",
      "/opt/homebrew/Caskroom/mambaforge/base/envs/ontosemantics/lib/python3.12/site-packages/pronto/parsers/_fastobo.py:49: NotImplementedWarning: cannot process `treat-xrefs-as-equivalent: GO` macro\n",
      "  process_clause_header(clause, metadata, self.ont)\n",
      "/opt/homebrew/Caskroom/mambaforge/base/envs/ontosemantics/lib/python3.12/site-packages/pronto/parsers/_fastobo.py:49: NotImplementedWarning: cannot process `treat-xrefs-as-equivalent: OG` macro\n",
      "  process_clause_header(clause, metadata, self.ont)\n",
      "/opt/homebrew/Caskroom/mambaforge/base/envs/ontosemantics/lib/python3.12/site-packages/pronto/parsers/_fastobo.py:49: NotImplementedWarning: cannot process `treat-xrefs-as-equivalent: VSAO` macro\n",
      "  process_clause_header(clause, metadata, self.ont)\n",
      "/opt/homebrew/Caskroom/mambaforge/base/envs/ontosemantics/lib/python3.12/site-packages/pronto/parsers/_fastobo.py:49: NotImplementedWarning: cannot process `treat-xrefs-as-is_a: BFO` macro\n",
      "  process_clause_header(clause, metadata, self.ont)\n",
      "/opt/homebrew/Caskroom/mambaforge/base/envs/ontosemantics/lib/python3.12/site-packages/pronto/parsers/_fastobo.py:49: NotImplementedWarning: cannot process `treat-xrefs-as-is_a: VHOG` macro\n",
      "  process_clause_header(clause, metadata, self.ont)\n",
      "/opt/homebrew/Caskroom/mambaforge/base/envs/ontosemantics/lib/python3.12/site-packages/pronto/parsers/_fastobo.py:49: NotImplementedWarning: cannot process `treat-xrefs-as-has-subclass: EHDAA` macro\n",
      "  process_clause_header(clause, metadata, self.ont)\n",
      "/opt/homebrew/Caskroom/mambaforge/base/envs/ontosemantics/lib/python3.12/site-packages/pronto/parsers/_fastobo.py:49: NotImplementedWarning: cannot process `treat-xrefs-as-has-subclass: EV` macro\n",
      "  process_clause_header(clause, metadata, self.ont)\n",
      "/opt/homebrew/Caskroom/mambaforge/base/envs/ontosemantics/lib/python3.12/site-packages/pronto/parsers/_fastobo.py:49: NotImplementedWarning: cannot process `treat-xrefs-as-has-subclass: NCIT` macro\n",
      "  process_clause_header(clause, metadata, self.ont)\n",
      "/opt/homebrew/Caskroom/mambaforge/base/envs/ontosemantics/lib/python3.12/site-packages/pronto/parsers/_fastobo.py:49: NotImplementedWarning: cannot process `treat-xrefs-as-has-subclass: OGES` macro\n",
      "  process_clause_header(clause, metadata, self.ont)\n",
      "/opt/homebrew/Caskroom/mambaforge/base/envs/ontosemantics/lib/python3.12/site-packages/pronto/parsers/_fastobo.py:49: NotImplementedWarning: cannot process `treat-xrefs-as-has-subclass: SCTID` macro\n",
      "  process_clause_header(clause, metadata, self.ont)\n",
      "/opt/homebrew/Caskroom/mambaforge/base/envs/ontosemantics/lib/python3.12/site-packages/pronto/parsers/_fastobo.py:49: NotImplementedWarning: cannot process `treat-xrefs-as-reverse-genus-differentia: AAO part_of NCBITaxon:8292` macro\n",
      "  process_clause_header(clause, metadata, self.ont)\n",
      "/opt/homebrew/Caskroom/mambaforge/base/envs/ontosemantics/lib/python3.12/site-packages/pronto/parsers/_fastobo.py:49: NotImplementedWarning: cannot process `treat-xrefs-as-reverse-genus-differentia: DHBA part_of NCBITaxon:9606` macro\n",
      "  process_clause_header(clause, metadata, self.ont)\n",
      "/opt/homebrew/Caskroom/mambaforge/base/envs/ontosemantics/lib/python3.12/site-packages/pronto/parsers/_fastobo.py:49: NotImplementedWarning: cannot process `treat-xrefs-as-reverse-genus-differentia: EHDAA2 part_of NCBITaxon:9606` macro\n",
      "  process_clause_header(clause, metadata, self.ont)\n",
      "/opt/homebrew/Caskroom/mambaforge/base/envs/ontosemantics/lib/python3.12/site-packages/pronto/parsers/_fastobo.py:49: NotImplementedWarning: cannot process `treat-xrefs-as-reverse-genus-differentia: EMAPA part_of NCBITaxon:10090` macro\n",
      "  process_clause_header(clause, metadata, self.ont)\n",
      "/opt/homebrew/Caskroom/mambaforge/base/envs/ontosemantics/lib/python3.12/site-packages/pronto/parsers/_fastobo.py:49: NotImplementedWarning: cannot process `treat-xrefs-as-reverse-genus-differentia: FBdv part_of NCBITaxon:7227` macro\n",
      "  process_clause_header(clause, metadata, self.ont)\n",
      "/opt/homebrew/Caskroom/mambaforge/base/envs/ontosemantics/lib/python3.12/site-packages/pronto/parsers/_fastobo.py:49: NotImplementedWarning: cannot process `treat-xrefs-as-reverse-genus-differentia: FMA part_of NCBITaxon:9606` macro\n",
      "  process_clause_header(clause, metadata, self.ont)\n",
      "/opt/homebrew/Caskroom/mambaforge/base/envs/ontosemantics/lib/python3.12/site-packages/pronto/parsers/_fastobo.py:49: NotImplementedWarning: cannot process `treat-xrefs-as-reverse-genus-differentia: HAO part_of NCBITaxon:7399` macro\n",
      "  process_clause_header(clause, metadata, self.ont)\n",
      "/opt/homebrew/Caskroom/mambaforge/base/envs/ontosemantics/lib/python3.12/site-packages/pronto/parsers/_fastobo.py:49: NotImplementedWarning: cannot process `treat-xrefs-as-reverse-genus-differentia: HBA part_of NCBITaxon:9606` macro\n",
      "  process_clause_header(clause, metadata, self.ont)\n",
      "/opt/homebrew/Caskroom/mambaforge/base/envs/ontosemantics/lib/python3.12/site-packages/pronto/parsers/_fastobo.py:49: NotImplementedWarning: cannot process `treat-xrefs-as-reverse-genus-differentia: KUPO part_of NCBITaxon:9606` macro\n",
      "  process_clause_header(clause, metadata, self.ont)\n",
      "/opt/homebrew/Caskroom/mambaforge/base/envs/ontosemantics/lib/python3.12/site-packages/pronto/parsers/_fastobo.py:49: NotImplementedWarning: cannot process `treat-xrefs-as-reverse-genus-differentia: MA part_of NCBITaxon:10090` macro\n",
      "  process_clause_header(clause, metadata, self.ont)\n",
      "/opt/homebrew/Caskroom/mambaforge/base/envs/ontosemantics/lib/python3.12/site-packages/pronto/parsers/_fastobo.py:49: NotImplementedWarning: cannot process `treat-xrefs-as-reverse-genus-differentia: MFO part_of NCBITaxon:8089` macro\n",
      "  process_clause_header(clause, metadata, self.ont)\n",
      "/opt/homebrew/Caskroom/mambaforge/base/envs/ontosemantics/lib/python3.12/site-packages/pronto/parsers/_fastobo.py:49: NotImplementedWarning: cannot process `treat-xrefs-as-reverse-genus-differentia: PBA part_of NCBITaxon:9443` macro\n",
      "  process_clause_header(clause, metadata, self.ont)\n",
      "/opt/homebrew/Caskroom/mambaforge/base/envs/ontosemantics/lib/python3.12/site-packages/pronto/parsers/_fastobo.py:49: NotImplementedWarning: cannot process `treat-xrefs-as-reverse-genus-differentia: SPD part_of NCBITaxon:6893` macro\n",
      "  process_clause_header(clause, metadata, self.ont)\n",
      "/opt/homebrew/Caskroom/mambaforge/base/envs/ontosemantics/lib/python3.12/site-packages/pronto/parsers/_fastobo.py:49: NotImplementedWarning: cannot process `treat-xrefs-as-reverse-genus-differentia: TADS part_of NCBITaxon:6939` macro\n",
      "  process_clause_header(clause, metadata, self.ont)\n",
      "/opt/homebrew/Caskroom/mambaforge/base/envs/ontosemantics/lib/python3.12/site-packages/pronto/parsers/_fastobo.py:49: NotImplementedWarning: cannot process `treat-xrefs-as-reverse-genus-differentia: TAO part_of NCBITaxon:32443` macro\n",
      "  process_clause_header(clause, metadata, self.ont)\n",
      "/opt/homebrew/Caskroom/mambaforge/base/envs/ontosemantics/lib/python3.12/site-packages/pronto/parsers/_fastobo.py:49: NotImplementedWarning: cannot process `treat-xrefs-as-reverse-genus-differentia: TGMA part_of NCBITaxon:44484` macro\n",
      "  process_clause_header(clause, metadata, self.ont)\n",
      "/opt/homebrew/Caskroom/mambaforge/base/envs/ontosemantics/lib/python3.12/site-packages/pronto/parsers/_fastobo.py:49: NotImplementedWarning: cannot process `treat-xrefs-as-reverse-genus-differentia: WBbt part_of NCBITaxon:6237` macro\n",
      "  process_clause_header(clause, metadata, self.ont)\n",
      "/opt/homebrew/Caskroom/mambaforge/base/envs/ontosemantics/lib/python3.12/site-packages/pronto/parsers/_fastobo.py:49: NotImplementedWarning: cannot process `treat-xrefs-as-reverse-genus-differentia: WBls part_of NCBITaxon:6237` macro\n",
      "  process_clause_header(clause, metadata, self.ont)\n",
      "/opt/homebrew/Caskroom/mambaforge/base/envs/ontosemantics/lib/python3.12/site-packages/pronto/parsers/_fastobo.py:49: NotImplementedWarning: cannot process `treat-xrefs-as-reverse-genus-differentia: XAO part_of NCBITaxon:8353` macro\n",
      "  process_clause_header(clause, metadata, self.ont)\n",
      "/opt/homebrew/Caskroom/mambaforge/base/envs/ontosemantics/lib/python3.12/site-packages/pronto/parsers/_fastobo.py:49: NotImplementedWarning: cannot process `treat-xrefs-as-reverse-genus-differentia: ZFA part_of NCBITaxon:7954` macro\n",
      "  process_clause_header(clause, metadata, self.ont)\n",
      "/opt/homebrew/Caskroom/mambaforge/base/envs/ontosemantics/lib/python3.12/site-packages/pronto/parsers/_fastobo.py:49: NotImplementedWarning: cannot process `treat-xrefs-as-reverse-genus-differentia: ZFS part_of NCBITaxon:7954` macro\n",
      "  process_clause_header(clause, metadata, self.ont)\n"
     ]
    },
    {
     "name": "stdout",
     "output_type": "stream",
     "text": [
      "❌ Failed to load uberon with pronto: expected EOL, QuotedString, RFC3987_IriPctEncoded, or RFC3987_IriUCSChar (uberon.obo, line 166503)\n",
      "Building unified ontology graph...\n",
      "✅ Loaded 3 pronto + 0 owlready2 ontologies\n",
      "📊 Total terms in graph: 115313\n"
     ]
    }
   ],
   "execution_count": 5
  },
  {
   "metadata": {
    "ExecuteTime": {
     "end_time": "2025-10-11T15:17:54.531623Z",
     "start_time": "2025-10-11T15:17:54.529626Z"
    }
   },
   "cell_type": "code",
   "source": [
    "abstract = \"\"\"EGFR inhibition reduces tumor growth in glioblastoma; however, resistance via PTEN loss emerges...\"\"\"\n",
    "mentions = [\"glioblastoma\", \"EGFR\", \"PTEN\"]"
   ],
   "id": "6ff051b2547d1274",
   "outputs": [],
   "execution_count": 6
  },
  {
   "metadata": {
    "ExecuteTime": {
     "end_time": "2025-10-11T15:17:58.117357Z",
     "start_time": "2025-10-11T15:17:55.922097Z"
    }
   },
   "cell_type": "code",
   "source": [
    "print(embed('EGFR inhibition ...').shape)      # -> (1, d)\n",
    "print(embed(['a','b','c']).shape)              # -> (3, d)"
   ],
   "id": "d64dc0f8754d1509",
   "outputs": [
    {
     "name": "stdout",
     "output_type": "stream",
     "text": [
      "(1, 384)\n",
      "(3, 384)\n"
     ]
    }
   ],
   "execution_count": 7
  },
  {
   "metadata": {
    "ExecuteTime": {
     "end_time": "2025-10-11T15:18:04.733656Z",
     "start_time": "2025-10-11T15:18:04.543028Z"
    }
   },
   "cell_type": "code",
   "source": "om._build_text_corpus()",
   "id": "b44026884163aa58",
   "outputs": [],
   "execution_count": 8
  },
  {
   "metadata": {
    "ExecuteTime": {
     "end_time": "2025-10-11T15:18:05.153059Z",
     "start_time": "2025-10-11T15:18:05.150107Z"
    }
   },
   "cell_type": "code",
   "source": "# om.precompute_embeddings(batch_size=15)",
   "id": "ae5c1b7189a10c8e",
   "outputs": [],
   "execution_count": 9
  },
  {
   "metadata": {
    "ExecuteTime": {
     "end_time": "2025-10-11T15:18:05.594603Z",
     "start_time": "2025-10-11T15:18:05.591770Z"
    }
   },
   "cell_type": "code",
   "source": [
    "# np.savez_compressed(\"./data/ontology_embeddings.npz\",\n",
    "#                     ids=np.array(om._node_ids),\n",
    "#                     embs=om._node_embeddings)"
   ],
   "id": "816c8eac3779f750",
   "outputs": [],
   "execution_count": 10
  },
  {
   "metadata": {
    "ExecuteTime": {
     "end_time": "2025-10-11T15:18:08.574146Z",
     "start_time": "2025-10-11T15:18:07.828281Z"
    }
   },
   "cell_type": "code",
   "source": [
    "data = np.load(\"./data/ontology_embeddings.npz\", allow_pickle=True)\n",
    "om._node_ids = list(data['ids'])\n",
    "om._node_embeddings = data['embs']"
   ],
   "id": "14d68767b8137d1e",
   "outputs": [],
   "execution_count": 11
  },
  {
   "metadata": {
    "ExecuteTime": {
     "end_time": "2025-10-11T15:18:15.474414Z",
     "start_time": "2025-10-11T15:18:13.667290Z"
    }
   },
   "cell_type": "code",
   "source": [
    "latent = om.build_latent_subgraph(\n",
    "    text=abstract,\n",
    "    mentions=mentions,\n",
    "    top_k_retrieval=1500,\n",
    "    seed_top_k=80,\n",
    "    expand_hops=2,\n",
    "    final_top_k=160,\n",
    "    allowed_biolink_types={\"Disease\", \"ChemicalSubstance\", \"BiologicalProcess\", \"MolecularActivity\", \"Cell\"},\n",
    "    allowed_relations={\"is_a\", \"part_of\", \"regulates\", \"positively_regulates\", \"negatively_regulates\", \"has_part\"}\n",
    ")\n",
    "\n",
    "# node_ids, node_feats, edges = om.pack_for_model(latent)"
   ],
   "id": "e7e784ab93f405ef",
   "outputs": [],
   "execution_count": 12
  },
  {
   "metadata": {
    "ExecuteTime": {
     "end_time": "2025-10-11T14:56:03.815875Z",
     "start_time": "2025-10-11T14:56:03.610136Z"
    }
   },
   "cell_type": "code",
   "source": [
    "import bioc\n",
    "\n",
    "\n",
    "def parse_bioc_document(doc):\n",
    "    full_text = \"\".join(p.text or \"\" for p in doc.passages)\n",
    "    entities = {}\n",
    "    relations = []\n",
    "\n",
    "    for passage in doc.passages:\n",
    "        for ann in passage.annotations:\n",
    "            eid = ann.infons[\"identifier\"]\n",
    "            entities[eid] = {\n",
    "                \"text\": ann.text,\n",
    "                \"type\": ann.infons.get(\"type\", \"Entity\")\n",
    "            }\n",
    "    for rel in doc.relations:\n",
    "        h = entities.get(rel.infons['entity1'])\n",
    "        t = entities[rel.infons['entity2']]\n",
    "        p = rel.infons.get(\"type\", \"related_to\")\n",
    "        novel = rel.infons.get(\"novel\", 'No') != 'No'\n",
    "        if h and t and p:\n",
    "            relations.append((h, p, t, novel))\n",
    "\n",
    "    return {\n",
    "        \"text\": full_text,\n",
    "        \"entities\": entities,       # gold supervision\n",
    "        \"relations\": relations      # gold supervision\n",
    "    }\n",
    "\n",
    "with open('../data/BioRED/Train.BioC.XML', 'r', encoding='utf-8') as f:\n",
    "    collection = bioc.load(f)\n",
    "\n",
    "test = parse_bioc_document(collection.documents[0])\n",
    "test['relations']"
   ],
   "id": "9b284e3319daa89d",
   "outputs": [
    {
     "data": {
      "text/plain": [
       "[({'text': 'HNF-6', 'type': 'GeneOrGeneProduct'},\n",
       "  'Association',\n",
       "  {'text': 'Type II diabetes', 'type': 'DiseaseOrPhenotypicFeature'},\n",
       "  False),\n",
       " ({'text': 'glucose', 'type': 'ChemicalEntity'},\n",
       "  'Positive_Correlation',\n",
       "  {'text': 'insulin', 'type': 'GeneOrGeneProduct'},\n",
       "  False),\n",
       " ({'text': 'glucose', 'type': 'ChemicalEntity'},\n",
       "  'Association',\n",
       "  {'text': 'Type II diabetes', 'type': 'DiseaseOrPhenotypicFeature'},\n",
       "  False)]"
      ]
     },
     "execution_count": 21,
     "metadata": {},
     "output_type": "execute_result"
    }
   ],
   "execution_count": 21
  },
  {
   "metadata": {},
   "cell_type": "code",
   "outputs": [],
   "execution_count": null,
   "source": "",
   "id": "8f7d2a05337f8e38"
  }
 ],
 "metadata": {
  "kernelspec": {
   "display_name": "Python 3",
   "language": "python",
   "name": "python3"
  },
  "language_info": {
   "codemirror_mode": {
    "name": "ipython",
    "version": 2
   },
   "file_extension": ".py",
   "mimetype": "text/x-python",
   "name": "python",
   "nbconvert_exporter": "python",
   "pygments_lexer": "ipython2",
   "version": "2.7.6"
  }
 },
 "nbformat": 4,
 "nbformat_minor": 5
}
